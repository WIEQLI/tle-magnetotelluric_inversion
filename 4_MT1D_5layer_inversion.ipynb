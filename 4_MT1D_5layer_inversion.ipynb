{
 "cells": [
  {
   "cell_type": "markdown",
   "metadata": {},
   "source": [
    "**Getting Started**\n",
    "\n",
    "This tutorial relies on standard python packages as well as [SimPEG](http://simpeg.xyz). If you do not have SimPEG installed, you can uncomment the next line and install it from [pypi](https://pypi.python.org/pypi/SimPEG).\n",
    "\n",
    "The second package we are installing is [pymatsolver](https://github.com/rowanc1/pymatsolver), which interfaces to sparse matrix solvers. It is not required for the tutorial, we will fall-back to an LU solver, which is sufficient for this problem "
   ]
  },
  {
   "cell_type": "code",
   "execution_count": 1,
   "metadata": {
    "collapsed": true
   },
   "outputs": [],
   "source": [
    "# !pip install SimPEG\n",
    "# !pip install pymatsolver"
   ]
  },
  {
   "cell_type": "markdown",
   "metadata": {},
   "source": [
    "# Inversion: 1D Magnetotelluric Problem\n",
    "\n",
    "In the previous notebooks, we explored how to discretize the [1D MT problem](./1_MT1D_NumericalSetup.ipynb), how to design an appropriate mesh, and explored the [an example of non-uniquness](./2_MT1D_ForwardModellingAndNonuniqueness.ipynb). In this notebook, we will put those concepts to use and set up a 1D inversion. \n",
    "\n",
    "The aim of this notebook is to highlight the elements we use to set up and solve the inverse problem, in the notebook that follows this, we will dive futher into the impact of various parameter choices (eg. the trade-off parameter $\\beta$, the stopping criteria, noise model and regulariztion parameters). "
   ]
  },
  {
   "cell_type": "markdown",
   "metadata": {},
   "source": [
    "## Inversion as Optimization\n",
    "\n",
    "We will use deterministic approach and pose the inverse problem as an optimization problem of the form \n",
    "\n",
    "$$\n",
    "\\min_{\\mathbf{m}} \\phi(\\mathbf{m}) = \\phi_d(\\mathbf{m}) + \\beta\\phi_m(\\mathbf{m})\n",
    "$$\n",
    "\n",
    "where:\n",
    "- $\\mathbf{m}$ is our model - the vector of numbers that describes our earth model. It is what we are solving for in the inversion\n",
    "- $\\phi_d(\\mathbf{m})$ is the data misfit\n",
    "- $\\phi_m(\\mathbf{m})$ is the regularization\n",
    "- $\\beta$ is a trade-off parameter\n",
    "\n",
    "### Data Misfit\n",
    "\n",
    "The data misfit, $\\phi_d(\\mathbf{m})$, is often taken to be a weighted $\\ell_2$-norm, where the weights capture the noise model (eg. we want to assign higher weights and do a good job fitting data that we are confident are less noisy, and assign less weight / influence to data that are noisy). The $\\ell_2$ norm is the correct norm to choose when noise is Gaussian (or approximately Gaussian, or if you have no additional information and assume it is Gaussian). An $\\ell_2$ data misfit is captured mathematically by  \n",
    "\n",
    "$$\n",
    "\\phi_d(\\mathbf{m}) = \\frac{1}{2}\\|\\mathbf{W_d} (\\mathcal{F}(\\mathbf{m}) - \\mathbf{d}^{\\text{obs}})\\|^2\n",
    "$$\n",
    "\n",
    "where \n",
    "\n",
    "- $\\mathbf{W_d} = \\text{diag}(1/\\boldsymbol{\\epsilon})$ is a diagonal matrix with diagonal entries $1/\\epsilon_i$, where $\\epsilon_i$ is an estimated standard deviation of the $i$th datum.\n",
    "- $\\mathcal{F}$ is the forward modelling operator that simulates the 1D MT response given a model\n",
    "- $\\mathbf{m}$ is the model: the set of parameters which describe the physical properties of the layered earth\n",
    "- $\\mathbf{d}^{\\text{obs}}$ is the observed data\n",
    "\n",
    "(The factor of $1/2$ and the choice of using the squared-norm is a matter of convienence. We will be using gradient based optimzation methods, so it is easier to take derivatives of a norm squared than a norm.)\n",
    "\n",
    "### Regularization\n",
    "The inverse problem is an [ill posed problem](https://en.wikipedia.org/wiki/Well-posed_problem). There are multiple (actually infinitely many!) models that can fit the data.  There are a couple ways to observe this:\n",
    "\n",
    "- Mathematically: If we start by thinking about a linear problem $\\mathbf{G}\\mathbf{m} = \\mathbf{d}$, the matrix $\\mathbf{G}$ is wide, so it is not directly invertible (eg. see Matt Hall's [Linear Inversion Tutorial](http://library.seg.org/doi/full/10.1190/tle35121085.1)). Here, we are dealing with a non-linear system of equations, but the principle is the same. \n",
    "\n",
    "- An Example: In the [Forward Modelling and Nonuniqueness notebook](2_MT1D_ForwardModellingAndNonuniqueness.ipynb), we used forward modelling to demonstrate non-uniquness with the conductivity-thickness product of a single, conductive layer, and this is a very simple model compared to most geologic settings! \n",
    "\n",
    "Thus, to choose from the infinitely many solutions and arrive at a sensible one, we employ a regularization: $\\phi_m$. Tikhonov regularization, which again employs $\\ell_2$-norms, is a standard choice (It has a few nice features: it is convex and easy to differentiate). It takes the form: \n",
    "$$\n",
    "\\phi_m(\\mathbf{m}) = \\frac{1}{2}\\big(\\alpha_s\\|\\mathbf{W_s} (\\mathbf{m} - \\mathbf{m}_{\\text{ref}})\\|^2 + \\alpha_z\\|\\mathbf{W_z} (\\mathbf{m})\\|^2 \\big)\n",
    "$$\n",
    "\n",
    "The first term is often referred to as the \"smallness\" as it measures the \"size\" of the model (in the $\\ell_2$ sense). The matrix $\\mathbf{W_s}$ is generally taken to be a diagonal matrix that may contain information about the length scales of the model or be used to weight the relative importance of various parameters in the model. The scalar $\\alpha_s$ weights the relative importance of this term in the regularization. Notice that we include a reference model ($\\mathbf{m}_{\\text{ref}}$. Often this is defined as a constant value, but if more information is known about the background, that can be used to construct a reference model. Note that saying \"I am not going to use a reference model\" means that you are actually using $\\mathbf{m}_{\\text{ref}} = 0$, this is important to realize... in the inversion we demonstrate here, our `model` will be $\\mathbf{m} = \\text{log}(\\sigma)$. If we set $\\mathbf{m}_{\\text{ref}} = 0$, then we are favoring models close to 1 S/m - which is quite conductive! \n",
    "\n",
    "The second term is often referred to as the \"smoothness\". The matrix $\\mathbf{W_z}$ approximate the derivative of the model with respect to depth, and is hense a measure of how \"smooth\" the model is. The term $\\alpha_z$ weights its relative importance in the regularization. \n",
    "\n",
    "\n",
    "## In this notebook...\n",
    "\n",
    "Although we pose the inverse problem as an optimization problem, we aren't necessarily going to solve to a true minimum. There are always uncertainties with the data, so there is no point trying to drive $\\phi_d$ to its true minimium - we would end up introducing structures in the model to fit the data (we will explore this here). So another choice that has to be made when setting up an inversion is where to stop. \n",
    "\n",
    "In this notebook, we will walk through how to set up an inversion and discuss one of the knobs:\n",
    "- The $\\beta$ knob: How well should we fit the data verses the regularization? Which $\\beta$ value provides us the right balance? eg. When do we achieve the target misfit $\\phi_d^*$?\n",
    "- The $\\alpha$ knob: Tuning the **regularization** ($\\alpha_s$, $\\alpha_z$): how _smooth_ or _small_ (in the $\\ell_2$-sense) do we want our model to be?\n",
    "\n",
    "We will also point out other parameters you can explore the impact of, including, \n",
    "- starting model $\\mathbf{m}_0$\n",
    "- reference model $\\mathbf{m}_{\\text{ref}}$\n",
    "- designing a $\\beta$-cooling schedule\n",
    "\n",
    "In the [next notebook](./4_MT1D_5layer_inversion.ipynb) we will dive further into the $\\alpha$ knob. \n",
    "\n",
    "**A Note**\n",
    "\n",
    "We will employ second-order optimization methods, meaning we have to be able to both simulate data and compute derivatives. We will take those steps for granted in this notebook, but if you are curious to look under the hood and see how sensitivities are computed for this problem, have a look at the [Sensitivities Notebook](./Appendix_A_MT1D_Sensitivity.ipynb).  "
   ]
  },
  {
   "cell_type": "code",
   "execution_count": 2,
   "metadata": {
    "collapsed": true
   },
   "outputs": [],
   "source": [
    "from scipy.constants import mu_0\n",
    "import numpy as np\n",
    "import matplotlib.pyplot as plt\n",
    "\n",
    "from SimPEG import (\n",
    "    Mesh, Maps, SolverLU, DataMisfit, Regularization,\n",
    "    Optimization, InvProblem, Inversion, Directives, Utils\n",
    ")\n",
    "\n",
    "try:\n",
    "    from pymatsolver import PardisoSolver as Solver\n",
    "except importError:\n",
    "    from SimPEG import SolverLU as Solver\n",
    "    \n",
    "from MT1D import MT1DProblem, MT1DSurvey, MT1DSrc, ZxyRx, Survey, AppResPhaRx\n",
    "%matplotlib inline"
   ]
  },
  {
   "cell_type": "markdown",
   "metadata": {},
   "source": [
    "## Forward Simulation\n",
    "\n",
    "### Parmeters\n",
    "Now, we define our model parameters and survey setup. This includes defining\n",
    "- location of receivers\n",
    "- frequencies we are sampling\n",
    "- type of dat we are measuring (impedance or apparent resistivity and phase)\n",
    "\n",
    "Similar to the model shown in [1_MT1D_NumericalSetup.ipynb](./1_MT1D_NumericalSetup.ipynb) and [2_MT1D_ForwardModellingAndNonuniqueness](./2_MT1D_ForwardModellingAndNonuniqueness.ipynb). We will consider a model which consists of 5 units: "
   ]
  },
  {
   "cell_type": "code",
   "execution_count": null,
   "metadata": {
    "collapsed": true
   },
   "outputs": [],
   "source": [
    "d0, d1, d2, d3, d4 = 0., 600., 1991., 5786., 9786.\n",
    "rho0, rho1, rho2, rho3, rho4 = 250., 25, 100., 10., 25\n",
    "d = [d1, d2, d3, d4]\n",
    "rho = [rho1, rho2, rho3, rho4]\n",
    "\n",
    "layer_inds0 = np.logical_and(mesh.vectorCCx<-d0, mesh.vectorCCx>-d1)\n",
    "layer_inds1 = np.logical_and(mesh.vectorCCx<-d1, mesh.vectorCCx>-d2)\n",
    "layer_inds2 = np.logical_and(mesh.vectorCCx<-d2, mesh.vectorCCx>-d3)\n",
    "layer_inds3 = np.logical_and(mesh.vectorCCx<-d3, mesh.vectorCCx>-d4)\n",
    "layer_inds4 = mesh.vectorCCx<-d4\n",
    "\n",
    "sigma = np.ones(mesh.nC) * np.nan\n",
    "sigma[layer_inds0] = 1./rho0\n",
    "sigma[layer_inds1] = 1./rho1\n",
    "sigma[layer_inds2] = 1./rho2\n",
    "sigma[layer_inds3] = 1./rho3\n",
    "sigma[layer_inds4] = 1./rho4\n"
   ]
  },
  {
   "cell_type": "code",
   "execution_count": 3,
   "metadata": {},
   "outputs": [
    {
     "name": "stdout",
     "output_type": "stream",
     "text": [
      ">> Smallest cell size = 50 m\n",
      ">> Padding distance = 316227 m\n",
      ">> # of padding cells 17\n",
      ">> # of core cells cells 47\n"
     ]
    }
   ],
   "source": [
    "rxloc = np.r_[0.]\n",
    "srcloc = np.r_[0.]\n",
    "\n",
    "frequency = np.logspace(-3, 2, 25)\n",
    "rxType = \"Zxy\"\n",
    "if rxType == \"Zxy\":\n",
    "    rx = ZxyRx(rxloc, component=\"both\", frequency=frequency)\n",
    "    rxList = [rx]\n",
    "elif rxType == \"AppredPha\":\n",
    "    rx = AppResPhaRx(rxloc, component=\"both\", frequency=frequency)\n",
    "    rxList = [rx]\n",
    "src = MT1DSrc(rxList, loc=srcloc)\n",
    "survey = MT1DSurvey([src])\n",
    "max_depth_core = 15000.\n",
    "mesh = survey.setMesh(\n",
    "        sigma=0.01, max_depth_core=max_depth_core, ncell_per_skind=10, n_skind=2,\n",
    "        core_meshType = \"log\", max_hz_core=1000.\n",
    "                     )\n",
    "sigma = np.ones(mesh.nC) * 0.001\n",
    "prob = MT1DProblem(mesh, sigmaMap=Maps.ExpMap(mesh), verbose=False, Solver=Solver)\n",
    "prob.pair(survey)"
   ]
  },
  {
   "cell_type": "code",
   "execution_count": 4,
   "metadata": {
    "collapsed": true
   },
   "outputs": [],
   "source": [
    "def appres_phase_from_Zxy(pred, frequency):\n",
    "    Zr = pred.reshape((survey.nFreq, 2))[:,0]\n",
    "    Zi = pred.reshape((survey.nFreq, 2))[:,1]\n",
    "    Z = Zr + 1j*Zi\n",
    "    omega = frequency * 2 * np.pi\n",
    "    appres = abs(Z)**2 / (mu_0*omega) \n",
    "    phase = np.rad2deg(np.arctan(Z.imag / Z.real))\n",
    "    return appres, phase"
   ]
  },
  {
   "cell_type": "code",
   "execution_count": 5,
   "metadata": {
    "collapsed": true
   },
   "outputs": [],
   "source": [
    "def Zxy_from_appres_phase(zabs, phase, frequency):\n",
    "    Z = zabs * np.exp(1j*np.deg2rad(phase))\n",
    "    return np.c_[Z.real, Z.imag].flatten()"
   ]
  },
  {
   "cell_type": "code",
   "execution_count": 6,
   "metadata": {
    "collapsed": true
   },
   "outputs": [],
   "source": [
    "\n",
    "actinds = mesh.vectorCCx > -max_depth_core\n",
    "\n",
    "mtrue = np.log(sigma)\n",
    "dtrue = survey.dpred(mtrue)\n",
    "np.random.seed(1)\n",
    "\n",
    "std = 0.1\n",
    "# zr = dtrue.reshape((survey.nFreq, 2))[:,0]\n",
    "# zi = dtrue.reshape((survey.nFreq, 2))[:,1]\n",
    "# uncert_appres = abs(zr + 1j*zi)*std\n",
    "# uncert_phase = np.ones(survey.nFreq)*floor\n",
    "# uncert  = Zxy_from_appres_phase(uncert_appres, uncert_phase, frequency)\n",
    "uncert = abs(dtrue) * std\n",
    "noise = uncert * np.random.randn(survey.nFreq*2)\n",
    "survey.dobs = dtrue + noise"
   ]
  },
  {
   "cell_type": "code",
   "execution_count": 7,
   "metadata": {
    "collapsed": true
   },
   "outputs": [],
   "source": [
    "app_res, phase = appres_phase_from_Zxy(survey.dobs, frequency)"
   ]
  },
  {
   "cell_type": "code",
   "execution_count": 8,
   "metadata": {
    "collapsed": true
   },
   "outputs": [],
   "source": [
    "app_res_true, phase_true = appres_phase_from_Zxy(dtrue, frequency)"
   ]
  },
  {
   "cell_type": "code",
   "execution_count": 9,
   "metadata": {},
   "outputs": [
    {
     "data": {
      "text/plain": [
       "(25.000000000232831, 30000.0)"
      ]
     },
     "execution_count": 9,
     "metadata": {},
     "output_type": "execute_result"
    },
    {
     "data": {
      "image/png": "[encoded data removed]",
      "text/plain": [
       "<matplotlib.figure.Figure at 0x116d6a390>"
      ]
     },
     "metadata": {},
     "output_type": "display_data"
    }
   ],
   "source": [
    "import matplotlib\n",
    "matplotlib.rcParams[\"font.size\"] = 11\n",
    "# figsize(5, 2)\n",
    "sigtrue = np.repeat(sigma, 2, axis=0)\n",
    "z = np.repeat(mesh.vectorCCx[1:], 2, axis=0)\n",
    "z = np.r_[mesh.vectorCCx[0], z, mesh.vectorCCx[-1]]\n",
    "plt.plot(-z, sigtrue, 'k', lw=2)\n",
    "plt.xscale(\"log\")\n",
    "plt.yscale(\"log\")\n",
    "plt.ylabel(\"Conductivity (S/m)\")\n",
    "plt.xlabel(\"Depth (m)\")\n",
    "plt.grid(True, which='both')\n",
    "plt.ylim(2e-3, 2e-1)\n",
    "plt.xlim(0, max_depth_core*2.)"
   ]
  },
  {
   "cell_type": "code",
   "execution_count": 10,
   "metadata": {},
   "outputs": [
    {
     "data": {
      "image/png": "[encoded data removed]",
      "text/plain": [
       "<matplotlib.figure.Figure at 0x11ba65190>"
      ]
     },
     "metadata": {},
     "output_type": "display_data"
    }
   ],
   "source": [
    "fig = plt.figure(figsize = (5, 4))\n",
    "ax1 = plt.subplot(211)\n",
    "ax2 = plt.subplot(212)\n",
    "ax1.loglog(frequency, app_res, 'k-', lw=2)\n",
    "ax1.loglog(frequency, app_res_true, 'b-', lw=2)\n",
    "ax1.grid(True, which='both')\n",
    "ax1.set_xlim(frequency.max(), frequency.min())\n",
    "ax1.set_ylim(10, 3e2)\n",
    "ax1.set_xlabel(\"Frequency (Hz)\")\n",
    "ax1.set_ylabel(\"$\\\\rho_a \\ (\\Omega m)$\", fontsize = 14)\n",
    "\n",
    "ax2.semilogx(frequency, phase, 'k-', lw=2)\n",
    "ax2.semilogx(frequency, phase_true, 'b-', lw=2)\n",
    "ax2.grid(True, which='both')\n",
    "ax2.set_xlim(frequency.max(), frequency.min())\n",
    "ax2.set_xlabel(\"Frequency (Hz)\")\n",
    "ax2.set_ylabel(\"Phase (degree)\")\n",
    "plt.tight_layout()"
   ]
  },
  {
   "cell_type": "code",
   "execution_count": 11,
   "metadata": {
    "collapsed": true
   },
   "outputs": [],
   "source": [
    "def run_MT1Dinv(prob, survey, m0,\n",
    "                std_appres=0.05, floor_phase =2.,\n",
    "                alpha_s=1., alpha_x=1., coolingFactor=2., coolingRate=1, \n",
    "                beta0=1e1, beta0_ratio=None,\n",
    "                use_betaest=False, use_target=True):\n",
    "    dmisfit = DataMisfit.l2_DataMisfit(survey)\n",
    "    dmisfit.W = 1./uncert\n",
    "    reg = Regularization.Simple(prob.mesh, alpha_s=alpha_s, alpha_x=alpha_x)\n",
    "    opt = Optimization.InexactGaussNewton(maxIter=35, LSshorten=0.5)\n",
    "    invProb = InvProblem.BaseInvProblem(dmisfit, reg, opt)\n",
    "    # Create an inversion object\n",
    "    beta = Directives.BetaSchedule(coolingFactor=1.5, coolingRate=1)\n",
    "    \n",
    "    invProb.beta = beta0\n",
    "    target = Directives.TargetMisfit()\n",
    "    save = Directives.SaveOutputEveryIteration()\n",
    "    directs = [beta, save]\n",
    "\n",
    "    if use_target:\n",
    "        directs.append(target)\n",
    "    if use_betaest:\n",
    "        if beta0_ratio is None:\n",
    "            beta0_ratio = 1.\n",
    "        betaest = Directives.BetaEstimate_ByEig(beta0_ratio=beta0_ratio)\n",
    "        directs.append(betaest)      \n",
    "        \n",
    "    inv = Inversion.BaseInversion(invProb, directiveList=directs)\n",
    "    prob.counter = opt.counter = Utils.Counter()\n",
    "    opt.remember('xc')\n",
    "    mopt = inv.run(m0)\n",
    "    xc = opt.recall(\"xc\")\n",
    "    return xc, save, reg\n"
   ]
  },
  {
   "cell_type": "code",
   "execution_count": 25,
   "metadata": {},
   "outputs": [
    {
     "name": "stdout",
     "output_type": "stream",
     "text": [
      "SimPEG.DataMisfit.l2_DataMisfit assigning default eps of 1e-5 * ||dobs||\n",
      "SimPEG.InvProblem will set Regularization.mref to m0.\n",
      "\n",
      "    SimPEG.InvProblem is setting bfgsH0 to the inverse of the eval2Deriv.\n",
      "    ***Done using same Solver and solverOpts as the problem***\n",
      "SimPEG.SaveOutputEveryIteration will save your inversion progress as: '###-InversionModel-2017-06-24-18-41.txt'\n",
      "model has any nan: 0\n",
      "============================ Inexact Gauss Newton ============================\n",
      "  #     beta     phi_d     phi_m       f      |proj(x-g)-x|  LS    Comment   \n",
      "-----------------------------------------------------------------------------\n",
      "x0 has any nan: 0\n",
      "   0  9.70e+02  1.72e+03  0.00e+00  1.72e+03    4.89e+02      0              \n",
      "   1  6.47e+02  2.86e+02  2.09e-01  4.22e+02    6.10e+01      0              \n",
      "   2  4.31e+02  1.64e+02  3.29e-01  3.06e+02    2.25e+01      0   Skip BFGS  \n",
      "   3  2.87e+02  1.24e+02  4.03e-01  2.40e+02    1.84e+01      0   Skip BFGS  \n",
      "   4  1.92e+02  9.26e+01  4.91e-01  1.87e+02    1.46e+01      0   Skip BFGS  \n",
      "   5  1.28e+02  6.91e+01  5.89e-01  1.44e+02    1.14e+01      0   Skip BFGS  \n",
      "   6  8.52e+01  5.22e+01  6.94e-01  1.11e+02    8.93e+00      0   Skip BFGS  \n",
      "   7  5.68e+01  4.04e+01  8.04e-01  8.61e+01    6.87e+00      0   Skip BFGS  \n",
      "   8  3.79e+01  3.24e+01  9.16e-01  6.71e+01    5.15e+00      0   Skip BFGS  \n",
      "   9  2.52e+01  2.72e+01  1.03e+00  5.31e+01    3.81e+00      0   Skip BFGS  \n",
      "  10  1.68e+01  2.38e+01  1.13e+00  4.29e+01    2.79e+00      0   Skip BFGS  \n",
      "  11  1.12e+01  2.16e+01  1.24e+00  3.55e+01    2.01e+00      0   Skip BFGS  \n",
      "  12  7.48e+00  2.01e+01  1.35e+00  3.02e+01    1.44e+00      0   Skip BFGS  \n",
      "  13  4.99e+00  1.90e+01  1.46e+00  2.63e+01    1.06e+00      0   Skip BFGS  \n",
      "  14  3.32e+00  1.81e+01  1.60e+00  2.35e+01    7.72e-01      0   Skip BFGS  \n",
      "  15  2.22e+00  1.76e+01  1.75e+00  2.14e+01    7.26e-01      0   Skip BFGS  \n",
      "  16  1.48e+00  1.71e+01  1.89e+00  1.99e+01    6.20e-01      0   Skip BFGS  \n",
      "  17  9.85e-01  1.69e+01  2.01e+00  1.89e+01    1.02e+00      0              \n",
      "  18  6.57e-01  1.64e+01  2.35e+00  1.80e+01    1.18e+00      0   Skip BFGS  \n",
      "  19  4.38e-01  1.62e+01  2.62e+00  1.74e+01    1.30e+00      0   Skip BFGS  \n",
      "  20  2.92e-01  1.61e+01  2.81e+00  1.69e+01    1.12e+00      0              \n",
      "  21  1.95e-01  1.58e+01  3.39e+00  1.65e+01    1.14e+00      0              \n",
      "  22  1.30e-01  1.58e+01  3.51e+00  1.62e+01    7.93e-01      0              \n",
      "  23  8.65e-02  1.57e+01  3.75e+00  1.60e+01    7.83e-01      0              \n",
      "  24  5.76e-02  1.57e+01  3.82e+00  1.59e+01    7.49e-01      0              \n",
      "  25  3.84e-02  1.56e+01  4.53e+00  1.58e+01    9.36e-01      0   Skip BFGS  \n",
      "  26  2.56e-02  1.56e+01  4.48e+00  1.57e+01    3.02e-01      0              \n",
      "  27  1.71e-02  1.56e+01  4.81e+00  1.56e+01    7.15e-01      0   Skip BFGS  \n",
      "  28  1.14e-02  1.56e+01  4.71e+00  1.56e+01    3.58e-01      0              \n",
      "  29  7.59e-03  1.55e+01  5.06e+00  1.56e+01    6.32e-01      0              \n",
      "  30  5.06e-03  1.55e+01  5.29e+00  1.55e+01    5.10e-01      0              \n",
      "  31  3.37e-03  1.55e+01  5.18e+00  1.55e+01    4.02e-01      0              \n",
      "  32  2.25e-03  1.55e+01  5.18e+00  1.55e+01    5.14e-01      0   Skip BFGS  \n",
      "  33  1.50e-03  1.55e+01  5.31e+00  1.55e+01    4.52e-01      0              \n",
      "  34  9.99e-04  1.55e+01  6.52e+00  1.55e+01    1.71e+00      0   Skip BFGS  \n",
      "  35  6.66e-04  1.54e+01  5.83e+00  1.54e+01    9.50e-01      0              \n",
      "------------------------- STOP! -------------------------\n",
      "1 : |fc-fOld| = 2.8764e-02 <= tolF*(1+|f0|) = 1.7197e+02\n",
      "1 : |xc-x_last| = 5.9050e-01 <= tolX*(1+|x0|) = 3.7841e+00\n",
      "0 : |proj(x-g)-x|    = 9.4970e-01 <= tolG          = 1.0000e-01\n",
      "0 : |proj(x-g)-x|    = 9.4970e-01 <= 1e3*eps       = 1.0000e-02\n",
      "1 : maxIter   =      35    <= iter          =     35\n",
      "------------------------- DONE! -------------------------\n"
     ]
    }
   ],
   "source": [
    "m0 = np.log(0.01) * np.ones(mesh.nC)\n",
    "xc, save, reg = run_MT1Dinv(prob, survey, m0,\n",
    "                                   coolingFactor=8, coolingRate=3,\n",
    "                                   alpha_s=1e-2, alpha_x=1.,\n",
    "                                   beta0_ratio=10.,\n",
    "                                   use_betaest=True,\n",
    "                                   use_target=False)"
   ]
  },
  {
   "cell_type": "code",
   "execution_count": 26,
   "metadata": {
    "collapsed": true
   },
   "outputs": [],
   "source": [
    "save.load_results()"
   ]
  },
  {
   "cell_type": "code",
   "execution_count": 27,
   "metadata": {},
   "outputs": [
    {
     "data": {
      "image/png": "[encoded data removed]",
      "text/plain": [
       "<matplotlib.figure.Figure at 0x11bee9790>"
      ]
     },
     "metadata": {},
     "output_type": "display_data"
    }
   ],
   "source": [
    "save.plot_misfit_curves(plot_small_smooth=False)"
   ]
  },
  {
   "cell_type": "code",
   "execution_count": 28,
   "metadata": {},
   "outputs": [
    {
     "data": {
      "image/png": "[encoded data removed]",
      "text/plain": [
       "<matplotlib.figure.Figure at 0x12f3339d0>"
      ]
     },
     "metadata": {},
     "output_type": "display_data"
    }
   ],
   "source": [
    "save.plot_tikhonov_curves()"
   ]
  },
  {
   "cell_type": "code",
   "execution_count": 16,
   "metadata": {},
   "outputs": [
    {
     "data": {
      "text/plain": [
       "13"
      ]
     },
     "execution_count": 16,
     "metadata": {},
     "output_type": "execute_result"
    }
   ],
   "source": [
    "save.i_target"
   ]
  },
  {
   "cell_type": "code",
   "execution_count": 29,
   "metadata": {},
   "outputs": [
    {
     "data": {
      "application/vnd.jupyter.widget-view+json": {
       "model_id": "305a0c7f1903434ea3ad288f354d62d5"
      }
     },
     "metadata": {},
     "output_type": "display_data"
    },
    {
     "data": {
      "text/plain": [
       "<function __main__.foo>"
      ]
     },
     "execution_count": 29,
     "metadata": {},
     "output_type": "execute_result"
    }
   ],
   "source": [
    "from ipywidgets import interact, IntSlider, ToggleButtons\n",
    "def view_1Dinversion_results(iteration, scale, save):\n",
    "    fig = plt.figure(figsize = (10, 5))\n",
    "    ax1 = plt.subplot(221)\n",
    "    ax2 = plt.subplot(222)\n",
    "    ax3 = plt.subplot(223)\n",
    "    ax4 = plt.subplot(224)\n",
    "\n",
    "    ax1.loglog(save.phi_m, save.phi_d, 'k-', lw=2)\n",
    "    if save.i_target is not None:\n",
    "        ax1.loglog(save.phi_m[save.i_target], save.phi_d[save.i_target], 'k*', ms=10)\n",
    "    ax1.loglog(save.phi_m[iteration], save.phi_d[iteration], 'ro', ms=10)\n",
    "    ax1.set_xlim(save.phi_m.min(), save.phi_m.max())\n",
    "    ax1.set_xlabel(\"$\\phi_m$\", fontsize = 14)\n",
    "    ax1.set_ylabel(\"$\\phi_d$\", fontsize = 14)\n",
    "    ax1.set_xscale(scale)\n",
    "    temp = xc[iteration]\n",
    "    sigtrue = np.repeat(sigma, 2, axis=0)\n",
    "    z = np.repeat(mesh.vectorCCx[1:], 2, axis=0)\n",
    "    z = np.r_[mesh.vectorCCx[0], z, mesh.vectorCCx[-1]]\n",
    "    ax3.plot(-z, sigtrue, 'k', lw=2)\n",
    "    ax3.plot(-mesh.vectorCCx, np.exp(temp), 'k--', lw=2)\n",
    "    ax3.set_xscale(\"log\")\n",
    "    ax3.set_yscale(\"log\")\n",
    "    ax3.set_ylabel(\"Conductivity (S/m)\")\n",
    "    ax3.set_xlabel(\"Depth (m)\")\n",
    "    ax3.grid(True, which='both')\n",
    "    ax3.set_ylim(2e-3, 2e-1)\n",
    "    ax3.set_xlim((-z).min(), (-z).max())\n",
    "    dpred = survey.dpred(xc[iteration])\n",
    "    app_res_pred, phase_pred = appres_phase_from_Zxy(dpred, frequency)\n",
    "    ax2.loglog(frequency, app_res, 'k-', lw=2)\n",
    "    ax2.loglog(frequency, app_res_pred, 'kx', markeredgewidth=1)\n",
    "    ax2.grid(True, which='both')\n",
    "    ax2.set_xlim(frequency.max(), frequency.min())\n",
    "    ax2.set_ylim(10, 3e2)\n",
    "    ax2.set_xlabel(\"Frequency (Hz)\")\n",
    "    ax2.set_ylabel(\"$\\\\rho_a \\ (\\Omega m)$\", fontsize = 14)\n",
    "\n",
    "    ax4.semilogx(frequency, phase, 'k-', lw=2)\n",
    "    ax4.semilogx(frequency, phase_pred, 'kx', markeredgewidth=1)\n",
    "\n",
    "    ax4.grid(True, which='both')\n",
    "    ax4.set_xlim(frequency.max(), frequency.min())\n",
    "    ax4.set_xlabel(\"Frequency (Hz)\")\n",
    "    ax4.set_ylabel(\"Phase (degree)\")\n",
    "    plt.tight_layout()\n",
    "    plt.show()\n",
    "\n",
    "def foo(iteration, scale):\n",
    "    return view_1Dinversion_results(iteration, scale, save)\n",
    "interact(foo, \n",
    "         iteration=IntSlider(min=0, max=save.phi_d.shape[0]-1, step=1, value=0),\n",
    "         scale=ToggleButtons(options=[\"linear\", \"log\"], value=\"log\"))"
   ]
  },
  {
   "cell_type": "code",
   "execution_count": 18,
   "metadata": {
    "collapsed": true
   },
   "outputs": [],
   "source": [
    "def MT1D_inv_results(xc, iteration):\n",
    "    fig = plt.figure(figsize = (5, 7))\n",
    "    ax1 = plt.subplot(311)\n",
    "    ax2 = plt.subplot(312)\n",
    "    ax3 = plt.subplot(313)\n",
    "\n",
    "    temp = xc[iteration]\n",
    "    sigtrue = np.repeat(sigma, 2, axis=0)\n",
    "    z = np.repeat(mesh.vectorCCx[1:], 2, axis=0)\n",
    "    z = np.r_[mesh.vectorCCx[0], z, mesh.vectorCCx[-1]]\n",
    "    ax1.plot(-z, sigtrue, 'k', lw=2)\n",
    "    ax1.plot(-mesh.vectorCCx, np.exp(temp), 'k--', lw=2)\n",
    "    ax1.set_xscale(\"log\")\n",
    "    ax1.set_yscale(\"log\")\n",
    "    ax1.set_ylabel(\"Conductivity (S/m)\")\n",
    "    ax1.set_xlabel(\"Depth (m)\")\n",
    "    ax1.grid(True, which='both')\n",
    "    ax1.set_ylim(2e-3, 4e-1)\n",
    "    ax1.set_xlim((-z).min(), (-z).max())\n",
    "\n",
    "    dpred = survey.dpred(xc[iteration])\n",
    "    app_res_pred, phase_pred = appres_phase_from_Zxy(dpred, frequency)\n",
    "    \n",
    "    ax2.loglog(frequency, app_res, 'k-', lw=2)\n",
    "    ax2.loglog(frequency, app_res_pred, 'kx', markeredgewidth=1)\n",
    "    ax2.grid(True, which='both')\n",
    "    ax2.set_xlim(frequency.max(), frequency.min())\n",
    "    ax2.set_ylim(10, 3e2)\n",
    "    ax2.set_xlabel(\"Frequency (Hz)\")\n",
    "    ax2.set_ylabel(\"$\\\\rho_a \\ (\\Omega m)$\", fontsize = 14)\n",
    "\n",
    "    ax3.semilogx(frequency, phase, 'k-', lw=2)\n",
    "    ax3.semilogx(frequency, phase_pred, 'kx', markeredgewidth=1)\n",
    "\n",
    "    ax3.grid(True, which='both')\n",
    "    ax3.set_xlim(frequency.max(), frequency.min())\n",
    "    ax3.set_xlabel(\"Frequency (Hz)\")\n",
    "    ax3.set_ylabel(\"$\\phi \\ (^{\\circ})$\", fontsize = 14)\n",
    "    plt.tight_layout()"
   ]
  },
  {
   "cell_type": "code",
   "execution_count": 19,
   "metadata": {},
   "outputs": [
    {
     "name": "stdout",
     "output_type": "stream",
     "text": [
      "SimPEG.DataMisfit.l2_DataMisfit assigning default eps of 1e-5 * ||dobs||\n",
      "SimPEG.InvProblem will set Regularization.mref to m0.\n",
      "\n",
      "    SimPEG.InvProblem is setting bfgsH0 to the inverse of the eval2Deriv.\n",
      "    ***Done using same Solver and solverOpts as the problem***\n",
      "SimPEG.SaveOutputEveryIteration will save your inversion progress as: '###-InversionModel-2017-06-24-18-38.txt'\n",
      "model has any nan: 0\n",
      "============================ Inexact Gauss Newton ============================\n",
      "  #     beta     phi_d     phi_m       f      |proj(x-g)-x|  LS    Comment   \n",
      "-----------------------------------------------------------------------------\n",
      "x0 has any nan: 0\n",
      "   0  6.96e+01  1.72e+03  0.00e+00  1.72e+03    4.89e+02      0              \n",
      "   1  4.64e+01  1.89e+02  3.06e-02  1.91e+02    7.29e+01      0              \n",
      "   2  3.09e+01  4.33e+01  4.70e-01  5.79e+01    2.01e+01      0   Skip BFGS  \n",
      "   3  2.06e+01  2.56e+01  5.99e-01  3.79e+01    4.63e+00      0              \n",
      "------------------------- STOP! -------------------------\n",
      "1 : |fc-fOld| = 0.0000e+00 <= tolF*(1+|f0|) = 1.7197e+02\n",
      "1 : |xc-x_last| = 6.0763e-01 <= tolX*(1+|x0|) = 3.7841e+00\n",
      "0 : |proj(x-g)-x|    = 4.6288e+00 <= tolG          = 1.0000e-01\n",
      "0 : |proj(x-g)-x|    = 4.6288e+00 <= 1e3*eps       = 1.0000e-02\n",
      "0 : maxIter   =      35    <= iter          =      4\n",
      "------------------------- DONE! -------------------------\n"
     ]
    }
   ],
   "source": [
    "m0 = np.log(0.01) * np.ones(mesh.nC)\n",
    "xc_smooth, save_smooth, reg_smooth = run_MT1Dinv(prob, survey, m0,\n",
    "                                   coolingFactor=8, coolingRate=3,\n",
    "                                   alpha_s=1e-5, alpha_x=1.,\n",
    "                                   beta0_ratio=1.,\n",
    "                                   use_betaest=True,\n",
    "                                   use_target=True)"
   ]
  },
  {
   "cell_type": "code",
   "execution_count": 20,
   "metadata": {},
   "outputs": [
    {
     "data": {
      "image/png": "[encoded data removed]",
      "text/plain": [
       "<matplotlib.figure.Figure at 0x12bedf750>"
      ]
     },
     "metadata": {},
     "output_type": "display_data"
    }
   ],
   "source": [
    "MT1D_inv_results(xc_smooth, -1)"
   ]
  },
  {
   "cell_type": "code",
   "execution_count": null,
   "metadata": {
    "collapsed": true
   },
   "outputs": [],
   "source": []
  }
 ],
 "metadata": {
  "anaconda-cloud": {},
  "kernelspec": {
   "display_name": "Python 2",
   "language": "python",
   "name": "python2"
  },
  "language_info": {
   "codemirror_mode": {
    "name": "ipython",
    "version": 2
   },
   "file_extension": ".py",
   "mimetype": "text/x-python",
   "name": "python",
   "nbconvert_exporter": "python",
   "pygments_lexer": "ipython2",
   "version": "2.7.13"
  }
 },
 "nbformat": 4,
 "nbformat_minor": 2
}

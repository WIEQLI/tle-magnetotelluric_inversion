{
 "cells": [
  {
   "cell_type": "markdown",
   "metadata": {},
   "source": [
    "**Getting Started**\n",
    "\n",
    "This tutorial relies on standard python packages as well as [SimPEG](http://simpeg.xyz). If you do not have SimPEG installed, you can uncomment the next line and install it from [pypi](https://pypi.python.org/pypi/SimPEG).\n",
    "\n",
    "The second package we are installing is [pymatsolver](https://github.com/rowanc1/pymatsolver), which interfaces to sparse matrix solvers. It is not required for the tutorial, we will fall-back to an LU solver, which is sufficient for this problem "
   ]
  },
  {
   "cell_type": "code",
   "execution_count": 1,
   "metadata": {
    "collapsed": true
   },
   "outputs": [],
   "source": [
    "# !pip install SimPEG\n",
    "# !pip install pymatsolver"
   ]
  },
  {
   "cell_type": "markdown",
   "metadata": {},
   "source": [
    "# Inversion: 1D Magnetotelluric Problem\n",
    "\n",
    "In the previous notebooks, we explored how to discretize the [1D MT problem](./1_MT1D_NumericalSetup.ipynb), how to design an appropriate mesh, and explored the [an example of non-uniquness](./2_MT1D_ForwardModellingAndNonuniqueness.ipynb). In this notebook, we will put those concepts to use and set up a 1D inversion. \n",
    "\n",
    "The aim of this notebook is to highlight the elements we use to set up and solve the inverse problem, in the notebook that follows this, we will dive futher into the impact of various parameter choices (eg. the trade-off parameter $\\beta$, the stopping criteria, noise model and regulariztion parameters). "
   ]
  },
  {
   "cell_type": "markdown",
   "metadata": {},
   "source": [
    "## Inversion as Optimization\n",
    "\n",
    "We will use deterministic approach and pose the inverse problem as an optimization problem of the form \n",
    "\n",
    "$$\n",
    "\\min_{\\mathbf{m}} \\phi(\\mathbf{m}) = \\phi_d(\\mathbf{m}) + \\beta\\phi_m(\\mathbf{m})\n",
    "$$\n",
    "\n",
    "where:\n",
    "- $\\mathbf{m}$ is our model - the vector of numbers that describes our earth model. It is what we are solving for in the inversion\n",
    "- $\\phi_d(\\mathbf{m})$ is the data misfit\n",
    "- $\\phi_m(\\mathbf{m})$ is the regularization\n",
    "- $\\beta$ is a trade-off parameter\n",
    "\n",
    "### Data Misfit\n",
    "\n",
    "The data misfit, $\\phi_d(\\mathbf{m})$, is often taken to be a weighted $\\ell_2$-norm, where the weights capture the noise model (eg. we want to assign higher weights and do a good job fitting data that we are confident are less noisy, and assign less weight / influence to data that are noisy). The $\\ell_2$ norm is the correct norm to choose when noise is Gaussian (or approximately Gaussian, or if you have no additional information and assume it is Gaussian). An $\\ell_2$ data misfit is captured mathematically by  \n",
    "\n",
    "$$\n",
    "\\phi_d(\\mathbf{m}) = \\frac{1}{2}\\|\\mathbf{W_d} (\\mathcal{F}(\\mathbf{m}) - \\mathbf{d}^{\\text{obs}})\\|^2\n",
    "$$\n",
    "\n",
    "where \n",
    "\n",
    "- $\\mathbf{W_d} = \\text{diag}(1/\\boldsymbol{\\epsilon})$ is a diagonal matrix with diagonal entries $1/\\epsilon_i$, where $\\epsilon_i$ is an estimated standard deviation of the $i$th datum.\n",
    "- $\\mathcal{F}$ is the forward modelling operator that simulates the 1D MT response given a model\n",
    "- $\\mathbf{m}$ is the model: the set of parameters which describe the physical properties of the layered earth\n",
    "- $\\mathbf{d}^{\\text{obs}}$ is the observed data\n",
    "\n",
    "(The factor of $1/2$ and the choice of using the squared-norm is a matter of convienence. We will be using gradient based optimzation methods, so it is easier to take derivatives of a norm squared than a norm.)\n",
    "\n",
    "### Regularization\n",
    "The inverse problem is an [ill posed problem](https://en.wikipedia.org/wiki/Well-posed_problem). There are multiple (actually infinitely many!) models that can fit the data.  There are a couple ways to observe this:\n",
    "\n",
    "- Mathematically: If we start by thinking about a linear problem $\\mathbf{G}\\mathbf{m} = \\mathbf{d}$, the matrix $\\mathbf{G}$ is wide, so it is not directly invertible (eg. see Matt Hall's [Linear Inversion Tutorial](http://library.seg.org/doi/full/10.1190/tle35121085.1)). Here, we are dealing with a non-linear system of equations, but the principle is the same. \n",
    "\n",
    "- An Example: In the [Forward Modelling and Nonuniqueness notebook](2_MT1D_ForwardModellingAndNonuniqueness.ipynb), we used forward modelling to demonstrate non-uniquness with the conductivity-thickness product of a single, conductive layer, and this is a very simple model compared to most geologic settings! \n",
    "\n",
    "Thus, to choose from the infinitely many solutions and arrive at a sensible one, we employ a regularization: $\\phi_m$. Tikhonov regularization, which again employs $\\ell_2$-norms, is a standard choice (It has a few nice features: it is convex and easy to differentiate). It takes the form: \n",
    "$$\n",
    "\\phi_m(\\mathbf{m}) = \\frac{1}{2}\\big(\\alpha_s\\|\\mathbf{W_s} (\\mathbf{m} - \\mathbf{m}_{\\text{ref}})\\|^2 + \\alpha_z\\|\\mathbf{W_z} (\\mathbf{m})\\|^2 \\big)\n",
    "$$\n",
    "\n",
    "The first term is often referred to as the \"smallness\" as it measures the \"size\" of the model (in the $\\ell_2$ sense). The matrix $\\mathbf{W_s}$ is generally taken to be a diagonal matrix that may contain information about the length scales of the model or be used to weight the relative importance of various parameters in the model. The scalar $\\alpha_s$ weights the relative importance of this term in the regularization. Notice that we include a reference model ($\\mathbf{m}_{\\text{ref}}$. Often this is defined as a constant value, but if more information is known about the background, that can be used to construct a reference model. Note that saying \"I am not going to use a reference model\" means that you are actually using $\\mathbf{m}_{\\text{ref}} = 0$, this is important to realize... in the inversion we demonstrate here, our `model` will be $\\mathbf{m} = \\text{log}(\\sigma)$. If we set $\\mathbf{m}_{\\text{ref}} = 0$, then we are favoring models close to 1 S/m - which is quite conductive! \n",
    "\n",
    "The second term is often referred to as the \"smoothness\". The matrix $\\mathbf{W_z}$ approximate the derivative of the model with respect to depth, and is hense a measure of how \"smooth\" the model is. The term $\\alpha_z$ weights its relative importance in the regularization. \n",
    "\n",
    "\n",
    "## In this notebook...\n",
    "\n",
    "Although we pose the inverse problem as an optimization problem, we aren't necessarily going to solve to a true minimum. There are always uncertainties with the data, so there is no point trying to drive $\\phi_d$ to its true minimium - we would end up introducing structures in the model to fit the data (we will explore this here). So another choice that has to be made when setting up an inversion is where to stop. \n",
    "\n",
    "In this notebook, we will walk through how to set up an inversion and discuss one of the knobs:\n",
    "- The $\\beta$ knob: How well should we fit the data verses the regularization? Which $\\beta$ value provides us the right balance? eg. When do we achieve the target misfit $\\phi_d^*$?\n",
    "- The $\\alpha$ knob: Tuning the **regularization** ($\\alpha_s$, $\\alpha_z$): how _smooth_ or _small_ (in the $\\ell_2$-sense) do we want our model to be?\n",
    "\n",
    "We will also point out other parameters you can explore the impact of, including, \n",
    "- starting model $\\mathbf{m}_0$\n",
    "- reference model $\\mathbf{m}_{\\text{ref}}$\n",
    "- designing a $\\beta$-cooling schedule\n",
    "\n",
    "In the [next notebook](./4_MT1D_5layer_inversion.ipynb) we will dive further into the $\\alpha$ knob. \n",
    "\n",
    "**A Note**\n",
    "\n",
    "We will employ second-order optimization methods, meaning we have to be able to both simulate data and compute derivatives. We will take those steps for granted in this notebook, but if you are curious to look under the hood and see how sensitivities are computed for this problem, have a look at the [Sensitivities Notebook](./Appendix_A_MT1D_Sensitivity.ipynb).  "
   ]
  },
  {
   "cell_type": "code",
   "execution_count": 2,
   "metadata": {
    "collapsed": true
   },
   "outputs": [],
   "source": [
    "from scipy.constants import mu_0\n",
    "import numpy as np\n",
    "import matplotlib.pyplot as plt\n",
    "\n",
    "from SimPEG import (\n",
    "    Mesh, Maps, SolverLU, DataMisfit, Regularization,\n",
    "    Optimization, InvProblem, Inversion, Directives, Utils\n",
    ")\n",
    "\n",
    "try:\n",
    "    from pymatsolver import PardisoSolver as Solver\n",
    "except importError:\n",
    "    from SimPEG import SolverLU as Solver\n",
    "    \n",
    "from MT1D import MT1DProblem, MT1DSurvey, MT1DSrc, ZxyRx, Survey, AppResPhaRx\n",
    "%matplotlib inline"
   ]
  },
  {
   "cell_type": "markdown",
   "metadata": {},
   "source": [
    "## Forward Simulation\n",
    "\n",
    "### Parmeters\n",
    "Now, we define our model parameters and survey setup. This includes defining\n",
    "- location of receivers\n",
    "- frequencies we are sampling\n",
    "- type of dat we are measuring (impedance or apparent resistivity and phase)\n",
    "\n",
    "Similar to the model shown in [1_MT1D_NumericalSetup.ipynb](./1_MT1D_NumericalSetup.ipynb) and [2_MT1D_ForwardModellingAndNonuniqueness](./2_MT1D_ForwardModellingAndNonuniqueness.ipynb). We will consider a model which consists of 5 units: "
   ]
  },
  {
   "cell_type": "code",
   "execution_count": 3,
   "metadata": {
    "collapsed": true
   },
   "outputs": [],
   "source": [
    "layer_tops = np.r_[0., -600., -1991., -5786., -9786.]  # in m\n",
    "rho_layers = np.r_[250., 25, 100., 10., 25.]"
   ]
  },
  {
   "cell_type": "code",
   "execution_count": 4,
   "metadata": {
    "collapsed": true
   },
   "outputs": [],
   "source": [
    "rxloc = np.r_[0.]\n",
    "frequency = np.logspace(-3, 2, 25)"
   ]
  },
  {
   "cell_type": "markdown",
   "metadata": {},
   "source": [
    "### Survey\n",
    "Next, we set up a `survey` object. Here we are following the SimPEG approach and define \n",
    "- a receiver object: given fields found from a simulation, it has the machinery to compute data. An impedance receiver `ZxyRx` calculates the ratio of $E_x$ and $H_y$ from calculated electric and magnetic fields (both real and imaginary components)\n",
    "\n",
    "$$\n",
    "Z_{xy} = - \\frac{E_x}{H_y}\n",
    "$$\n",
    "\n",
    "- a source object: this provides the right-hand-side for our MT problem. This is a plane wave source with at the specified frequency. \n",
    "\n",
    "These are combined in a `survey`. "
   ]
  },
  {
   "cell_type": "code",
   "execution_count": 5,
   "metadata": {
    "collapsed": true
   },
   "outputs": [],
   "source": [
    "# Create a receiver object \n",
    "rx = ZxyRx(\n",
    "    rxloc, # location of the receiver \n",
    "    component=\"both\", # measure both the real and imaginary components of the impedance (alternatively \"real\" / \"imag\")\n",
    "    frequency=frequency\n",
    ")\n",
    "# create a plane wave source\n",
    "src = MT1DSrc([rx])\n",
    "\n",
    "# define a survey\n",
    "survey = MT1DSurvey([src])"
   ]
  },
  {
   "cell_type": "markdown",
   "metadata": {},
   "source": [
    "### Mesh\n",
    "\n",
    "In the [Forward Modelling and Nonuniqueness notebook](2_MT1D_ForwardModellingAndNonuniqueness.ipynb), we discussed how to design a mesh that extends sufficiently far and has fine enough cells near the surface to accurately simulate the MT response across the frequency range of interest. We have wrapped up that knowledge in the utility function `setMesh`. \n",
    "\n",
    "Since most of the geologic units we are considering are on the order of $100 \\Omega m$, we will use a conductivity value of $10^{-2}$ S/m for creating the mesh."
   ]
  },
  {
   "cell_type": "code",
   "execution_count": 6,
   "metadata": {},
   "outputs": [
    {
     "name": "stdout",
     "output_type": "stream",
     "text": [
      ">> Smallest cell size = 50 m\n",
      ">> Padding distance = 316227 m\n",
      ">> # of padding cells 17\n",
      ">> # of core cells cells 47\n"
     ]
    }
   ],
   "source": [
    "max_depth_core = 15000.\n",
    "mesh = survey.setMesh(\n",
    "    sigma=0.01, # approximate conductivity of the background \n",
    "    max_depth_core=max_depth_core,  # extent of the core region of the mesh\n",
    "    ncell_per_skind=10,  # number of cells per the smallest skin depth \n",
    "    n_skind=2,  # number of skin depths that the mesh should extend to ensure the lowest-frequency fields have decayed\n",
    "    core_meshType = \"log\",   # cell spacings in the core region of the mesh (\"linear\" or \"log\")\n",
    "    max_hz_core=1000.  # If using a logarithmic core mesh, what is the maximum cell size?\n",
    " )"
   ]
  },
  {
   "cell_type": "code",
   "execution_count": 7,
   "metadata": {},
   "outputs": [
    {
     "data": {
      "image/png": "[encoded data removed]",
      "text/plain": [
       "<matplotlib.figure.Figure at 0x1184db3d0>"
      ]
     },
     "metadata": {},
     "output_type": "display_data"
    }
   ],
   "source": [
    "# plot the mesh\n",
    "fig, ax = plt.subplots(1,1, figsize=(8, 3))\n",
    "mesh.plotGrid(centers=True, faces=True, ax=ax)\n",
    "ax.legend([\"centers\", \"faces\"])\n",
    "ax.invert_xaxis()  # so that the surface is on our left hand side\n",
    "ax.set_xlabel('z (m)')\n",
    "ax.grid(which=\"both\", linewidth=0.5)"
   ]
  },
  {
   "cell_type": "markdown",
   "metadata": {},
   "source": [
    "### Problem\n",
    "\n",
    "In the [first notebook](./1_MT1D_NumericalSetup.ipynb), we set up the machinery to solve the 1D MT problem. Here, we will use that functionality. Please see [Sensitivities Notebook](./Appendix_A_MT1D_Sensitivity.ipynb) for further discussion on how `MT1DProblems` is set up. "
   ]
  },
  {
   "cell_type": "code",
   "execution_count": 8,
   "metadata": {
    "collapsed": true
   },
   "outputs": [],
   "source": [
    "prob = MT1DProblem(\n",
    "    mesh,  # The mesh contains the geometry, grids, etc necessary for constructing the discrete PDE system\n",
    "    sigmaMap=Maps.ExpMap(mesh),  # in the inversion, we want to invert for log-conductivity (enforces postivity, electrical conductivity tends to vary logarithmically) \n",
    "    verbose=False,  # print information as we are setting up and solving \n",
    "    Solver=Solver  # solver to employ for solving Ax = b\n",
    ")\n",
    "\n",
    "# tell the problem and survey about each other so we can construct our matrix system \n",
    "# and right hand-side\n",
    "prob.pair(survey)"
   ]
  },
  {
   "cell_type": "markdown",
   "metadata": {},
   "source": [
    "### Put the model on the mesh\n",
    "\n",
    "Physical properties are defined at cell centers, so there should be a `sigma` value for every cell center. Above, we defined our model as resisvitities (in units of $\\Omega m$), but for the inversion, we want to work in conductivities (in units of S/m), so we take the reciprocal ($\\sigma = 1/\\rho$)"
   ]
  },
  {
   "cell_type": "code",
   "execution_count": 9,
   "metadata": {
    "collapsed": true
   },
   "outputs": [],
   "source": [
    "# start with nans so we can do a check to make sure all \n",
    "# layer conductivities have been properly assigned\n",
    "rho = np.ones(mesh.nC) * np.nan  \n",
    "\n",
    "# loop over each layer in the model and assign to mesh\n",
    "for layer_top, rho_layer in zip(layer_tops, rho_layers):\n",
    "    inds = mesh.vectorCCx < layer_top\n",
    "    rho[inds] = rho_layer\n",
    "\n",
    "sigma = 1./rho"
   ]
  },
  {
   "cell_type": "code",
   "execution_count": 10,
   "metadata": {},
   "outputs": [
    {
     "data": {
      "text/plain": [
       "(25.000000000232831, 30000.0)"
      ]
     },
     "execution_count": 10,
     "metadata": {},
     "output_type": "execute_result"
    },
    {
     "data": {
      "image/png": "[encoded data removed]",
      "text/plain": [
       "<matplotlib.figure.Figure at 0x11b017c90>"
      ]
     },
     "metadata": {},
     "output_type": "display_data"
    }
   ],
   "source": [
    "# plot the model\n",
    "fig, ax = plt.subplots(1, 1, figsize=(8, 3))\n",
    "\n",
    "# trickery to plot from node to node rather than at cell centers\n",
    "z = np.repeat(mesh.vectorCCx[1:], 2, axis=0)\n",
    "z = np.r_[mesh.vectorCCx[0], z, mesh.vectorCCx[-1]]\n",
    "sigma_plt = np.repeat(sigma, 2, axis=0)\n",
    "\n",
    "ax.loglog(-z, sigma_plt, lw=2)\n",
    "ax.set_ylabel(\"Conductivity (S/m)\", fontsize=13)\n",
    "ax.set_xlabel(\"Depth (m)\", fontsize=13)\n",
    "ax.grid(True, which='both', linewidth=0.4)\n",
    "ax.set_ylim(2e-3, 2e-1)\n",
    "ax.set_xlim(0, max_depth_core*2.)"
   ]
  },
  {
   "cell_type": "markdown",
   "metadata": {},
   "source": [
    "## Simulate 'Observed' Data\n",
    "\n",
    "Based on the conductivity structure plotted above, we will create synthetic data. These data will later be used in the inversion. \n",
    "\n",
    "In the inversion, the \"model\" that we will invert for is in $\\log(\\sigma)$. There are a couple of reasons for this: the electrical conductivity of earth materials can vary over several orders of magnitude, and electrical conductivity is always positive, so inverting for $\\log(\\sigma)$ enforces that. \n",
    "\n",
    "In SimPEG, the method `dpred` of the `survey` class solves the PDE and computes the data required by the receivers. "
   ]
  },
  {
   "cell_type": "code",
   "execution_count": 11,
   "metadata": {
    "collapsed": true
   },
   "outputs": [],
   "source": [
    "mtrue = np.log(sigma)  # since our \"model\" is log conductivity, we take the log\n",
    "dtrue = survey.dpred(mtrue)  # these are clean data (no noise yet.)"
   ]
  },
  {
   "cell_type": "markdown",
   "metadata": {},
   "source": [
    "Add noise to generate \"observed\" data"
   ]
  },
  {
   "cell_type": "code",
   "execution_count": 12,
   "metadata": {
    "collapsed": true
   },
   "outputs": [],
   "source": [
    "np.random.seed(1)  # set a seed to the results are reproducable\n",
    "std = 0.1  # standard deviation of the noise (10%)\n",
    "\n",
    "# add noise\n",
    "uncert = std * np.abs(dtrue)\n",
    "noise = uncert * np.random.randn(survey.nFreq*2)\n",
    "survey.dobs = dtrue + noise"
   ]
  },
  {
   "cell_type": "markdown",
   "metadata": {},
   "source": [
    "Although we will work with real and impaginary impedance values as our data in the inversion, it is a bit more intuitive to plot the data in terms of apparent resistivity (which hase units of resistivity, $\\Omega m$) and phase\n",
    "\n",
    "$$\n",
    "\\rho_a = \\frac{1}{\\mu_0\\omega} \\big|Z_{xy}\\big|^2\n",
    "$$\n",
    "\n",
    "$$\n",
    "\\phi = \\tan^{-1}\\left(\\frac{\\text{Im}(Z_{xy})}{\\text{Re}(Z_{xy})}\\right)\n",
    "$$\n"
   ]
  },
  {
   "cell_type": "code",
   "execution_count": 13,
   "metadata": {
    "collapsed": true
   },
   "outputs": [],
   "source": [
    "def omega(frequency):\n",
    "    \"\"\"\n",
    "    angular frequency\n",
    "    \"\"\"\n",
    "    return 2*np.pi*frequency\n",
    "\n",
    "def appres_phase_from_data(data, frequency):\n",
    "    \"\"\"\n",
    "    Compute apparent resistivity and phase given impedances (real and imaginary components)\n",
    "    and the frequency. \n",
    "    \"\"\"\n",
    "    \n",
    "    # data are arranged (Zxy_real, Zxy_imag) for each frequency\n",
    "    Zxy_real = data.reshape((survey.nFreq, 2))[:,0]\n",
    "    Zxy_imag = data.reshape((survey.nFreq, 2))[:,1]\n",
    "    Zxy = Zxy_real+1j*Zxy_imag\n",
    "    \n",
    "    # compute apparent resistivity and phase from complex impedance\n",
    "    app_res = abs(Zxy)**2 / (mu_0*omega(frequency))\n",
    "    phase = np.rad2deg(np.arctan(Zxy_imag / Zxy_real))\n",
    "    \n",
    "    return app_res, phase"
   ]
  },
  {
   "cell_type": "code",
   "execution_count": 14,
   "metadata": {
    "collapsed": true
   },
   "outputs": [],
   "source": [
    "# fetch the apparent resistivity and phase for the clean (true) \n",
    "# and noisy (obs) data\n",
    "app_res_true, phase_true = appres_phase_from_data(dtrue, frequency)\n",
    "app_res_obs, phase_obs = appres_phase_from_data(survey.dobs, frequency)"
   ]
  },
  {
   "cell_type": "code",
   "execution_count": 15,
   "metadata": {},
   "outputs": [
    {
     "data": {
      "image/png": "[encoded data removed]",
      "text/plain": [
       "<matplotlib.figure.Figure at 0x11b398f10>"
      ]
     },
     "metadata": {},
     "output_type": "display_data"
    }
   ],
   "source": [
    "fig, ax = plt.subplots(2, 1, figsize=(8,6))\n",
    "\n",
    "# apparent resistivity\n",
    "ax[0].loglog(frequency, app_res_true, '-k', lw=1, label=\"clean\")\n",
    "ax[0].loglog(frequency, app_res_obs, '-oC1', lw=1, label=\"noisy\")\n",
    "ax[0].set_ylabel(\"$\\\\rho_a \\ (\\Omega m)$\", fontsize = 14)\n",
    "ax[0].set_ylim([10, 3e2])\n",
    "\n",
    "# phase\n",
    "ax[1].semilogx(frequency, phase_true, '-k', lw=1, label=\"clean\")\n",
    "ax[1].semilogx(frequency, phase_obs, '-oC2', lw=1, label=\"noisy\")\n",
    "ax[1].set_ylabel(\"Phase (degree)\")\n",
    "ax[1].set_ylim([30, 80])\n",
    "\n",
    "for a in ax:\n",
    "    a.grid(True, which='both', linewidth=0.4)\n",
    "    a.legend()\n",
    "    a.set_xlim(frequency.max(), frequency.min())\n",
    "    a.set_xlabel(\"Frequency (Hz)\")\n",
    "\n",
    "plt.tight_layout()"
   ]
  },
  {
   "cell_type": "markdown",
   "metadata": {},
   "source": [
    "## Inverse Problem: Machinery\n",
    "\n",
    "Our setup of the inversion follows the [SimPEG framework](http://simpeg.xyz).  \n",
    "\n",
    "<img href=\"http://simpeg.xyz\" src=\"http://www.simpeg.xyz/img/simpeg/workflow.png\" width=400px>\n",
    "\n",
    "The \"inversion implementation\" consists of 8 modules, 3 of which we have already been working with. This is a very brief overview. For more details, see the [SimPEG docs](http://docs.simpeg.xyz)\n",
    "\n",
    "- `Mesh`: mesh geometry and differential operators\n",
    "- `Problem`: physics engine. contains the machinery to construct and solve the PDE\n",
    "- `Survey`: sources and receivers\n",
    "- `Data Misfit`: measure of how \"far\" the predicted data are from the observed data\n",
    "- `Regularization`: Regularization on the model. Here we use Tikhonov regularization\n",
    "- `InvProb`: statement of the inverse problem, brings together the data misfit and regularization to define an objective function that we minimize in the inversion\n",
    "- `Optimization`: algorithm we will use to perform the optimization in the inversion, here, we choose a gradient based approach\n",
    "- `Inversion`: Bring everything together to run the inversion. This includes `directives` which are instructions on updates that should be made during the course of the inversion (eg. cooling beta) and stopping criteria (eg. target misfit)"
   ]
  },
  {
   "cell_type": "code",
   "execution_count": 16,
   "metadata": {
    "collapsed": true
   },
   "outputs": [],
   "source": [
    "def run_MT1Dinv(\n",
    "    prob,  # 1D MT problem\n",
    "    survey,  # 1D MT survey with sources and receivers\n",
    "    m0,  # starting model\n",
    "    mref=None,  # reference model\n",
    "    alpha_s=1.,  # smallness weight\n",
    "    alpha_z=1.,  # smoothness weight\n",
    "    beta0=1e1,  # trade off parameter\n",
    "    use_betaest=False,  # estimate an initial beta based on the the data misfit and regularization terms\n",
    "    beta0_ratio=None , # if we are estimating beta, how much should we favor the regularization?\n",
    "    coolingFactor=1.5,  # cooling factor \n",
    "    coolingRate=1,  # cool beta after this many iterations \n",
    "    use_target=True,  # stop the inversion at the target misfit?\n",
    "\n",
    "):\n",
    "    # if the starting model is not defined, use the reference model\n",
    "    if mref is None:\n",
    "        mref = m0\n",
    "    \n",
    "    # Data misfit\n",
    "    dmisfit = DataMisfit.l2_DataMisfit(survey)\n",
    "    dmisfit.W = 1./uncert\n",
    "    \n",
    "    # Regularization\n",
    "    reg = Regularization.Simple(\n",
    "        prob.mesh, alpha_s=alpha_s, alpha_x=alpha_z, mref=mref\n",
    "    ) # since we are in 1D, we work with the first dimension\n",
    "    \n",
    "    # Optimization\n",
    "    opt = Optimization.InexactGaussNewton(maxIter=35, LSshorten=0.05)\n",
    "    \n",
    "    # Statement of the inverse problem \n",
    "    invProb = InvProblem.BaseInvProblem(dmisfit, reg, opt)\n",
    "    \n",
    "    # Inversion Directives\n",
    "    beta = Directives.BetaSchedule(\n",
    "        coolingFactor=coolingFactor, coolingRate=coolingRate\n",
    "    )\n",
    "    invProb.beta = beta0\n",
    "    invProgress = Directives.SaveOutputEveryIteration(save_txt=False)\n",
    "    target = Directives.TargetMisfit()\n",
    "    directives = [beta, invProgress]\n",
    "\n",
    "    if use_target:\n",
    "        directives.append(target)\n",
    "    if use_betaest:\n",
    "        if beta0_ratio is None:\n",
    "            beta0_ratio = 1.\n",
    "        betaest = Directives.BetaEstimate_ByEig(beta0_ratio=beta0_ratio)\n",
    "        directives.append(betaest)      \n",
    "        \n",
    "    # assemble in an inversion\n",
    "    inv = Inversion.BaseInversion(invProb, directiveList=directives)\n",
    "    prob.counter = opt.counter = Utils.Counter()\n",
    "    opt.remember('xc')\n",
    "    \n",
    "    # run the inversion\n",
    "    mopt = inv.run(m0)\n",
    "    xc = opt.recall(\"xc\")\n",
    "    return xc, invProgress, reg"
   ]
  },
  {
   "cell_type": "markdown",
   "metadata": {},
   "source": [
    "## Inverse Problem: Choices\n",
    "\n",
    "### Target Misfit and the ideal $\\beta$\n",
    "\n",
    "If the noise is Gaussian, then the sum of squares (our data misfit) is a Chi-squared distribution, which has an expected value of $N_\\text{data}$ (in our case, we divide this by two to match our definition of $\\phi_d$). Thus, the ideal choice of $\\beta$ is one that gives us \n",
    "$$\\phi_d^* \\approx \\frac{1}{2} N_\\text{data}$$\n",
    "\n",
    "You can choose to stop the inversion once it achieves the target misfit (`use_target=True`). For this example, we want to also demonstrate what happens when you over-fit the data, so we will not stop it at the target misfit, but run the inversion until it hits the maximum number of iterations. \n",
    "\n",
    "#### A (longish) note: $\\beta$ cooling\n",
    "In this example, we will run an inversion where we cool (reduce the value of) `beta` every iteration. In practice, `beta` cooling strategy is often applied in non-linear inversions. The data misfit contribution objective function is non-convex, meaning that it has more than one local minimum. The Tikhonov regularization is convex. Having a large `beta` ensures that at least locally, the function is convex, so we can make progress using a gradient-based optimization step. However, keeping `beta` very high means that we do a good job fitting the regularization, and not necessarily fitting the data. Adopting a cooling schedule is one strategy for trying to address these competing challenges: by starting with a large beta and gradually reducing it, we make progress on a locally convex problem and then gradually allow more structure to the model by gradually reducing the value of `beta`. Typically multiple model updates are made for each beta-value (eg. you can increase the `coolingRate` to 3 to have 3 model update steps taken for each value of beta). The `coolingFactor` is the factor by which we reduce beta at the next beta-iteration (eg. `beta[i+1] = beta[i]/coolingFactor`).\n",
    "\n",
    "The `use_betaest` selects if we estimate a first beta or prescribe it. The directive which estimates the first `beta` value approximates the relative magnitudes of both $\\phi_d$ and $\\phi_m$ (eg. if $\\phi_d \\sim 10$ and $\\phi_m \\sim 1$, then to balance their influence in the objective function, we would choose $\\beta = 10$). The `beta_factor` is a scaling factor so that we can specify if we would like the influence of $\\phi_m$ to be `beta_factor` times larger than $\\phi_d$ (eg. if $\\phi_d \\sim 10$ and $\\phi_m \\sim 1$ and we use `beta_factor = 2`, then the initial beta would be 20). \n",
    "\n",
    "For the following example, we will gradually reduce $\\beta$ at every iteration - this allows us to plot out a \"typical\" Tikhonov or trade-off curve of $\\phi_d$ vs. $\\phi_m$. We encourage you to explore different beta-cooling strategies. \n",
    "\n",
    "\n",
    "## Regularization and tuning smallness vs. smoothness\n",
    "\n",
    "Here, we perform a \"smooth\" inversion, that is, we define $\\alpha_s \\ll \\alpha_z$, and penalize large gradients in the model. What happens if you reverse the values of `alpha_s` and `\\alpha_z` and instead perform a \"small\" inversion?\n",
    "\n",
    "\n",
    "## Starting and Reference Models\n",
    "\n",
    "For both a starting and reference model, we use the background conductivity of $10^{-2}$ S/m. Since in the inversion,the model is $\\log(\\sigma)$, we take the logarithm. What happens when you change these?"
   ]
  },
  {
   "cell_type": "code",
   "execution_count": 17,
   "metadata": {},
   "outputs": [
    {
     "name": "stdout",
     "output_type": "stream",
     "text": [
      "SimPEG.DataMisfit.l2_DataMisfit assigning default eps of 1e-5 * ||dobs||\n",
      "\n",
      "    SimPEG.InvProblem is setting bfgsH0 to the inverse of the eval2Deriv.\n",
      "    ***Done using same Solver and solverOpts as the problem***\n",
      "model has any nan: 0\n",
      "============================ Inexact Gauss Newton ============================\n",
      "  #     beta     phi_d     phi_m       f      |proj(x-g)-x|  LS    Comment   \n",
      "-----------------------------------------------------------------------------\n",
      "x0 has any nan: 0\n",
      "   0  8.45e+02  1.72e+03  0.00e+00  1.72e+03    4.89e+02      0              \n",
      "   1  5.64e+02  2.75e+02  2.18e-01  3.98e+02    6.22e+01      0              \n",
      "   2  3.76e+02  1.49e+02  3.54e-01  2.82e+02    2.12e+01      0   Skip BFGS  \n",
      "   3  2.50e+02  1.13e+02  4.31e-01  2.21e+02    1.72e+01      0   Skip BFGS  \n",
      "   4  1.67e+02  8.36e+01  5.24e-01  1.71e+02    1.33e+01      0   Skip BFGS  \n",
      "   5  1.11e+02  6.27e+01  6.24e-01  1.32e+02    1.06e+01      0   Skip BFGS  \n",
      "   6  7.42e+01  4.77e+01  7.31e-01  1.02e+02    8.18e+00      0   Skip BFGS  \n",
      "   7  4.95e+01  3.73e+01  8.42e-01  7.90e+01    6.25e+00      0   Skip BFGS  \n",
      "   8  3.30e+01  3.04e+01  9.54e-01  6.19e+01    4.65e+00      0   Skip BFGS  \n",
      "   9  2.20e+01  2.59e+01  1.06e+00  4.93e+01    3.43e+00      0   Skip BFGS  \n",
      "  10  1.47e+01  2.30e+01  1.17e+00  4.01e+01    2.50e+00      0   Skip BFGS  \n",
      "  11  9.77e+00  2.10e+01  1.27e+00  3.35e+01    1.79e+00      0   Skip BFGS  \n",
      "  12  6.52e+00  1.97e+01  1.39e+00  2.87e+01    1.30e+00      0   Skip BFGS  \n",
      "  13  4.34e+00  1.87e+01  1.50e+00  2.52e+01    1.00e+00      0   Skip BFGS  \n",
      "  14  2.90e+00  1.80e+01  1.63e+00  2.27e+01    9.09e-01      0   Skip BFGS  \n",
      "  15  1.93e+00  1.74e+01  1.81e+00  2.09e+01    5.36e-01      0   Skip BFGS  \n",
      "  16  1.29e+00  1.69e+01  1.99e+00  1.95e+01    6.30e-01      0   Skip BFGS  \n",
      "  17  8.58e-01  1.68e+01  2.07e+00  1.85e+01    6.45e-01      0              \n",
      "  18  5.72e-01  1.64e+01  2.37e+00  1.78e+01    1.07e+00      0   Skip BFGS  \n",
      "  19  3.81e-01  1.62e+01  2.58e+00  1.72e+01    1.36e+00      0   Skip BFGS  \n",
      "  20  2.54e-01  1.60e+01  3.07e+00  1.67e+01    1.42e+00      0              \n",
      "  21  1.69e-01  1.59e+01  3.17e+00  1.64e+01    1.15e+00      0              \n",
      "  22  1.13e-01  1.57e+01  3.98e+00  1.61e+01    1.89e+00      0              \n",
      "  23  7.53e-02  1.56e+01  4.43e+00  1.59e+01    1.00e+00      0              \n",
      "  24  5.02e-02  1.55e+01  4.42e+00  1.58e+01    5.32e-01      0              \n",
      "  25  3.35e-02  1.55e+01  4.81e+00  1.57e+01    6.53e-01      0              \n",
      "  26  2.23e-02  1.55e+01  5.03e+00  1.56e+01    4.23e-01      0              \n",
      "  27  1.49e-02  1.55e+01  5.33e+00  1.55e+01    6.44e-01      0              \n",
      "  28  9.92e-03  1.54e+01  5.24e+00  1.55e+01    6.34e-01      0              \n",
      "  29  6.61e-03  1.54e+01  5.61e+00  1.55e+01    1.15e+00      0   Skip BFGS  \n",
      "  30  4.41e-03  1.54e+01  5.73e+00  1.54e+01    7.60e-01      0              \n",
      "  31  2.94e-03  1.54e+01  5.66e+00  1.54e+01    7.49e-01      0              \n",
      "  32  1.96e-03  1.54e+01  5.75e+00  1.54e+01    6.00e-01      0   Skip BFGS  \n",
      "  33  1.31e-03  1.54e+01  5.77e+00  1.54e+01    7.76e-01      0              \n",
      "  34  8.71e-04  1.54e+01  5.85e+00  1.54e+01    8.94e-01      0   Skip BFGS  \n",
      "  35  5.81e-04  1.54e+01  6.02e+00  1.54e+01    6.15e-01      0              \n",
      "------------------------- STOP! -------------------------\n",
      "1 : |fc-fOld| = 1.8544e-02 <= tolF*(1+|f0|) = 1.7197e+02\n",
      "1 : |xc-x_last| = 3.6742e-01 <= tolX*(1+|x0|) = 3.7841e+00\n",
      "0 : |proj(x-g)-x|    = 6.1457e-01 <= tolG          = 1.0000e-01\n",
      "0 : |proj(x-g)-x|    = 6.1457e-01 <= 1e3*eps       = 1.0000e-02\n",
      "1 : maxIter   =      35    <= iter          =     35\n",
      "------------------------- DONE! -------------------------\n"
     ]
    }
   ],
   "source": [
    "sigma_ref = 1e-2  # reference conductivity\n",
    "sigma_0 = 1e-2  # starting conductivity \n",
    "\n",
    "# translate the starting and reference model to log-conductivity\n",
    "mref = np.log(sigma_ref)*np.ones(mesh.nC)\n",
    "m0 = np.log(sigma_0)*np.ones(mesh.nC)\n",
    "\n",
    "xc, invProgress, reg = run_MT1Dinv(\n",
    "    prob, \n",
    "    survey, \n",
    "    m0=m0,  # starting model\n",
    "    mref=mref,  # reference model\n",
    "    alpha_s=1e-2,  # smallness contribution\n",
    "    alpha_z=1.,  # smoothness contribution to the regularization\n",
    "    use_betaest=True,  # estimate the initial beta\n",
    "    beta0_ratio=10.,   # starting contribution of regularization 10x larger than the data misfit  \n",
    "    coolingFactor=1.5,  # how much should we reduce beta at every beta-iteration\n",
    "    coolingRate=1,   # reduce beta after each `coolingRate` iterations  \n",
    "    use_target=False  # stop the inversion at the target misfit?\n",
    ")"
   ]
  },
  {
   "cell_type": "markdown",
   "metadata": {},
   "source": [
    "### Inversion Progress: What does the $\\beta$-knob do?\n",
    "In the following plots, we show\n",
    "- $\\phi_d$ vs. $\\beta$\n",
    "- $\\phi_m$ vs. $\\beta$\n",
    "- $\\phi_d$ vs. $\\phi_m$\n",
    "\n",
    "Notice that as $\\beta$ decreases, $\\phi_d$ decreases and $\\phi_m$ increases (as we decrease the importance of the model regularization, we introduce more structure in the model and do a better job fitting the data) \n",
    "\n",
    "In all plots, the star indicates the iteration where we achieved target misfit. "
   ]
  },
  {
   "cell_type": "code",
   "execution_count": 18,
   "metadata": {},
   "outputs": [
    {
     "data": {
      "image/png": "[encoded data removed]",
      "text/plain": [
       "<matplotlib.figure.Figure at 0x11b42b710>"
      ]
     },
     "metadata": {},
     "output_type": "display_data"
    }
   ],
   "source": [
    "invProgress.plot_tikhonov_curves()"
   ]
  },
  {
   "cell_type": "code",
   "execution_count": 19,
   "metadata": {},
   "outputs": [
    {
     "data": {
      "image/png": "[encoded data removed]",
      "text/plain": [
       "<matplotlib.figure.Figure at 0x133ab8310>"
      ]
     },
     "metadata": {},
     "output_type": "display_data"
    }
   ],
   "source": [
    "invProgress.plot_misfit_curves()"
   ]
  },
  {
   "cell_type": "markdown",
   "metadata": {},
   "source": [
    "## The results! \n",
    "\n",
    "In what follows, we will generate an interactive plots that show \n",
    "\n",
    "- (a) the true and recovered model\n",
    "\n",
    "- (b) the Tikhonov curve with the target misfit plotted as a star, and the current iteration as a dot\n",
    "\n",
    "- (c) predicted and observed apparent resistivity curve\n",
    "\n",
    "- (d) predicted and observed phase curve\n",
    "\n",
    "What does our data fit look like at each iteration? When have we underfit the data? overfit the data? Let's scroll through the inversion results and see. "
   ]
  },
  {
   "cell_type": "code",
   "execution_count": 20,
   "metadata": {},
   "outputs": [
    {
     "name": "stdout",
     "output_type": "stream",
     "text": [
      "The inversion reached target misfit after 9 iterations\n"
     ]
    }
   ],
   "source": [
    "# grab beta, phi_d, phi_m from the inversion. They are lists, so we convert them to arrays\n",
    "beta = np.array(invProgress.beta)\n",
    "phi_d = np.array(invProgress.phi_d)\n",
    "phi_m = np.array(invProgress.phi_m)\n",
    "\n",
    "# find the iteration where we achieved target misfit\n",
    "i_target = invProgress.i_target  \n",
    "\n",
    "print(\"The inversion reached target misfit after {} iterations\".format(i_target))"
   ]
  },
  {
   "cell_type": "code",
   "execution_count": 21,
   "metadata": {
    "collapsed": true
   },
   "outputs": [],
   "source": [
    "from ipywidgets import interact, IntSlider, ToggleButtons"
   ]
  },
  {
   "cell_type": "code",
   "execution_count": 22,
   "metadata": {
    "collapsed": true
   },
   "outputs": [],
   "source": [
    "def view_1Dinversion_results(iteration, scale=\"linear\"):\n",
    "    fig, ax = plt.subplots(2, 2, figsize=(12, 6), dpi=400)\n",
    "    ax = ax.flatten()\n",
    "    \n",
    "    # get the apparent resistivity and phase data for this iteration\n",
    "    dpred = survey.dpred(xc[iteration])\n",
    "    app_res_pred, phase_pred = appres_phase_from_data(\n",
    "        dpred, frequency\n",
    "    )\n",
    "    \n",
    "    # plot the true and recovered models\n",
    "    m_iter = xc[iteration]\n",
    "    sigtrue = np.repeat(sigma, 2, axis=0)\n",
    "    z = np.repeat(mesh.vectorCCx[1:], 2, axis=0)\n",
    "    z = np.r_[mesh.vectorCCx[0], z, mesh.vectorCCx[-1]]\n",
    "\n",
    "    ax[0].loglog(-z, sigtrue, 'k', lw=1, label='true')\n",
    "    ax[0].loglog(-mesh.vectorCCx, np.exp(m_iter), 'C0', lw=2, label='recovered')\n",
    "    ax[0].set_ylabel(\"Conductivity (S/m)\", fontsize = 14)\n",
    "    ax[0].set_xlabel(\"Depth (m)\", fontsize = 14)\n",
    "    ax[0].set_ylim(2e-3, 2e-1)\n",
    "    ax[0].set_xlim((-z).min(), (-z).max())\n",
    "    ax[0].legend(loc=1)\n",
    "    \n",
    "    # plot the Tikhonov curve\n",
    "    ax[2].loglog(phi_m, phi_d, 'k-', lw=2)\n",
    "    ax[2].loglog(phi_m[i_target], phi_d[i_target], 'C3*', ms=12, label=\"target\")\n",
    "    ax[2].loglog(phi_m[iteration], phi_d[iteration], 'C7o', ms=10, label=\"iteration\")\n",
    "    ax[2].set_xlim(phi_m.min(), phi_m.max())\n",
    "    ax[2].set_xlabel(\"$\\phi_m$\", fontsize = 14)\n",
    "    ax[2].set_ylabel(\"$\\phi_d$\", fontsize = 14)\n",
    "    ax[2].set_xscale(scale)\n",
    "    ax[2].legend()\n",
    "    \n",
    "    # add iteration and beta values\n",
    "    ax[2].text(\n",
    "        phi_m.min()*1.1, phi_d.min()*1.25,\n",
    "        \"$\\\\beta$ = {:1.1e} \\n Iteration: {}\".format(\n",
    "            beta[iteration], iteration\n",
    "        ), fontsize=14 #, xy=(0, 0), xytext=(0, 0)\n",
    "    )\n",
    "\n",
    "    # plot the apparend resistivity data\n",
    "    ax[1].loglog(frequency, app_res_obs, '.k-', linewidth=1, label='obs')\n",
    "    ax[1].loglog(frequency, app_res_pred, '-oC1', label='pred')\n",
    "    ax[1].set_xlim(frequency.max(), frequency.min())\n",
    "    ax[1].set_ylim(10, 3e2)\n",
    "    ax[1].set_xlabel(\"Frequency (Hz)\", fontsize = 14)\n",
    "    ax[1].set_ylabel(\"$\\\\rho_a \\ (\\Omega m)$\", fontsize = 14)\n",
    "    ax[1].legend(loc=1)\n",
    "\n",
    "    # plot the phase\n",
    "    ax[3].semilogx(frequency, phase_obs, '.k-', linewidth=1, label=\"obs\")\n",
    "    ax[3].semilogx(frequency, phase_pred, '-oC2', label=\"pred\")\n",
    "    ax[3].set_xlim(frequency.max(), frequency.min())\n",
    "    ax[3].set_xlabel(\"Frequency (Hz)\", fontsize = 14)\n",
    "    ax[3].set_ylabel(\"Phase (degree)\", fontsize = 14)\n",
    "    ax[3].legend(loc=1)\n",
    "\n",
    "    for a, title in zip(ax, ['(a)', '(b)', '(c)', '(d)']):\n",
    "        a.set_title(title, fontsize=14)\n",
    "        if title != \"c\":\n",
    "            a.grid(True, which='both', linewidth=0.4)\n",
    "    \n",
    "    plt.tight_layout()\n",
    "    plt.show()\n"
   ]
  },
  {
   "cell_type": "code",
   "execution_count": 23,
   "metadata": {},
   "outputs": [
    {
     "data": {
      "application/vnd.jupyter.widget-view+json": {
       "model_id": "96d53acc467e44b0a8036141d6cee259"
      }
     },
     "metadata": {},
     "output_type": "display_data"
    },
    {
     "data": {
      "text/plain": [
       "<function __main__.view_1Dinversion_results>"
      ]
     },
     "execution_count": 23,
     "metadata": {},
     "output_type": "execute_result"
    }
   ],
   "source": [
    "interact(\n",
    "    view_1Dinversion_results, \n",
    "    iteration=IntSlider(min=0, max=beta.shape[0]-1, step=1, value=0),\n",
    "    scale=ToggleButtons(options=[\"linear\", \"log\"], value=\"log\")\n",
    ")"
   ]
  },
  {
   "cell_type": "markdown",
   "metadata": {},
   "source": [
    "### The $\\alpha$ knob\n",
    "\n",
    "In the example above, we prescribed the values the $\\alpha_s$, $\\alpha_z$. What impact do they have on the character of the model we recover?\n",
    "\n",
    "We will run two inversions with different regularization parameters: \n",
    "1. a _smooth_ inversion, with $\\alpha_s = 10^{-5}$ and $\\alpha_z = 1$, and \n",
    "2. a _small_ inversion, with $\\alpha_s = 1$ and $\\alpha_z = 10^{-5}$. \n",
    "\n",
    "We will stop these inversion when each reaches target misfit"
   ]
  },
  {
   "cell_type": "markdown",
   "metadata": {},
   "source": [
    "#### Smooth Inversion"
   ]
  },
  {
   "cell_type": "code",
   "execution_count": 27,
   "metadata": {},
   "outputs": [
    {
     "name": "stdout",
     "output_type": "stream",
     "text": [
      "SimPEG.DataMisfit.l2_DataMisfit assigning default eps of 1e-5 * ||dobs||\n",
      "\n",
      "    SimPEG.InvProblem is setting bfgsH0 to the inverse of the eval2Deriv.\n",
      "    ***Done using same Solver and solverOpts as the problem***\n",
      "model has any nan: 0\n",
      "============================ Inexact Gauss Newton ============================\n",
      "  #     beta     phi_d     phi_m       f      |proj(x-g)-x|  LS    Comment   \n",
      "-----------------------------------------------------------------------------\n",
      "x0 has any nan: 0\n",
      "   0  1.28e+03  1.72e+03  0.00e+00  1.72e+03    4.89e+02      0              \n",
      "   1  8.51e+02  2.16e+02  1.54e-02  2.29e+02    6.64e+01      0              \n",
      "   2  5.68e+02  1.18e+02  4.28e-02  1.42e+02    1.46e+01      0   Skip BFGS  \n",
      "   3  3.78e+02  1.01e+02  6.49e-02  1.26e+02    1.28e+01      0   Skip BFGS  \n",
      "   4  2.52e+02  8.48e+01  9.92e-02  1.10e+02    1.14e+01      0   Skip BFGS  \n",
      "   5  1.68e+02  6.88e+01  1.49e-01  9.39e+01    9.77e+00      0   Skip BFGS  \n",
      "   6  1.12e+02  5.46e+01  2.16e-01  7.88e+01    8.06e+00      0   Skip BFGS  \n",
      "   7  7.47e+01  4.34e+01  2.97e-01  6.55e+01    6.43e+00      0   Skip BFGS  \n",
      "   8  4.98e+01  3.51e+01  3.85e-01  5.43e+01    5.06e+00      0   Skip BFGS  \n",
      "   9  3.32e+01  2.94e+01  4.78e-01  4.53e+01    3.89e+00      0   Skip BFGS  \n",
      "  10  2.21e+01  2.56e+01  5.71e-01  3.82e+01    2.96e+00      0   Skip BFGS  \n",
      "------------------------- STOP! -------------------------\n",
      "1 : |fc-fOld| = 0.0000e+00 <= tolF*(1+|f0|) = 1.7197e+02\n",
      "1 : |xc-x_last| = 4.8190e-01 <= tolX*(1+|x0|) = 3.7841e+00\n",
      "0 : |proj(x-g)-x|    = 2.9612e+00 <= tolG          = 1.0000e-01\n",
      "0 : |proj(x-g)-x|    = 2.9612e+00 <= 1e3*eps       = 1.0000e-02\n",
      "0 : maxIter   =      35    <= iter          =     11\n",
      "------------------------- DONE! -------------------------\n"
     ]
    }
   ],
   "source": [
    "sigma_ref = 1e-2  # reference conductivity\n",
    "sigma_0 = 1e-2  # starting conductivity \n",
    "\n",
    "# translate the starting and reference model to log-conductivity\n",
    "mref = np.log(sigma_ref)*np.ones(mesh.nC)\n",
    "m0 = np.log(sigma_0)*np.ones(mesh.nC)\n",
    "\n",
    "xc_smooth, invProgress_smooth, reg_smooth = run_MT1Dinv(\n",
    "    prob, \n",
    "    survey, \n",
    "    m0=m0,  # starting model\n",
    "    mref=mref,  # reference model\n",
    "    alpha_s=1e-5,  # smallness contribution\n",
    "    alpha_z=1.,  # smoothness contribution to the regularization\n",
    "    use_betaest=True,  # estimate the initial beta\n",
    "    beta0_ratio=10.,   # starting contribution of regularization 10x larger than the data misfit  \n",
    "    coolingFactor=1.5,  # how much should we reduce beta at every beta-iteration\n",
    "    coolingRate=1,   # reduce beta after each `coolingRate` iterations  \n",
    "    use_target=True  # stop the inversion at the target misfit?\n",
    ")"
   ]
  },
  {
   "cell_type": "markdown",
   "metadata": {},
   "source": [
    "#### Small Inversion"
   ]
  },
  {
   "cell_type": "code",
   "execution_count": 28,
   "metadata": {},
   "outputs": [
    {
     "name": "stdout",
     "output_type": "stream",
     "text": [
      "SimPEG.DataMisfit.l2_DataMisfit assigning default eps of 1e-5 * ||dobs||\n",
      "\n",
      "    SimPEG.InvProblem is setting bfgsH0 to the inverse of the eval2Deriv.\n",
      "    ***Done using same Solver and solverOpts as the problem***\n",
      "model has any nan: 0\n",
      "============================ Inexact Gauss Newton ============================\n",
      "  #     beta     phi_d     phi_m       f      |proj(x-g)-x|  LS    Comment   \n",
      "-----------------------------------------------------------------------------\n",
      "x0 has any nan: 0\n",
      "   0  4.75e+02  1.72e+03  0.00e+00  1.72e+03    4.89e+02      0              \n",
      "   1  3.17e+02  1.33e+03  3.90e-01  1.45e+03    1.15e+02      0              \n",
      "   2  2.11e+02  1.22e+03  6.96e-01  1.36e+03    1.16e+02      0   Skip BFGS  \n",
      "   3  1.41e+02  1.07e+03  1.29e+00  1.25e+03    1.02e+02      0              \n",
      "   4  9.38e+01  9.13e+02  2.24e+00  1.12e+03    9.01e+01      0   Skip BFGS  \n",
      "   5  6.26e+01  7.48e+02  3.72e+00  9.81e+02    7.59e+01      0   Skip BFGS  \n",
      "   6  4.17e+01  5.91e+02  5.86e+00  8.35e+02    6.24e+01      0   Skip BFGS  \n",
      "   7  2.78e+01  4.50e+02  8.71e+00  6.93e+02    5.08e+01      0   Skip BFGS  \n",
      "   8  1.85e+01  3.30e+02  1.23e+01  5.58e+02    4.14e+01      0   Skip BFGS  \n",
      "   9  1.24e+01  2.31e+02  1.67e+01  4.37e+02    3.33e+01      0   Skip BFGS  \n",
      "  10  8.24e+00  1.54e+02  2.16e+01  3.32e+02    2.63e+01      0   Skip BFGS  \n",
      "  11  5.49e+00  9.72e+01  2.68e+01  2.44e+02    2.03e+01      0   Skip BFGS  \n",
      "  12  3.66e+00  5.80e+01  3.16e+01  1.74e+02    1.49e+01      0   Skip BFGS  \n",
      "  13  2.44e+00  3.48e+01  3.51e+01  1.21e+02    9.30e+00      0              \n",
      "------------------------- STOP! -------------------------\n",
      "1 : |fc-fOld| = 0.0000e+00 <= tolF*(1+|f0|) = 1.7197e+02\n",
      "1 : |xc-x_last| = 1.6276e+00 <= tolX*(1+|x0|) = 3.7841e+00\n",
      "0 : |proj(x-g)-x|    = 9.3022e+00 <= tolG          = 1.0000e-01\n",
      "0 : |proj(x-g)-x|    = 9.3022e+00 <= 1e3*eps       = 1.0000e-02\n",
      "0 : maxIter   =      35    <= iter          =     14\n",
      "------------------------- DONE! -------------------------\n"
     ]
    }
   ],
   "source": [
    "sigma_ref = 1e-2  # reference conductivity\n",
    "sigma_0 = 1e-2  # starting conductivity \n",
    "\n",
    "# translate the starting and reference model to log-conductivity\n",
    "mref = np.log(sigma_ref)*np.ones(mesh.nC)\n",
    "m0 = np.log(sigma_0)*np.ones(mesh.nC)\n",
    "\n",
    "xc_small, invProgress_small, reg_small = run_MT1Dinv(\n",
    "    prob, \n",
    "    survey, \n",
    "    m0=m0,  # starting model\n",
    "    mref=mref,  # reference model\n",
    "    alpha_s=1.,  # smallness contribution\n",
    "    alpha_z=1e-5,  # smoothness contribution to the regularization\n",
    "    use_betaest=True,  # estimate the initial beta\n",
    "    beta0_ratio=10.,   # starting contribution of regularization 10x larger than the data misfit  \n",
    "    coolingFactor=1.5,  # how much should we reduce beta at every beta-iteration\n",
    "    coolingRate=1,   # reduce beta after each `coolingRate` iterations  \n",
    "    use_target=True  # stop the inversion at the target misfit?\n",
    ")"
   ]
  },
  {
   "cell_type": "markdown",
   "metadata": {},
   "source": [
    "#### Compare the results\n",
    "\n",
    "The smooth inversion penalizes large gradients; the resulting model (blue) has two smooth peaks. Note that we smooth over the resistive third layer, over-estimating its conductivity. The small inversion instead favors models that are close to the reference model; this model has more structure, some of which are artifacts (eg the spike at $2\\times 10^4$ m ). "
   ]
  },
  {
   "cell_type": "code",
   "execution_count": 29,
   "metadata": {},
   "outputs": [
    {
     "data": {
      "text/plain": [
       "<matplotlib.legend.Legend at 0x133ce5450>"
      ]
     },
     "execution_count": 29,
     "metadata": {},
     "output_type": "execute_result"
    },
    {
     "data": {
      "image/png": "[encoded data removed]",
      "text/plain": [
       "<matplotlib.figure.Figure at 0x133a96a90>"
      ]
     },
     "metadata": {},
     "output_type": "display_data"
    }
   ],
   "source": [
    "fig, ax = plt.subplots(1, 1, figsize=(8, 3))\n",
    "\n",
    "sigma_true = np.repeat(sigma, 2, axis=0)\n",
    "z = np.repeat(mesh.vectorCCx[1:], 2, axis=0)\n",
    "z = np.r_[mesh.vectorCCx[0], z, mesh.vectorCCx[-1]]\n",
    "\n",
    "# true model\n",
    "ax.loglog(-z, sigma_true, 'k', lw=1, label='true')\n",
    "\n",
    "# recovered models\n",
    "# Recall that our model is log conductivity \n",
    "# so to obtain the true conductivity, we take the exponential\n",
    "ax.loglog(-mesh.vectorCCx, np.exp(xc_smooth[-1]), 'C0', lw=2, label='smooth')\n",
    "ax.loglog(-mesh.vectorCCx, np.exp(xc_small[-1]), 'C5', lw=2, label='small')\n",
    "\n",
    "ax.set_ylabel(\"Conductivity (S/m)\")\n",
    "ax.set_xlabel(\"Depth (m)\")\n",
    "ax.grid(True, which='both', linewidth=0.4)\n",
    "ax.set_ylim(2e-3, 2e-1)\n",
    "ax.set_xlim((-z).min(), (-z).max())\n",
    "ax.legend(loc=2)"
   ]
  },
  {
   "cell_type": "markdown",
   "metadata": {
    "collapsed": true
   },
   "source": [
    "In practice, these parameters are often determined by experimentation - we encourage you to play! "
   ]
  },
  {
   "cell_type": "code",
   "execution_count": null,
   "metadata": {
    "collapsed": true
   },
   "outputs": [],
   "source": []
  }
 ],
 "metadata": {
  "anaconda-cloud": {},
  "kernelspec": {
   "display_name": "Python [default]",
   "language": "python",
   "name": "python2"
  },
  "language_info": {
   "codemirror_mode": {
    "name": "ipython",
    "version": 2
   },
   "file_extension": ".py",
   "mimetype": "text/x-python",
   "name": "python",
   "nbconvert_exporter": "python",
   "pygments_lexer": "ipython2",
   "version": "2.7.13"
  }
 },
 "nbformat": 4,
 "nbformat_minor": 2
}

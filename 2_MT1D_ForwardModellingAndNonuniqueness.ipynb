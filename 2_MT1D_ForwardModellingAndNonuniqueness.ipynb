{
 "cells": [
  {
   "cell_type": "markdown",
   "metadata": {},
   "source": [
    "**Getting Started**\n",
    "\n",
    "This tutorial relies on standard python packages as well as [SimPEG](http://simpeg.xyz). If you do not have SimPEG installed, you can uncomment the next line and install it from [pypi](https://pypi.python.org/pypi/SimPEG)."
   ]
  },
  {
   "cell_type": "code",
   "execution_count": 36,
   "metadata": {
    "collapsed": true
   },
   "outputs": [],
   "source": [
    "# !pip install SimPEG"
   ]
  },
  {
   "cell_type": "markdown",
   "metadata": {},
   "source": [
    "# Forward simulation the 1D Magnetotelluric (MT) problem\n",
    "\n",
    "In the [previous notebook](./MT1D_Simulation.ipynb), we walked through how to discretize and solve the 1D Magnetotelluric (MT) problem using a finite difference approach. In this notebook, we will use the numerical simulation to simulate MT data and explore concepts including\n",
    "- **Mesh Design**: we will compare our numerical result to an analytic and see what happens when cell sizes are too large, or the domain doesn't extend far enough\n",
    "- **Non-uniqueness**: prior to inverting geophysical data, it is important to set expectations on what we hope to recover from those data. Forward modelling is a powerful tool for getting a handle on this. "
   ]
  },
  {
   "cell_type": "code",
   "execution_count": 37,
   "metadata": {
    "collapsed": true
   },
   "outputs": [],
   "source": [
    "import numpy as np\n",
    "import scipy.sparse as sp\n",
    "import matplotlib.pyplot as plt\n",
    "from SimPEG import Mesh, Utils, Solver\n",
    "from scipy.constants import mu_0, epsilon_0\n",
    "import matplotlib\n",
    "matplotlib.rcParams[\"font.size\"] = 13\n",
    "%matplotlib inline"
   ]
  },
  {
   "cell_type": "markdown",
   "metadata": {},
   "source": [
    "In the [previous notebook](./MT1D_Simulation), we generated the function `simulateMT` in the file `MTforward.py`, we will import that and use it in this notebook. "
   ]
  },
  {
   "cell_type": "code",
   "execution_count": 38,
   "metadata": {
    "collapsed": true
   },
   "outputs": [],
   "source": [
    "from MTforward import simulateMT"
   ]
  },
  {
   "cell_type": "markdown",
   "metadata": {},
   "source": [
    "## Set up Model Parameters\n",
    "\n",
    "To define an MT simulation, we will set up a conductivity model a frequency range over which we wish to simulate. We will use:\n",
    "- a background resistivity of $\\rho = 100 \\Omega m$ ($10^{-2} Sm$)\n",
    "- 25 frequencies between $10^{-3}$ Hz and 100 Hz"
   ]
  },
  {
   "cell_type": "code",
   "execution_count": 39,
   "metadata": {
    "collapsed": true
   },
   "outputs": [],
   "source": [
    "rho_half = 100.  # Resistivity of the halfspace in Ohm-m\n",
    "sigma_half = 1./rho_half  # Conductivity is the inverse of conductivity"
   ]
  },
  {
   "cell_type": "code",
   "execution_count": 40,
   "metadata": {
    "collapsed": true
   },
   "outputs": [],
   "source": [
    "frequency = np.logspace(-3, 2, 25)  # frequencies at which to simulate the MT problem"
   ]
  },
  {
   "cell_type": "markdown",
   "metadata": {},
   "source": [
    "## Skin depth and Mesh Design\n",
    "\n",
    "When setting up a mesh, we want to make sure our fine cells are fine enough to capture the behaviour at the highest frequencies and that the domain extends far enough so that the fields have sufficiently decayed by the time they reach the boundary. To gauge this, we will examine the [skin depth](http://em.geosci.xyz/content/maxwell1_fundamentals/plane_waves_in_homogeneous_media/frequency/analytic_solution.html#attenuation-and-skin-depth) at the highest and lowest frequencies. Skin depth ($\\delta$) is the distance at which the amplitude of an EM wave propagating through a homogeneous medium will have decayed by a factor of $1/e$\n",
    "\n",
    "**Skin Depth**\n",
    "$$\n",
    "\\delta = \\frac{500}{\\sqrt{\\sigma f}}\n",
    "$$"
   ]
  },
  {
   "cell_type": "code",
   "execution_count": 41,
   "metadata": {
    "collapsed": true
   },
   "outputs": [],
   "source": [
    "def skin_depth(sigma, f):\n",
    "    \"\"\"\n",
    "    Depth at which the fields propagating through a homogeneous \n",
    "    medium have decayed by a factor of 1/e for a given \n",
    "    frequency, f and conductivity, sigma\n",
    "    \"\"\"\n",
    "    return 500./np.sqrt(sigma * f)"
   ]
  },
  {
   "cell_type": "code",
   "execution_count": 42,
   "metadata": {},
   "outputs": [
    {
     "name": "stdout",
     "output_type": "stream",
     "text": [
      "The minimum skin depth is 500.00m\n",
      "The maximum skin depth is 1.58e+05m\n"
     ]
    }
   ],
   "source": [
    "skin_depth_min = skin_depth(sigma_half, frequency.max())\n",
    "skin_depth_max = skin_depth(sigma_half, frequency.min())\n",
    "\n",
    "print(\"The minimum skin depth is {:1.2f}m\".format(skin_depth_min))\n",
    "print(\"The maximum skin depth is {:1.2e}m\".format(skin_depth_max))"
   ]
  },
  {
   "cell_type": "markdown",
   "metadata": {},
   "source": [
    "### Mesh parameters\n",
    "\n",
    "We start by choosing a mesh with parameters as follows: \n",
    "- smallest cell size: \n",
    "$$\\Delta z_{\\rm core} = \\delta_{\\rm min} / 4$$\n",
    "\n",
    "- domain extent: \n",
    "$$z_{\\rm max} = 2 \\delta_{\\rm max} $$\n",
    "\n",
    "For this example, we will be exploring model variations within the top 5km, so we will extend the core region (the region of the having uniform cells with width $\\Delta z_{\\rm core}$) of the mesh to a depth of 5km. "
   ]
  },
  {
   "cell_type": "code",
   "execution_count": 43,
   "metadata": {},
   "outputs": [
    {
     "name": "stdout",
     "output_type": "stream",
     "text": [
      "The smallest cell size is 125.00m\n",
      "The core region of the mesh extends 5.00e+03m\n",
      "The mesh should extend at least 3.16e+05m\n"
     ]
    }
   ],
   "source": [
    "cs = skin_depth_min / 4.\n",
    "core_extent = 5000. \n",
    "domain_extent = 2 * skin_depth_max\n",
    "\n",
    "print(\"The smallest cell size is {:1.2f}m\".format(cs))\n",
    "print(\"The core region of the mesh extends {:1.2e}m\".format(core_extent))\n",
    "print(\"The mesh should extend at least {:1.2e}m\".format(domain_extent))"
   ]
  },
  {
   "cell_type": "markdown",
   "metadata": {},
   "source": [
    "#### Padding\n",
    "\n",
    "We will use a tensor mesh, which means we can use non-uniform cells for the padding, that is, expanding the width of the cells with depth. We can get away with this because EM fields and fluxes are diffusive and high frequencies will be attenuated as they move through the conductive earth (eg. in seismic, you wouldn't want to do this as the seismic response is  dominated by wave propagaion). \n",
    "\n",
    "We expand by a factor of 1.3 until we are beyond the desired domain extent. Here, we write a small `while` loop to figure out how many padding cells we should use.  "
   ]
  },
  {
   "cell_type": "code",
   "execution_count": 44,
   "metadata": {},
   "outputs": [
    {
     "name": "stdout",
     "output_type": "stream",
     "text": [
      "25 padding cells extends 3.82e+05m > 3.16e+05m (2 skin depths)\n"
     ]
    }
   ],
   "source": [
    "npad = 1  # start with 1 cell\n",
    "padding_fact = 1.3  # the amount by which we will expand each cell of the padding\n",
    "\n",
    "def padding_extent(npad):\n",
    "    \"\"\"\n",
    "    given a number of padding cells, this computes how far \n",
    "    the padding extends\n",
    "    \"\"\"\n",
    "    padding_widths = cs*padding_fact**(np.arange(npad) + 1)\n",
    "    return padding_widths.sum()\n",
    "\n",
    "# keep adding padding until we are beyond the desired extent\n",
    "padding_z = padding_extent(npad)\n",
    "while padding_z < domain_extent:\n",
    "    npad+=1\n",
    "    padding_z = padding_extent(npad)\n",
    "    \n",
    "print(\n",
    "    \"{:1.0f} padding cells extends {:1.2e}m > {:1.2e}m \"\n",
    "    \"(2 skin depths)\".format(\n",
    "        npad, padding_extent(npad), domain_extent\n",
    "    )\n",
    ")"
   ]
  },
  {
   "cell_type": "markdown",
   "metadata": {},
   "source": [
    "#### Construct the Tensor mesh\n",
    "\n",
    "Now that we have defined all of the mesh parameters, we use the [Mesh Class in SimPEG](http://docs.simpeg.xyz) to construct a mesh. This will define all of the geometries, provide the necessary differential operators, and some handy functions like plotting. "
   ]
  },
  {
   "cell_type": "code",
   "execution_count": 45,
   "metadata": {},
   "outputs": [
    {
     "name": "stdout",
     "output_type": "stream",
     "text": [
      "There are 40 cells in the mesh. The mest extends 3.87e+05m\n"
     ]
    }
   ],
   "source": [
    "ncz = np.ceil(core_extent / cs)  # number of cells in the core domain\n",
    "hz = [(cs, npad, -1.3), (cs, ncz)]  # define how to construct the cell widths\n",
    "mesh = Mesh.TensorMesh([hz], x0='N')  # construct a 1D Tensor Mesh\n",
    "\n",
    "print(\n",
    "    \"There are {:1.0f} cells in the mesh. The mest extends {:1.2e}m\".format(\n",
    "        ncz, mesh.hx.sum()\n",
    "    )\n",
    ") "
   ]
  },
  {
   "cell_type": "code",
   "execution_count": 46,
   "metadata": {},
   "outputs": [
    {
     "data": {
      "text/plain": [
       "<matplotlib.text.Text at 0x113579350>"
      ]
     },
     "execution_count": 46,
     "metadata": {},
     "output_type": "execute_result"
    },
    {
     "data": {
      "image/png": "[encoded data removed]",
      "text/plain": [
       "<matplotlib.figure.Figure at 0x112550f50>"
      ]
     },
     "metadata": {},
     "output_type": "display_data"
    }
   ],
   "source": [
    "# plot the mesh\n",
    "fig, ax = plt.subplots(1,1, figsize=(8, 3))\n",
    "mesh.plotGrid(centers=True, faces=True, ax=ax)\n",
    "ax.legend([\"centers\", \"faces\"])\n",
    "ax.grid(which=\"both\", linewidth=0.5)\n",
    "ax.invert_xaxis()  # so that the surface is on our left hand side\n",
    "ax.set_xlabel('z (m)')"
   ]
  },
  {
   "cell_type": "markdown",
   "metadata": {},
   "source": [
    "## Set up a model\n",
    "\n",
    "In the [previous notebook](./MT1D_Simulation.ipynb), we showed that for a half-space, we expect the apparent resistivity computed from impedance data to be the same as the half-space resistivity, and the phase to by $45^\\circ$ across the entire frequency range. \n",
    "\n",
    "What happens when we include a conductive target in our model?\n",
    "\n",
    "Here we will use the following model parameters\n",
    "- Resistivity of the background: $\\rho_{\\text{halfspace}} = 100 \\Omega m$ (which is the same as $\\sigma_{\\text{halfspace}} = 10^{-2} S/m$)\n",
    "- Resistivity of the target: $\\rho_{\\text{target}} = 10 \\Omega m$ (which is the same as $\\sigma_{\\text{halfspace}} = 10^{-1} S/m$)\n",
    "- Thickness of the target layer: 1000m \n",
    "- Depth of the target layer: 2000m "
   ]
  },
  {
   "cell_type": "code",
   "execution_count": 47,
   "metadata": {
    "collapsed": true
   },
   "outputs": [],
   "source": [
    "rho_target = 10.  # resistivity in Ohm-m\n",
    "depth = 2000.  # depth to the top of the target in m \n",
    "thickness = 1000.  # thickness of the target in m"
   ]
  },
  {
   "cell_type": "code",
   "execution_count": 48,
   "metadata": {
    "collapsed": true
   },
   "outputs": [],
   "source": [
    "# put the model on the mesh\n",
    "sigma = 1./rho_half * np.ones(mesh.nC)\n",
    "\n",
    "# find the indices of the layer\n",
    "layer_inds = (\n",
    "    (mesh.vectorCCx<=-depth) & \n",
    "    (mesh.vectorCCx>-(depth+thickness))\n",
    ")\n",
    "sigma[layer_inds] = 1./rho_target"
   ]
  },
  {
   "cell_type": "code",
   "execution_count": 49,
   "metadata": {},
   "outputs": [
    {
     "data": {
      "text/plain": [
       "<matplotlib.text.Text at 0x1132af310>"
      ]
     },
     "execution_count": 49,
     "metadata": {},
     "output_type": "execute_result"
    },
    {
     "data": {
      "image/png": "[encoded data removed]",
      "text/plain": [
       "<matplotlib.figure.Figure at 0x1130c47d0>"
      ]
     },
     "metadata": {},
     "output_type": "display_data"
    }
   ],
   "source": [
    "# plot the model\n",
    "fig, ax = plt.subplots(1, 1, figsize=(8, 3))\n",
    "\n",
    "# trickery to plot from node to node rather than at cell centers\n",
    "z = np.repeat(mesh.vectorNx[1:-1], 2, axis=0)\n",
    "z = np.r_[mesh.vectorNx[0], z, mesh.vectorNx[-1]]\n",
    "sigma_plt = np.repeat(sigma, 2, axis=0)\n",
    "\n",
    "ax.semilogy(z, sigma_plt,\"C0\", lw=2)\n",
    "ax.grid(which=\"both\", linewidth=0.5)\n",
    "ax.set_xlim([-5000., 0.])\n",
    "ax.set_ylim([5e-3, 1])\n",
    "ax.invert_xaxis() # plot the surface on the left\n",
    "\n",
    "ax.set_xlabel(\"Elevation (m)\", fontsize=14)\n",
    "ax.set_ylabel(\"Conductivity (S/m)\", fontsize=14)"
   ]
  },
  {
   "cell_type": "markdown",
   "metadata": {},
   "source": [
    "## Compare with an analytic\n",
    "\n",
    "Prior to drawing conclusions from our simulations, we want to first make sure they are correct! \n",
    "\n",
    "So here, we compare the numerical results computed with our method `simulateMT` with an analytic for the MT response over a layered earth. A more complete description, including the derivation, is available on [EM GeoSci](http://em.geosci.xyz/content/maxwell3_fdem/natural_sources/MT_N_layered_Earth.html)"
   ]
  },
  {
   "cell_type": "code",
   "execution_count": 50,
   "metadata": {
    "collapsed": true
   },
   "outputs": [],
   "source": [
    "from SimPEG.EM.Analytics import MT_LayeredEarth"
   ]
  },
  {
   "cell_type": "code",
   "execution_count": 51,
   "metadata": {
    "collapsed": true
   },
   "outputs": [],
   "source": [
    "# the analytic takes the frequencies, layer thicknesses and layer conductivities\n",
    "sigma_layers = np.r_[\n",
    "    1./rho_half, \n",
    "    1./rho_target, \n",
    "    1./rho_half]\n",
    "h = np.r_[depth, thickness]  \n",
    "\n",
    "app_res_ana, app_phase_ana = MT_LayeredEarth(\n",
    "    frequency, h, sigma_layers, 'Res-Phase'\n",
    ")"
   ]
  },
  {
   "cell_type": "code",
   "execution_count": 52,
   "metadata": {
    "collapsed": true
   },
   "outputs": [],
   "source": [
    "# # Uncomment to read the documentation on MT_LayeredEarth\n",
    "# MT_LayeredEarth??"
   ]
  },
  {
   "cell_type": "code",
   "execution_count": 53,
   "metadata": {
    "collapsed": true
   },
   "outputs": [],
   "source": [
    "# numerically compute the response\n",
    "app_res, app_phase = simulateMT(mesh, sigma, frequency)"
   ]
  },
  {
   "cell_type": "code",
   "execution_count": 55,
   "metadata": {
    "collapsed": true
   },
   "outputs": [],
   "source": [
    "def plot_with_analytic(frequency, app_res, app_phase, app_res_ana, app_phase_ana):\n",
    "    # Plot and compare the results\n",
    "    fig, ax = plt.subplots(2, 1, figsize=(8, 3*2))\n",
    "\n",
    "    # apparent resistivity\n",
    "    ax[0].loglog(frequency, app_res, label='Numeric')\n",
    "    ax[0].loglog(frequency, app_res_ana, 'k.', label='Analytic')\n",
    "    ax[0].set_ylabel(\"$\\\\rho_a \\ (\\Omega m)$\", fontsize=14)\n",
    "    ax[0].set_ylim([2e1, 3e2])\n",
    "\n",
    "    # phase\n",
    "    ax[1].semilogx(frequency, app_phase, label='Numeric')\n",
    "    ax[1].semilogx(frequency, app_phase_ana, 'k.', label='Analytic')\n",
    "    ax[1].set_ylabel(\"$\\phi \\ (^{\\circ})$\", fontsize=13)\n",
    "    ax[1].set_ylim([0., 90.])\n",
    "\n",
    "    for a in ax:\n",
    "        a.grid(True, which='both', linewidth=0.3)\n",
    "        a.set_xlim(frequency.max(), frequency.min())\n",
    "        a.set_xlabel(\"Frequency (Hz)\", fontsize=14)\n",
    "        a.legend(fontsize=11)\n",
    "\n",
    "    plt.tight_layout()\n",
    "    plt.show()"
   ]
  },
  {
   "cell_type": "code",
   "execution_count": 56,
   "metadata": {},
   "outputs": [
    {
     "data": {
      "image/png": "[encoded data removed]",
      "text/plain": [
       "<matplotlib.figure.Figure at 0x11340c490>"
      ]
     },
     "metadata": {},
     "output_type": "display_data"
    }
   ],
   "source": [
    "plot_with_analytic(frequency, app_res, app_phase, app_res_ana, app_phase_ana)"
   ]
  },
  {
   "cell_type": "markdown",
   "metadata": {},
   "source": [
    "Across the entire frequency band, the apparent resistivity and phase agree with the analytic. What happens if\n",
    "\n",
    "1. we use a coarse cell size?\n",
    "2. we reduce how far the padding extends?\n",
    "\n",
    "To answer those questions, we have a small widget. "
   ]
  },
  {
   "cell_type": "code",
   "execution_count": 57,
   "metadata": {
    "collapsed": true
   },
   "outputs": [],
   "source": [
    "import ipywidgets"
   ]
  },
  {
   "cell_type": "code",
   "execution_count": 58,
   "metadata": {
    "collapsed": true
   },
   "outputs": [],
   "source": [
    "def mesh_design_app(domain_extent, cs):\n",
    "    ncz = np.ceil(core_extent / cs)  # number of cells in the core domain\n",
    "    \n",
    "    # keep adding padding until we are beyond the desired extent\n",
    "    npad=0\n",
    "    padding_z = padding_extent(npad)\n",
    "    while padding_z < domain_extent*1e3:\n",
    "        npad+=1\n",
    "        padding_z = padding_extent(npad)\n",
    "    \n",
    "    hz = [(cs, npad, -1.3), (cs, ncz)]  # define how to construct the cell widths\n",
    "    mesh = Mesh.TensorMesh([hz], x0='N')  # construct a 1D Tensor Mesh\n",
    "\n",
    "    # put the model on the mesh\n",
    "    sigma = 1./rho_half * np.ones(mesh.nC)\n",
    "\n",
    "    # find the indices of the layer\n",
    "    layer_inds = (\n",
    "        (mesh.vectorCCx<=-depth) & \n",
    "        (mesh.vectorCCx>-(depth+thickness))\n",
    "    )\n",
    "    sigma[layer_inds] = 1./rho_target\n",
    "    \n",
    "    app_res, app_phase = simulateMT(mesh, sigma, frequency)\n",
    "    \n",
    "    plot_with_analytic(frequency, app_res, app_phase, app_res_ana, app_phase_ana)"
   ]
  },
  {
   "cell_type": "code",
   "execution_count": 59,
   "metadata": {},
   "outputs": [
    {
     "name": "stdout",
     "output_type": "stream",
     "text": [
      "It is helpful to remember that \n",
      "the minimum skin depth is 500m \n",
      "and the maximum skin depth is 158km\n"
     ]
    }
   ],
   "source": [
    "print(\n",
    "    \"It is helpful to remember that \\n\"\n",
    "    \"the minimum skin depth is {:1.0f}m \\n\"\n",
    "    \"and the maximum skin depth is {:1.0f}km\".format(\n",
    "        skin_depth_min, skin_depth_max*1e-3\n",
    "    )\n",
    ")"
   ]
  },
  {
   "cell_type": "markdown",
   "metadata": {},
   "source": [
    "- What happens if you make the domain smaller? Which frequencies are impacted first?\n",
    "- What happens if you use a larger cell size? (Pay attention to the phase at high frequencies)\n",
    "    - notice that there will be two regions impacted: high frequencies, and the frequencies impacted by the conductive layer"
   ]
  },
  {
   "cell_type": "code",
   "execution_count": 60,
   "metadata": {},
   "outputs": [
    {
     "data": {
      "application/vnd.jupyter.widget-view+json": {
       "model_id": "524dd2b647ca4ef58c6baf9876aca988"
      }
     },
     "metadata": {},
     "output_type": "display_data"
    },
    {
     "data": {
      "text/plain": [
       "<function __main__.mesh_design_app>"
      ]
     },
     "execution_count": 60,
     "metadata": {},
     "output_type": "execute_result"
    }
   ],
   "source": [
    "ipywidgets.interact(\n",
    "    mesh_design_app,\n",
    "    domain_extent=ipywidgets.FloatSlider(min=0, max=400, step=25, value=300, description=\"domain extent (km)\"),\n",
    "    cs=ipywidgets.FloatSlider(min=25, max=1000, step=25, value=125, description=\"min cell size (m)\")\n",
    ")"
   ]
  },
  {
   "cell_type": "markdown",
   "metadata": {},
   "source": [
    "### Considerations for the inversion\n",
    "\n",
    "Prior to considering an inversion, first making sure that a suitable mesh is designed is an important step - otherwise, you can introduce artifacts and structures simply because the mesh doesn't capture the physics! Comparing against analytics that model a simplified, but similar, scenario can be a powerful tool for mesh design. "
   ]
  },
  {
   "cell_type": "markdown",
   "metadata": {},
   "source": [
    "## Non-uniqueness\n",
    "\n",
    "The second concept we will explore with forward modelling is non-uniqueness: when models are different, but the data are similar.\n",
    "\n",
    "In the Magnetotelluric problem, a classic example that demonstrates non-uniqueness of the data is the non-uniquness associated with the conductivity-thickness product of a thin layer. If we start with a layer that has a conductivity of $\\sigma$, halve its thickness and double its conductivity, the resulting data will be similar... (but don't just take our word for it!)"
   ]
  },
  {
   "cell_type": "code",
   "execution_count": 61,
   "metadata": {},
   "outputs": [
    {
     "name": "stdout",
     "output_type": "stream",
     "text": [
      "we consider layers having thicknesses (m) [  300.   600.   900.  1200.  1500.]\n"
     ]
    }
   ],
   "source": [
    "# compute models with equivalent conductivity-thickness product\n",
    "conductivity_thickness = thickness * 1./rho_target\n",
    "layer_thicknesses = (np.arange(5)+1.)*300.\n",
    "print(\"we consider layers having thicknesses (m) {}\".format(layer_thicknesses))"
   ]
  },
  {
   "cell_type": "code",
   "execution_count": 62,
   "metadata": {},
   "outputs": [
    {
     "name": "stdout",
     "output_type": "stream",
     "text": [
      "To preserve the conductivity thickness product,\n",
      "these layer have conductivities (S/m) of [ 0.33333333  0.16666667  0.11111111  0.08333333  0.06666667]\n",
      "This is the same as resistivities (Ohm m) of [  3.   6.   9.  12.  15.]\n"
     ]
    }
   ],
   "source": [
    "sig_targets = conductivity_thickness / layer_thicknesses\n",
    "print(\n",
    "    \"To preserve the conductivity thickness product,\\n\"\n",
    "    \"these layer have conductivities (S/m) of {}\".format(sig_targets)\n",
    ")\n",
    "print(\"This is the same as resistivities (Ohm m) of {}\".format(1./sig_targets))"
   ]
  },
  {
   "cell_type": "code",
   "execution_count": 63,
   "metadata": {
    "collapsed": true
   },
   "outputs": [],
   "source": [
    "# construct conductivity models on the mesh\n",
    "sigma_list = []\n",
    "\n",
    "# Compute the midpoint and make sure the layers we will compare with are all centered at the same depth \n",
    "depth_mid = depth + thickness / 2.\n",
    "\n",
    "for i in range(len(layer_thicknesses)):\n",
    "    layer_inds = (\n",
    "        (mesh.vectorCCx<-depth_mid+layer_thicknesses[i]*0.5) & \n",
    "        (mesh.vectorCCx>-depth_mid-layer_thicknesses[i]*0.5)\n",
    "    )\n",
    "    sigma_temp = np.ones(mesh.nC) * 1./rho_half\n",
    "    sigma_temp[layer_inds] = sig_targets[i]\n",
    "    sigma_list.append(sigma_temp)"
   ]
  },
  {
   "cell_type": "code",
   "execution_count": 64,
   "metadata": {
    "collapsed": true
   },
   "outputs": [],
   "source": [
    "# compute the apparent resistivity and phase for each model\n",
    "app_res_list = []\n",
    "phase_list = []\n",
    "for i in range(len(layer_thicknesses)):\n",
    "    app_res, phase = simulateMT(mesh, sigma_list[i], frequency)\n",
    "    app_res_list.append(app_res)\n",
    "    phase_list.append(phase)"
   ]
  },
  {
   "cell_type": "code",
   "execution_count": 67,
   "metadata": {
    "collapsed": true
   },
   "outputs": [],
   "source": [
    "def plot_apparent_resistivities_and_phases(\n",
    "    frequency, sigma_list, layer_thicknesses, app_res_list, phase_list, app_res_uncert=0., phase_uncert=0.\n",
    "):\n",
    "    \"\"\"\n",
    "    Plot the apparent resistivity and phase for multiple models\n",
    "    \n",
    "    frequency: numpy array of frequencies\n",
    "    sigma_list: list of conductivity models to plot\n",
    "    layer_thicknesses: thickness of the ~equivalent layers\n",
    "    app_res_list: list of apparent resistivities computed from the conductivity models\n",
    "    phase_list: list of phases computed fromt the conductivity models \n",
    "    app_res_uncert: uncertainty (in percentage) of the apparent resistivity\n",
    "    phase_uncert: uncertainty (in degrees) of the phase  \n",
    "    \"\"\"\n",
    "    fig, ax = plt.subplots(3, 1, figsize=(8, 3*3))\n",
    "\n",
    "    for i in range(len(sigma_list)):\n",
    "        # trickery to plot from node to node rather than at cell centers\n",
    "        z = np.repeat(mesh.vectorNx[1:-1], 2, axis=0)\n",
    "        z = np.r_[mesh.vectorNx[0], z, mesh.vectorNx[-1]]\n",
    "        sigma_plt = np.repeat(sigma_list[i], 2, axis=0)\n",
    "\n",
    "        # noise models, apparent resistivity is a percent, phase in units of degrees\n",
    "        app_res_noise = (app_res_uncert/100.)*np.abs(app_res_list[i])*np.random.randn(len(app_res_list[i]))\n",
    "        phase_noise = phase_uncert*np.random.randn(len(app_res_list[i]))\n",
    "\n",
    "        ax[0].plot(z, sigma_plt, 'C{}'.format(i), lw=2, label=\"{:1.0f} m\".format(layer_thicknesses[i]))\n",
    "        ax[1].loglog(frequency, app_res_list[i]+app_res_noise, 'C{}-'.format(i), lw=1, label=\"{:1.0f} m\".format(layer_thicknesses[i]))\n",
    "        ax[2].semilogx(frequency, phase_list[i]+phase_noise, 'C{}-'.format(i), lw=1, label=\"{:1.0f} m\".format(layer_thicknesses[i]))   \n",
    "    # conductivity plot\n",
    "    ax[0].set_title(\"(a) Conductivity models\")\n",
    "    ax[0].set_ylabel(\"Conductivity (S/m)\")\n",
    "    ax[0].set_xlabel(\"Depth (m)\", fontsize=14)\n",
    "    ax[0].set_xlim([-5000., 0.])\n",
    "    ax[0].set_ylim([0, 0.4])\n",
    "    ax[0].legend(fontsize=10, bbox_to_anchor=(1.18, 1.01))\n",
    "\n",
    "    # apparent resistivity plot\n",
    "    ax[1].set_title(\"(b) Apparent resistivity\")\n",
    "    ax[1].set_ylabel(\"$\\\\rho_a \\ (\\Omega m)$\", fontsize=14)\n",
    "    ax[1].set_ylim([2e1, 2e2])\n",
    "\n",
    "    # phase plot\n",
    "    ax[2].set_title(\"(c) Phase\")\n",
    "    ax[2].set_ylabel(\"$\\phi \\ (^{\\circ})$\", fontsize=14) \n",
    "    ax[2].set_ylim([0., 90.])\n",
    "\n",
    "#     apparent resistivity and phase plots\n",
    "    for a in ax[1:]:\n",
    "        a.set_xlabel(\"Frequency (Hz)\", fontsize=14)\n",
    "        a.set_xlim([frequency.min(), frequency.max()])\n",
    "\n",
    "    for a in ax:\n",
    "        a.grid(True, which='both', linewidth=0.3)\n",
    "        a.invert_xaxis()\n",
    "        \n",
    "\n",
    "    plt.tight_layout()\n",
    "    plt.show()"
   ]
  },
  {
   "cell_type": "code",
   "execution_count": 68,
   "metadata": {},
   "outputs": [
    {
     "data": {
      "image/png": "[encoded data removed]",
      "text/plain": [
       "<matplotlib.figure.Figure at 0x1133aac10>"
      ]
     },
     "metadata": {},
     "output_type": "display_data"
    }
   ],
   "source": [
    "plot_apparent_resistivities_and_phases(frequency, sigma_list, layer_thicknesses, app_res_list, phase_list)"
   ]
  },
  {
   "cell_type": "markdown",
   "metadata": {},
   "source": [
    "### What happens if we add noise??"
   ]
  },
  {
   "cell_type": "code",
   "execution_count": 69,
   "metadata": {},
   "outputs": [
    {
     "data": {
      "application/vnd.jupyter.widget-view+json": {
       "model_id": "5fe0b3a4797d4f0e967b03919fbfc44a"
      }
     },
     "metadata": {},
     "output_type": "display_data"
    },
    {
     "data": {
      "text/plain": [
       "<function __main__.<lambda>>"
      ]
     },
     "execution_count": 69,
     "metadata": {},
     "output_type": "execute_result"
    }
   ],
   "source": [
    "ipywidgets.interact(\n",
    "    lambda app_res_uncert, phase_uncert: plot_apparent_resistivities_and_phases(\n",
    "        frequency, sigma_list, layer_thicknesses, \n",
    "        app_res_list, phase_list, app_res_uncert, phase_uncert\n",
    "    ),\n",
    "    app_res_uncert = ipywidgets.FloatSlider(\n",
    "        min=0., max=20., step=1, value=0., description=\"$\\delta \\\\rho_a (\\%)$\"\n",
    "    ),\n",
    "    phase_uncert = ipywidgets.FloatSlider(\n",
    "        min=0., max=10., step=0.5, value=0., description=\"$\\delta \\phi (^\\circ)$\" \n",
    "    )\n",
    ")"
   ]
  },
  {
   "cell_type": "markdown",
   "metadata": {
    "collapsed": true
   },
   "source": [
    "When setting expectations for what we can hope to get out of an inversion, it is important to keep non-uniquness in mind... Without additional information (eg. additional geophysical data, well logs, etc) that constrain the physical properties and geometries of our geologic setting, we cannot necessarily expect to nail down both the conductivity and geometry of a given geologic unit. "
   ]
  }
 ],
 "metadata": {
  "anaconda-cloud": {},
  "kernelspec": {
   "display_name": "Python 2",
   "language": "python",
   "name": "python2"
  },
  "language_info": {
   "codemirror_mode": {
    "name": "ipython",
    "version": 2
   },
   "file_extension": ".py",
   "mimetype": "text/x-python",
   "name": "python",
   "nbconvert_exporter": "python",
   "pygments_lexer": "ipython2",
   "version": "2.7.13"
  }
 },
 "nbformat": 4,
 "nbformat_minor": 2
}

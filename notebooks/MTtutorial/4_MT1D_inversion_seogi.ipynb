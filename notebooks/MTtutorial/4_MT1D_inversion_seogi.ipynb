{
 "cells": [
  {
   "cell_type": "markdown",
   "metadata": {},
   "source": [
    "**Getting Started**\n",
    "\n",
    "This tutorial relies on standard python packages as well as [SimPEG](http://simpeg.xyz). If you do not have SimPEG installed, you can uncomment the next line and install it from [pypi](https://pypi.python.org/pypi/SimPEG).\n",
    "\n",
    "The second package we are installing is [pymatsolver](https://github.com/rowanc1/pymatsolver), which interfaces to sparse matrix solvers. It is not required for the tutorial, we will fall-back to an LU solver, which is sufficient for this problem "
   ]
  },
  {
   "cell_type": "code",
   "execution_count": 1,
   "metadata": {
    "collapsed": true
   },
   "outputs": [],
   "source": [
    "# !pip install SimPEG\n",
    "# !pip install pymatsolver"
   ]
  },
  {
   "cell_type": "markdown",
   "metadata": {},
   "source": [
    "# Inversion: 1D Magnetotelluric Problem\n",
    "\n",
    "In the previous notebooks, we explored how to discretize the [1D MT problem](./MT1D_Simulation.ipynb), how to design an appropriate mesh, and explored the [an example of non-uniquness](./MT1D_Simulation_MutiFreqs.ipynb). In this notebook, we will put those concepts to use and set up a 1D inversion. \n",
    "\n",
    "The aim of this notebook is to highlight the elements we use to set up and solve the inverse problem, in the notebook that follows this, we will dive futher into the impact of various parameter choices (eg. the trade-off parameter $\\beta$, the stopping criteria, noise model and regulariztion parameters). "
   ]
  },
  {
   "cell_type": "markdown",
   "metadata": {},
   "source": [
    "## Inversion as Optimization\n",
    "\n",
    "We will use deterministic approach and pose the inverse problem as an optimization problem of the form \n",
    "\n",
    "$$\n",
    "\\min_{\\mathbf{m}} \\phi(\\mathbf{m}) = \\phi_d(\\mathbf{m}) + \\beta\\phi_m(\\mathbf{m})\n",
    "$$\n",
    "\n",
    "where $\\phi_d(\\mathbf{m})$ is the data misfit, a metric that tells us how \"far\" our simulated data are from the  observed data. This is often taken to be a weighted l2-norm, where the weights capture the noise model (eg. we want to assign higher weights and do a good job fitting data that we are confident are less noisy, and assign less weight / influence to data that are noisy). The is captured mathematically by  \n",
    "\n",
    "$$\n",
    "\\phi_d(\\mathbf{m}) = \\frac{1}{2}\\|\\mathbf{W_d} (\\mathcal{F}(\\mathbf{m}) - \\mathbf{d}^{\\text{obs}})\\|^2\n",
    "$$\n",
    "\n",
    "where \n",
    "\n",
    "- $\\mathbf{W_d} = \\text{diag}(1/\\boldsymbol{\\epsilon})$ is a diagonal matrix with diagonal entries $1/\\epsilon_i$, where $\\epsilon_i$ is an estimated standard deviation of the $i$th datum.\n",
    "- $\\mathcal{F}$ is the forward modelling operator that simulates the 1D MT response given a model\n",
    "- $\\mathbf{m}$ is the model: the set of parameters which describe the physical properties of the layered earth\n",
    "- $\\mathbf{d}^{\\text{obs}}$ is the observed data\n",
    "\n",
    "(The factor of $1/2$ and the choice of using the squared-norm is a matter of convienence. We will be using gradient based optimzation methods, so it is easier to take derivatives of a norm squared than a norm.)\n",
    "\n",
    "\n",
    "\n",
    "\n",
    "and $\\phi_m$\n",
    "\n",
    "$$\n",
    "\\phi_m(\\mathbf{m}) = \\frac{1}{2}\\big(\\alpha_s\\|W_s (\\mathbf{m} - \\mathbf{m}_{\\text{ref}})\\|^2 + \\alpha_z\\|W_z (\\mathbf{m})\\|^2 \\big)\n",
    "$$\n",
    "\n",
    "Although we pose it as an optimization problem, we aren't necessarily going to solve to a true minimum - (overfitting), choose when to stop\n",
    "\n",
    "Important parameters:\n",
    "- noise model\n",
    "- when to stop\n",
    "- alphas\n",
    "- beta\n",
    "\n",
    "In this notebook, we will walk through how to set up an inversion, discuss concepts: L-curve\n",
    "\n",
    "explore the impact of these parameters\n",
    "\n",
    "If you are curious how sensitivities are computed for this problem, have a look at the [Sensitivities Notebook](MT1D_Sensitivity.ipynb).  "
   ]
  },
  {
   "cell_type": "code",
   "execution_count": 2,
   "metadata": {
    "collapsed": true
   },
   "outputs": [],
   "source": [
    "from scipy.constants import mu_0\n",
    "import numpy as np\n",
    "import matplotlib.pyplot as plt\n",
    "\n",
    "from SimPEG import (\n",
    "    Mesh, Maps, SolverLU, DataMisfit, Regularization,\n",
    "    Optimization, InvProblem, Inversion, Directives, Utils\n",
    ")\n",
    "\n",
    "try:\n",
    "    from pymatsolver import PardisoSolver as Solver\n",
    "except importError:\n",
    "    from SimPEG import SolverLU as Solver\n",
    "    \n",
    "from MT1D import MT1DProblem, MT1DSurvey, MT1DSrc, ZxyRx, Survey, AppResPhaRx\n",
    "%matplotlib inline"
   ]
  },
  {
   "cell_type": "code",
   "execution_count": 3,
   "metadata": {},
   "outputs": [
    {
     "name": "stdout",
     "output_type": "stream",
     "text": [
      ">> Smallest cell size = 50 m\n",
      ">> Padding distance = 316227 m\n",
      ">> # of padding cells 17\n",
      ">> # of core cells cells 47\n"
     ]
    }
   ],
   "source": [
    "rxloc = np.r_[0.]\n",
    "srcloc = np.r_[0.]\n",
    "\n",
    "frequency = np.logspace(-3, 2, 25)\n",
    "rxType = \"Zxy\"\n",
    "if rxType == \"Zxy\":\n",
    "    rx = ZxyRx(rxloc, component=\"both\", frequency=frequency)\n",
    "    rxList = [rx]\n",
    "elif rxType == \"AppredPha\":\n",
    "    rx = AppResPhaRx(rxloc, component=\"both\", frequency=frequency)\n",
    "    rxList = [rx]\n",
    "src = MT1DSrc(rxList, loc=srcloc)\n",
    "survey = MT1DSurvey([src])\n",
    "max_depth_core = 15000.\n",
    "mesh = survey.setMesh(\n",
    "        sigma=0.01, max_depth_core=max_depth_core, ncell_per_skind=10, n_skind=2,\n",
    "        core_meshType = \"log\", max_hz_core=1000.\n",
    "                     )\n",
    "sigma = np.ones(mesh.nC) * 0.001\n",
    "prob = MT1DProblem(mesh, sigmaMap=Maps.ExpMap(mesh), verbose=False, Solver=Solver)\n",
    "prob.pair(survey)"
   ]
  },
  {
   "cell_type": "code",
   "execution_count": 4,
   "metadata": {
    "collapsed": true
   },
   "outputs": [],
   "source": [
    "def appres_phase_from_Zxy(pred, frequency):\n",
    "    Zr = pred.reshape((survey.nFreq, 2))[:,0]\n",
    "    Zi = pred.reshape((survey.nFreq, 2))[:,1]\n",
    "    Z = Zr + 1j*Zi\n",
    "    omega = frequency * 2 * np.pi\n",
    "    appres = abs(Z)**2 / (mu_0*omega) \n",
    "    phase = np.rad2deg(np.arctan(Z.imag / Z.real))\n",
    "    return appres, phase"
   ]
  },
  {
   "cell_type": "code",
   "execution_count": 5,
   "metadata": {
    "collapsed": true
   },
   "outputs": [],
   "source": [
    "def Zxy_from_appres_phase(zabs, phase, frequency):\n",
    "    Z = zabs * np.exp(1j*np.deg2rad(phase))\n",
    "    return np.c_[Z.real, Z.imag].flatten()"
   ]
  },
  {
   "cell_type": "code",
   "execution_count": 6,
   "metadata": {
    "collapsed": true
   },
   "outputs": [],
   "source": [
    "rho_half = 100.\n",
    "rho_target = 10.\n",
    "\n",
    "d0, d1, d2, d3, d4 = 0., 600., 1991., 5786., 9786.\n",
    "rho0, rho1, rho2, rho3, rho4 = 250., 25, 100., 10., 25\n",
    "d = [d1, d2, d3, d4]\n",
    "rho = [rho1, rho2, rho3, rho4]\n",
    "\n",
    "layer_inds0 = np.logical_and(mesh.vectorCCx<-d0, mesh.vectorCCx>-d1)\n",
    "layer_inds1 = np.logical_and(mesh.vectorCCx<-d1, mesh.vectorCCx>-d2)\n",
    "layer_inds2 = np.logical_and(mesh.vectorCCx<-d2, mesh.vectorCCx>-d3)\n",
    "layer_inds3 = np.logical_and(mesh.vectorCCx<-d3, mesh.vectorCCx>-d4)\n",
    "layer_inds4 = mesh.vectorCCx<-d4\n",
    "\n",
    "sigma = np.ones(mesh.nC) * np.nan\n",
    "sigma[layer_inds0] = 1./rho0\n",
    "sigma[layer_inds1] = 1./rho1\n",
    "sigma[layer_inds2] = 1./rho2\n",
    "sigma[layer_inds3] = 1./rho3\n",
    "sigma[layer_inds4] = 1./rho4\n",
    "\n",
    "actinds = mesh.vectorCCx > -max_depth_core\n",
    "\n",
    "mtrue = np.log(sigma)\n",
    "dtrue = survey.dpred(mtrue)\n",
    "np.random.seed(1)\n",
    "\n",
    "std = 0.1\n",
    "# zr = dtrue.reshape((survey.nFreq, 2))[:,0]\n",
    "# zi = dtrue.reshape((survey.nFreq, 2))[:,1]\n",
    "# uncert_appres = abs(zr + 1j*zi)*std\n",
    "# uncert_phase = np.ones(survey.nFreq)*floor\n",
    "# uncert  = Zxy_from_appres_phase(uncert_appres, uncert_phase, frequency)\n",
    "uncert = abs(dtrue) * std\n",
    "noise = uncert * np.random.randn(survey.nFreq*2)\n",
    "survey.dobs = dtrue + noise"
   ]
  },
  {
   "cell_type": "code",
   "execution_count": 7,
   "metadata": {
    "collapsed": true
   },
   "outputs": [],
   "source": [
    "app_res, phase = appres_phase_from_Zxy(survey.dobs, frequency)"
   ]
  },
  {
   "cell_type": "code",
   "execution_count": 8,
   "metadata": {
    "collapsed": true
   },
   "outputs": [],
   "source": [
    "app_res_true, phase_true = appres_phase_from_Zxy(dtrue, frequency)"
   ]
  },
  {
   "cell_type": "code",
   "execution_count": 9,
   "metadata": {},
   "outputs": [
    {
     "data": {
      "text/plain": [
       "(25.000000000232831, 30000.0)"
      ]
     },
     "execution_count": 9,
     "metadata": {},
     "output_type": "execute_result"
    },
    {
     "data": {
      "image/png": "[encoded data removed]",
      "text/plain": [
       "<matplotlib.figure.Figure at 0x109ef73d0>"
      ]
     },
     "metadata": {},
     "output_type": "display_data"
    }
   ],
   "source": [
    "import matplotlib\n",
    "matplotlib.rcParams[\"font.size\"] = 11\n",
    "# figsize(5, 2)\n",
    "sigtrue = np.repeat(sigma, 2, axis=0)\n",
    "z = np.repeat(mesh.vectorCCx[1:], 2, axis=0)\n",
    "z = np.r_[mesh.vectorCCx[0], z, mesh.vectorCCx[-1]]\n",
    "plt.plot(-z, sigtrue, 'k', lw=2)\n",
    "plt.xscale(\"log\")\n",
    "plt.yscale(\"log\")\n",
    "plt.ylabel(\"Conductivity (S/m)\")\n",
    "plt.xlabel(\"Depth (m)\")\n",
    "plt.grid(True, which='both')\n",
    "plt.ylim(2e-3, 2e-1)\n",
    "plt.xlim(0, max_depth_core*2.)"
   ]
  },
  {
   "cell_type": "code",
   "execution_count": 10,
   "metadata": {},
   "outputs": [
    {
     "data": {
      "image/png": "[encoded data removed]",
      "text/plain": [
       "<matplotlib.figure.Figure at 0x109ef7ad0>"
      ]
     },
     "metadata": {},
     "output_type": "display_data"
    }
   ],
   "source": [
    "fig = plt.figure(figsize = (5, 4))\n",
    "ax1 = plt.subplot(211)\n",
    "ax2 = plt.subplot(212)\n",
    "ax1.loglog(frequency, app_res, 'k-', lw=2)\n",
    "ax1.loglog(frequency, app_res_true, 'b-', lw=2)\n",
    "ax1.grid(True, which='both')\n",
    "ax1.set_xlim(frequency.max(), frequency.min())\n",
    "ax1.set_ylim(10, 3e2)\n",
    "ax1.set_xlabel(\"Frequency (Hz)\")\n",
    "ax1.set_ylabel(\"$\\\\rho_a \\ (\\Omega m)$\", fontsize = 14)\n",
    "\n",
    "ax2.semilogx(frequency, phase, 'k-', lw=2)\n",
    "ax2.semilogx(frequency, phase_true, 'b-', lw=2)\n",
    "ax2.grid(True, which='both')\n",
    "ax2.set_xlim(frequency.max(), frequency.min())\n",
    "ax2.set_xlabel(\"Frequency (Hz)\")\n",
    "ax2.set_ylabel(\"Phase (degree)\")\n",
    "plt.tight_layout()"
   ]
  },
  {
   "cell_type": "code",
   "execution_count": 11,
   "metadata": {
    "collapsed": true
   },
   "outputs": [],
   "source": [
    "def run_MT1Dinv(prob, survey, m0,\n",
    "                std_appres=0.05, floor_phase =2.,\n",
    "                alpha_s=1., alpha_x=1., coolingFactor=2., coolingRate=1, \n",
    "                beta0=1e1, beta0_ratio=None,\n",
    "                use_betaest=False, use_target=True):\n",
    "    dmisfit = DataMisfit.l2_DataMisfit(survey)\n",
    "    dmisfit.W = 1./uncert\n",
    "    reg = Regularization.Simple(prob.mesh, alpha_s=alpha_s, alpha_x=alpha_x)\n",
    "    opt = Optimization.InexactGaussNewton(maxIter=35, LSshorten=0.5)\n",
    "    invProb = InvProblem.BaseInvProblem(dmisfit, reg, opt)\n",
    "    # Create an inversion object\n",
    "    beta = Directives.BetaSchedule(coolingFactor=1.5, coolingRate=1)\n",
    "    \n",
    "    invProb.beta = beta0\n",
    "    target = Directives.TargetMisfit()\n",
    "    save = Directives.SaveOutputEveryIteration()\n",
    "    directs = [beta, save]\n",
    "\n",
    "    if use_target:\n",
    "        directs.append(target)\n",
    "    if use_betaest:\n",
    "        if beta0_ratio is None:\n",
    "            beta0_ratio = 1.\n",
    "        betaest = Directives.BetaEstimate_ByEig(beta0_ratio=beta0_ratio)\n",
    "        directs.append(betaest)      \n",
    "        \n",
    "    inv = Inversion.BaseInversion(invProb, directiveList=directs)\n",
    "    prob.counter = opt.counter = Utils.Counter()\n",
    "    opt.remember('xc')\n",
    "    mopt = inv.run(m0)\n",
    "    xc = opt.recall(\"xc\")\n",
    "    return xc, save, reg\n"
   ]
  },
  {
   "cell_type": "code",
   "execution_count": 12,
   "metadata": {},
   "outputs": [
    {
     "name": "stdout",
     "output_type": "stream",
     "text": [
      "SimPEG.DataMisfit.l2_DataMisfit assigning default eps of 1e-5 * ||dobs||\n",
      "SimPEG.InvProblem will set Regularization.mref to m0.\n",
      "\n",
      "    SimPEG.InvProblem is setting bfgsH0 to the inverse of the eval2Deriv.\n",
      "    ***Done using same Solver and solverOpts as the problem***\n",
      "SimPEG.SaveOutputEveryIteration will save your inversion progress as: '###-InversionModel-2017-06-18-22-20.txt'\n",
      "model has any nan: 0\n",
      "============================ Inexact Gauss Newton ============================\n",
      "  #     beta     phi_d     phi_m       f      |proj(x-g)-x|  LS    Comment   \n",
      "-----------------------------------------------------------------------------\n",
      "x0 has any nan: 0\n",
      "   0  3.00e+02  1.72e+03  0.00e+00  1.72e+03    4.89e+02      0              \n",
      "   1  2.00e+02  1.18e+03  8.30e-01  1.35e+03    1.00e+02      0              \n",
      "   2  1.33e+02  1.06e+03  1.37e+00  1.24e+03    1.02e+02      0   Skip BFGS  \n",
      "   3  8.89e+01  8.96e+02  2.41e+00  1.11e+03    8.71e+01      0              \n",
      "   4  5.92e+01  7.35e+02  3.93e+00  9.68e+02    7.57e+01      0   Skip BFGS  \n",
      "   5  3.95e+01  5.77e+02  6.20e+00  8.22e+02    6.07e+01      0   Skip BFGS  \n",
      "   6  2.63e+01  4.39e+02  9.17e+00  6.80e+02    4.98e+01      0   Skip BFGS  \n",
      "   7  1.76e+01  3.20e+02  1.30e+01  5.47e+02    3.98e+01      0   Skip BFGS  \n",
      "   8  1.17e+01  2.24e+02  1.75e+01  4.29e+02    3.16e+01      0   Skip BFGS  \n",
      "   9  7.80e+00  1.51e+02  2.25e+01  3.26e+02    2.46e+01      0   Skip BFGS  \n",
      "  10  5.20e+00  9.68e+01  2.79e+01  2.42e+02    1.89e+01      0   Skip BFGS  \n",
      "  11  3.47e+00  6.06e+01  3.30e+01  1.75e+02    1.43e+01      0   Skip BFGS  \n",
      "  12  2.31e+00  3.81e+01  3.72e+01  1.24e+02    1.01e+01      0   Skip BFGS  \n",
      "  13  1.54e+00  2.64e+01  4.01e+01  8.81e+01    6.48e+00      0   Skip BFGS  \n",
      "  14  1.03e+00  2.11e+01  4.16e+01  6.38e+01    3.92e+00      0   Skip BFGS  \n",
      "  15  6.85e-01  1.87e+01  4.25e+01  4.78e+01    2.66e+00      0   Skip BFGS  \n",
      "  16  4.57e-01  1.75e+01  4.32e+01  3.72e+01    1.94e+00      0   Skip BFGS  \n",
      "  17  3.04e-01  1.68e+01  4.39e+01  3.02e+01    1.59e+00      0   Skip BFGS  \n",
      "  18  2.03e-01  1.64e+01  4.45e+01  2.54e+01    1.91e+00      0   Skip BFGS  \n",
      "  19  1.35e-01  1.61e+01  4.50e+01  2.22e+01    1.78e+00      0   Skip BFGS  \n",
      "  20  9.02e-02  1.60e+01  4.56e+01  2.01e+01    9.20e-01      0   Skip BFGS  \n",
      "  21  6.01e-02  1.59e+01  4.58e+01  1.87e+01    7.75e-01      0   Skip BFGS  \n",
      "  22  4.01e-02  1.59e+01  4.64e+01  1.77e+01    5.63e-01      0              \n",
      "  23  2.67e-02  1.57e+01  4.84e+01  1.70e+01    1.30e+00      0              \n",
      "  24  1.78e-02  1.56e+01  5.13e+01  1.65e+01    1.42e+00      0   Skip BFGS  \n",
      "  25  1.19e-02  1.56e+01  5.11e+01  1.62e+01    6.70e-01      0              \n",
      "  26  7.92e-03  1.55e+01  5.42e+01  1.59e+01    1.03e+00      0              \n",
      "  27  5.28e-03  1.55e+01  5.80e+01  1.58e+01    2.58e+00      0              \n",
      "  28  3.52e-03  1.54e+01  6.13e+01  1.56e+01    2.64e+00      2   Skip BFGS  \n",
      "  29  2.35e-03  1.54e+01  6.70e+01  1.55e+01    2.57e+00      1   Skip BFGS  \n",
      "  30  1.56e-03  1.53e+01  7.07e+01  1.54e+01    1.65e+00      0   Skip BFGS  \n",
      "  31  1.04e-03  1.53e+01  7.35e+01  1.54e+01    4.66e-01      0              \n",
      "  32  6.95e-04  1.53e+01  8.17e+01  1.53e+01    1.61e+00      0              \n",
      "  33  4.63e-04  1.52e+01  8.09e+01  1.53e+01    3.20e-01      0              \n",
      "  34  3.09e-04  1.52e+01  9.20e+01  1.53e+01    1.24e+00      0              \n",
      "  35  2.06e-04  1.52e+01  9.70e+01  1.52e+01    6.22e-01      0              \n",
      "------------------------- STOP! -------------------------\n",
      "1 : |fc-fOld| = 3.9483e-02 <= tolF*(1+|f0|) = 1.7197e+02\n",
      "1 : |xc-x_last| = 5.4425e-01 <= tolX*(1+|x0|) = 3.7841e+00\n",
      "0 : |proj(x-g)-x|    = 6.2157e-01 <= tolG          = 1.0000e-01\n",
      "0 : |proj(x-g)-x|    = 6.2157e-01 <= 1e3*eps       = 1.0000e-02\n",
      "1 : maxIter   =      35    <= iter          =     35\n",
      "------------------------- DONE! -------------------------\n"
     ]
    }
   ],
   "source": [
    "m0 = np.log(0.01) * np.ones(mesh.nC)\n",
    "xc, save, reg = run_MT1Dinv(prob, survey, m0,\n",
    "                                   coolingFactor=8, coolingRate=3,\n",
    "                                   alpha_s=1., alpha_x=1.,\n",
    "                                   beta0_ratio=10.,\n",
    "                                   use_betaest=True,\n",
    "                                   use_target=False)"
   ]
  },
  {
   "cell_type": "code",
   "execution_count": 13,
   "metadata": {
    "collapsed": true
   },
   "outputs": [],
   "source": [
    "save.load_results()"
   ]
  },
  {
   "cell_type": "code",
   "execution_count": 14,
   "metadata": {},
   "outputs": [
    {
     "data": {
      "image/png": "[encoded data removed]",
      "text/plain": [
       "<matplotlib.figure.Figure at 0x10ef86d10>"
      ]
     },
     "metadata": {},
     "output_type": "display_data"
    }
   ],
   "source": [
    "save.plot_misfit_curves(plot_small_smooth=False)"
   ]
  },
  {
   "cell_type": "code",
   "execution_count": 15,
   "metadata": {},
   "outputs": [
    {
     "data": {
      "image/png": "[encoded data removed]",
      "text/plain": [
       "<matplotlib.figure.Figure at 0x10f0ee150>"
      ]
     },
     "metadata": {},
     "output_type": "display_data"
    }
   ],
   "source": [
    "save.plot_tikhonov_curves()"
   ]
  },
  {
   "cell_type": "code",
   "execution_count": 16,
   "metadata": {},
   "outputs": [
    {
     "data": {
      "text/plain": [
       "13"
      ]
     },
     "execution_count": 16,
     "metadata": {},
     "output_type": "execute_result"
    }
   ],
   "source": [
    "save.i_target"
   ]
  },
  {
   "cell_type": "code",
   "execution_count": 17,
   "metadata": {},
   "outputs": [
    {
     "name": "stderr",
     "output_type": "stream",
     "text": [
      "Widget Javascript not detected.  It may not be installed or enabled properly.\n"
     ]
    },
    {
     "data": {
      "application/vnd.jupyter.widget-view+json": {
       "model_id": "250f0fb7795f48f1bbab64d2317b270e"
      }
     },
     "metadata": {},
     "output_type": "display_data"
    },
    {
     "data": {
      "text/plain": [
       "<function __main__.foo>"
      ]
     },
     "execution_count": 17,
     "metadata": {},
     "output_type": "execute_result"
    }
   ],
   "source": [
    "from ipywidgets import interact, IntSlider, ToggleButtons\n",
    "def view_1Dinversion_results(iteration, scale, save):\n",
    "    fig = plt.figure(figsize = (10, 5))\n",
    "    ax1 = plt.subplot(221)\n",
    "    ax2 = plt.subplot(222)\n",
    "    ax3 = plt.subplot(223)\n",
    "    ax4 = plt.subplot(224)\n",
    "\n",
    "    ax1.loglog(save.phi_m, save.phi_d, 'k-', lw=2)\n",
    "    if save.i_target is not None:\n",
    "        ax1.loglog(save.phi_m[save.i_target], save.phi_d[save.i_target], 'k*', ms=10)\n",
    "    ax1.loglog(save.phi_m[iteration], save.phi_d[iteration], 'ro', ms=10)\n",
    "    ax1.set_xlim(save.phi_m.min(), save.phi_m.max())\n",
    "    ax1.set_xlabel(\"$\\phi_m$\", fontsize = 14)\n",
    "    ax1.set_ylabel(\"$\\phi_d$\", fontsize = 14)\n",
    "    ax1.set_xscale(scale)\n",
    "    temp = xc[iteration]\n",
    "    sigtrue = np.repeat(sigma, 2, axis=0)\n",
    "    z = np.repeat(mesh.vectorCCx[1:], 2, axis=0)\n",
    "    z = np.r_[mesh.vectorCCx[0], z, mesh.vectorCCx[-1]]\n",
    "    ax3.plot(-z, sigtrue, 'k', lw=2)\n",
    "    ax3.plot(-mesh.vectorCCx, np.exp(temp), 'k--', lw=2)\n",
    "    ax3.set_xscale(\"log\")\n",
    "    ax3.set_yscale(\"log\")\n",
    "    ax3.set_ylabel(\"Conductivity (S/m)\")\n",
    "    ax3.set_xlabel(\"Depth (m)\")\n",
    "    ax3.grid(True, which='both')\n",
    "    ax3.set_ylim(2e-3, 2e-1)\n",
    "    ax3.set_xlim((-z).min(), (-z).max())\n",
    "    dpred = survey.dpred(xc[iteration])\n",
    "    app_res_pred, phase_pred = appres_phase_from_Zxy(dpred, frequency)\n",
    "    ax2.loglog(frequency, app_res, 'k-', lw=2)\n",
    "    ax2.loglog(frequency, app_res_pred, 'kx', markeredgewidth=1)\n",
    "    ax2.grid(True, which='both')\n",
    "    ax2.set_xlim(frequency.max(), frequency.min())\n",
    "    ax2.set_ylim(10, 3e2)\n",
    "    ax2.set_xlabel(\"Frequency (Hz)\")\n",
    "    ax2.set_ylabel(\"$\\\\rho_a \\ (\\Omega m)$\", fontsize = 14)\n",
    "\n",
    "    ax4.semilogx(frequency, phase, 'k-', lw=2)\n",
    "    ax4.semilogx(frequency, phase_pred, 'kx', markeredgewidth=1)\n",
    "\n",
    "    ax4.grid(True, which='both')\n",
    "    ax4.set_xlim(frequency.max(), frequency.min())\n",
    "    ax4.set_xlabel(\"Frequency (Hz)\")\n",
    "    ax4.set_ylabel(\"Phase (degree)\")\n",
    "    plt.tight_layout()\n",
    "    plt.show()\n",
    "\n",
    "def foo(iteration, scale):\n",
    "    return view_1Dinversion_results(iteration, scale, save)\n",
    "interact(foo, \n",
    "         iteration=IntSlider(min=0, max=save.phi_d.shape[0]-1, step=1, value=0),\n",
    "         scale=ToggleButtons(options=[\"linear\", \"log\"], value=\"log\"))"
   ]
  },
  {
   "cell_type": "code",
   "execution_count": 18,
   "metadata": {
    "collapsed": true
   },
   "outputs": [],
   "source": [
    "def MT1D_inv_results(xc, iteration):\n",
    "    fig = plt.figure(figsize = (5, 7))\n",
    "    ax1 = plt.subplot(311)\n",
    "    ax2 = plt.subplot(312)\n",
    "    ax3 = plt.subplot(313)\n",
    "\n",
    "    temp = xc[iteration]\n",
    "    sigtrue = np.repeat(sigma, 2, axis=0)\n",
    "    z = np.repeat(mesh.vectorCCx[1:], 2, axis=0)\n",
    "    z = np.r_[mesh.vectorCCx[0], z, mesh.vectorCCx[-1]]\n",
    "    ax1.plot(-z, sigtrue, 'k', lw=2)\n",
    "    ax1.plot(-mesh.vectorCCx, np.exp(temp), 'k--', lw=2)\n",
    "    ax1.set_xscale(\"log\")\n",
    "    ax1.set_yscale(\"log\")\n",
    "    ax1.set_ylabel(\"Conductivity (S/m)\")\n",
    "    ax1.set_xlabel(\"Depth (m)\")\n",
    "    ax1.grid(True, which='both')\n",
    "    ax1.set_ylim(2e-3, 4e-1)\n",
    "    ax1.set_xlim((-z).min(), (-z).max())\n",
    "\n",
    "    dpred = survey.dpred(xc[iteration])\n",
    "    app_res_pred, phase_pred = appres_phase_from_Zxy(dpred, frequency)\n",
    "    \n",
    "    ax2.loglog(frequency, app_res, 'k-', lw=2)\n",
    "    ax2.loglog(frequency, app_res_pred, 'kx', markeredgewidth=1)\n",
    "    ax2.grid(True, which='both')\n",
    "    ax2.set_xlim(frequency.max(), frequency.min())\n",
    "    ax2.set_ylim(10, 3e2)\n",
    "    ax2.set_xlabel(\"Frequency (Hz)\")\n",
    "    ax2.set_ylabel(\"$\\\\rho_a \\ (\\Omega m)$\", fontsize = 14)\n",
    "\n",
    "    ax3.semilogx(frequency, phase, 'k-', lw=2)\n",
    "    ax3.semilogx(frequency, phase_pred, 'kx', markeredgewidth=1)\n",
    "\n",
    "    ax3.grid(True, which='both')\n",
    "    ax3.set_xlim(frequency.max(), frequency.min())\n",
    "    ax3.set_xlabel(\"Frequency (Hz)\")\n",
    "    ax3.set_ylabel(\"$\\phi \\ (^{\\circ})$\", fontsize = 14)\n",
    "    plt.tight_layout()"
   ]
  },
  {
   "cell_type": "code",
   "execution_count": 19,
   "metadata": {},
   "outputs": [
    {
     "name": "stdout",
     "output_type": "stream",
     "text": [
      "SimPEG.DataMisfit.l2_DataMisfit assigning default eps of 1e-5 * ||dobs||\n",
      "SimPEG.InvProblem will set Regularization.mref to m0.\n",
      "\n",
      "    SimPEG.InvProblem is setting bfgsH0 to the inverse of the eval2Deriv.\n",
      "    ***Done using same Solver and solverOpts as the problem***\n",
      "SimPEG.SaveOutputEveryIteration will save your inversion progress as: '###-InversionModel-2017-06-18-22-20.txt'\n",
      "model has any nan: 0\n",
      "============================ Inexact Gauss Newton ============================\n",
      "  #     beta     phi_d     phi_m       f      |proj(x-g)-x|  LS    Comment   \n",
      "-----------------------------------------------------------------------------\n",
      "x0 has any nan: 0\n",
      "   0  6.96e+01  1.72e+03  0.00e+00  1.72e+03    4.89e+02      0              \n",
      "   1  4.64e+01  1.89e+02  3.06e-02  1.91e+02    7.29e+01      0              \n",
      "   2  3.09e+01  4.33e+01  4.70e-01  5.79e+01    2.01e+01      0   Skip BFGS  \n",
      "   3  2.06e+01  2.56e+01  5.99e-01  3.79e+01    4.63e+00      0              \n",
      "------------------------- STOP! -------------------------\n",
      "1 : |fc-fOld| = 0.0000e+00 <= tolF*(1+|f0|) = 1.7197e+02\n",
      "1 : |xc-x_last| = 6.0763e-01 <= tolX*(1+|x0|) = 3.7841e+00\n",
      "0 : |proj(x-g)-x|    = 4.6288e+00 <= tolG          = 1.0000e-01\n",
      "0 : |proj(x-g)-x|    = 4.6288e+00 <= 1e3*eps       = 1.0000e-02\n",
      "0 : maxIter   =      35    <= iter          =      4\n",
      "------------------------- DONE! -------------------------\n"
     ]
    }
   ],
   "source": [
    "m0 = np.log(0.01) * np.ones(mesh.nC)\n",
    "xc_smooth, save_smooth, reg_smooth = run_MT1Dinv(prob, survey, m0,\n",
    "                                   coolingFactor=8, coolingRate=3,\n",
    "                                   alpha_s=1e-5, alpha_x=1.,\n",
    "                                   beta0_ratio=1.,\n",
    "                                   use_betaest=True,\n",
    "                                   use_target=True)"
   ]
  },
  {
   "cell_type": "code",
   "execution_count": 20,
   "metadata": {},
   "outputs": [
    {
     "data": {
      "image/png": "[encoded data removed]",
      "text/plain": [
       "<matplotlib.figure.Figure at 0x10eb63190>"
      ]
     },
     "metadata": {},
     "output_type": "display_data"
    }
   ],
   "source": [
    "MT1D_inv_results(xc_smooth, -1)"
   ]
  },
  {
   "cell_type": "code",
   "execution_count": null,
   "metadata": {
    "collapsed": true
   },
   "outputs": [],
   "source": []
  }
 ],
 "metadata": {
  "anaconda-cloud": {},
  "kernelspec": {
   "display_name": "Python 2",
   "language": "python",
   "name": "python2"
  },
  "language_info": {
   "codemirror_mode": {
    "name": "ipython",
    "version": 2
   },
   "file_extension": ".py",
   "mimetype": "text/x-python",
   "name": "python",
   "nbconvert_exporter": "python",
   "pygments_lexer": "ipython2",
   "version": "2.7.13"
  }
 },
 "nbformat": 4,
 "nbformat_minor": 2
}

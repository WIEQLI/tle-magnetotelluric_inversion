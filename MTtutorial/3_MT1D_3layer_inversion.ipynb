{
 "cells": [
  {
   "cell_type": "markdown",
   "metadata": {},
   "source": [
    "**Getting Started**\n",
    "\n",
    "This tutorial relies on standard python packages as well as [SimPEG](http://simpeg.xyz). If you do not have SimPEG installed, you can uncomment the next line and install it from [pypi](https://pypi.python.org/pypi/SimPEG).\n",
    "\n",
    "The second package we are installing is [pymatsolver](https://github.com/rowanc1/pymatsolver), which interfaces to sparse matrix solvers. It is not required for the tutorial, we will fall-back to an LU solver, which is sufficient for this problem "
   ]
  },
  {
   "cell_type": "code",
   "execution_count": 1,
   "metadata": {
    "collapsed": true
   },
   "outputs": [],
   "source": [
    "# !pip install SimPEG\n",
    "# !pip install pymatsolver"
   ]
  },
  {
   "cell_type": "markdown",
   "metadata": {},
   "source": [
    "# Inversion: 1D Magnetotelluric Problem\n",
    "\n",
    "In the previous notebooks, we explored how to discretize the [1D MT problem](./1_MT1D_NumericalSetup.ipynb), how to design an appropriate mesh, and explored the [an example of non-uniquness](./2_MT1D_ForwardModellingAndNonuniqueness.ipynb). In this notebook, we will put those concepts to use and set up a 1D inversion. \n",
    "\n",
    "The aim of this notebook is to highlight the elements we use to set up and solve the inverse problem, in the notebook that follows this, we will dive futher into the impact of various parameter choices (eg. the trade-off parameter $\\beta$, the stopping criteria, noise model and regulariztion parameters). "
   ]
  },
  {
   "cell_type": "markdown",
   "metadata": {},
   "source": [
    "## Inversion as Optimization\n",
    "\n",
    "We will use deterministic approach and pose the inverse problem as an optimization problem of the form \n",
    "\n",
    "$$\n",
    "\\min_{\\mathbf{m}} \\phi(\\mathbf{m}) = \\phi_d(\\mathbf{m}) + \\beta\\phi_m(\\mathbf{m})\n",
    "$$\n",
    "\n",
    "where:\n",
    "- $\\mathbf{m}$ is our model - the vector of numbers that describes our earth model. It is what we are solving for in the inversion\n",
    "- $\\phi_d(\\mathbf{m})$ is the data misfit\n",
    "- $\\phi_m(\\mathbf{m})$ is the regularization\n",
    "- $\\beta$ is a trade-off parameter\n",
    "\n",
    "### Data Misfit\n",
    "\n",
    "The data misfit, $\\phi_d(\\mathbf{m})$, is often taken to be a weighted l2-norm, where the weights capture the noise model (eg. we want to assign higher weights and do a good job fitting data that we are confident are less noisy, and assign less weight / influence to data that are noisy). The l2 norm is the correct norm to choose when noise is Gaussian (or approximately Gaussian, or if you have no additional information and assume it is Gaussian). An l2 data misfit is captured mathematically by  \n",
    "\n",
    "$$\n",
    "\\phi_d(\\mathbf{m}) = \\frac{1}{2}\\|\\mathbf{W_d} (\\mathcal{F}(\\mathbf{m}) - \\mathbf{d}^{\\text{obs}})\\|^2\n",
    "$$\n",
    "\n",
    "where \n",
    "\n",
    "- $\\mathbf{W_d} = \\text{diag}(1/\\boldsymbol{\\epsilon})$ is a diagonal matrix with diagonal entries $1/\\epsilon_i$, where $\\epsilon_i$ is an estimated standard deviation of the $i$th datum.\n",
    "- $\\mathcal{F}$ is the forward modelling operator that simulates the 1D MT response given a model\n",
    "- $\\mathbf{m}$ is the model: the set of parameters which describe the physical properties of the layered earth\n",
    "- $\\mathbf{d}^{\\text{obs}}$ is the observed data\n",
    "\n",
    "(The factor of $1/2$ and the choice of using the squared-norm is a matter of convienence. We will be using gradient based optimzation methods, so it is easier to take derivatives of a norm squared than a norm.)\n",
    "\n",
    "### Regularization\n",
    "The inverse problem is an [ill posed problem](https://en.wikipedia.org/wiki/Well-posed_problem). There are multiple (actually infinitely many!) models that can fit the data.  There are a couple ways to observe this:\n",
    "\n",
    "- Mathematically: If we start by thinking about a linear problem $\\mathbf{G}\\mathbf{m} = \\mathbf{d}$, the matrix $\\mathbf{G}$ is wide, so it is not directly invertible (eg. see Matt Hall's [Linear Inversion Tutorial](http://library.seg.org/doi/full/10.1190/tle35121085.1)). Here, we are dealing with a non-linear system of equations, but the principle is the same. \n",
    "\n",
    "- An Example: In the [Forward Modelling and Nonuniqueness notebook](2_MT1D_ForwardModellingAndNonuniqueness.ipynb), we used forward modelling to demonstrate non-uniquness with the conductivity-thickness product of a single, conductive layer, and this is a very simple model compared to most geologic settings! \n",
    "\n",
    "Thus, to choose from the infinitely many solutions and arrive at a sensible one, we employ a regularization: $\\phi_m$. Tikhonov regularization, which again employs l2-norms, is a standard choice (It has a few nice features: it is convex and easy to differentiate). It takes the form: \n",
    "$$\n",
    "\\phi_m(\\mathbf{m}) = \\frac{1}{2}\\big(\\alpha_s\\|\\mathbf{W_s} (\\mathbf{m} - \\mathbf{m}_{\\text{ref}})\\|^2 + \\alpha_z\\|\\mathbf{W_z} (\\mathbf{m})\\|^2 \\big)\n",
    "$$\n",
    "\n",
    "The first term is often referred to as the \"smallness\" as it measures the \"size\" of the model (in the l2 sense). The matrix $\\mathbf{W_s}$ is generally taken to be a diagonal matrix that may contain information about the length scales of the model or be used to weight the relative importance of various parameters in the model. The scalar $\\alpha_s$ weights the relative importance of this term in the regularization. Notice that we include a reference model ($\\mathbf{m}_{\\text{ref}}$. Often this is defined as a constant value, but if more information is known about the background, that can be used to construct a reference model. Note that saying \"I am not going to use a reference model\" means that you are actually using $\\mathbf{m}_{\\text{ref}} = 0$, this is important to realize... in the inversion we demonstrate here, our `model` will be $\\mathbf{m} = \\text{log}(\\sigma)$. If we set $\\mathbf{m}_{\\text{ref}} = 0$, then we are favoring models close to 1 S/m - which is quite conductive! \n",
    "\n",
    "The second term is often referred to as the \"smoothness\". The matrix $\\mathbf{W_z}$ approximate the derivative of the model with respect to depth, and is hense a measure of how \"smooth\" the model is. The term $\\alpha_z$ weights its relative importance in the regularization. \n",
    "\n",
    "\n",
    "## In this notebook...\n",
    "\n",
    "Although we pose the inverse problem as an optimization problem, we aren't necessarily going to solve to a true minimum. There are always uncertainties with the data, so there is no point trying to drive $\\phi_d$ to its true minimium - we would end up introducing structures in the model to fit the data (we will explore this here). So another choice that has to be made when setting up an inversion is where to stop. \n",
    "\n",
    "In this notebook, we will walk through how to set up an inversion, discuss concepts including:\n",
    "- **Tikhonov curve**: a plot of $\\phi_d$ vs $\\phi_m$\n",
    "- Defining a **target misfit** as a stopping criteria: $\\phi_d^*$ and exploring what happens when we overfit or underfit the data\n",
    "- Tuning the **regularization** ($\\alpha_s$, $\\alpha_z$): how _smooth_ or _small_ (in the L2-sense) do we want our model to be?\n",
    "\n",
    "We will employ second-order optimization methods, meaning we have to be able to both simulate data and compute derivatives. We will take those steps for granted in this notebook, but if you are curious to look under the hood and see how sensitivities are computed for this problem, have a look at the [Sensitivities Notebook](./Appendix_A_MT1D_Sensitivity.ipynb).  "
   ]
  },
  {
   "cell_type": "code",
   "execution_count": 2,
   "metadata": {
    "collapsed": true
   },
   "outputs": [],
   "source": [
    "import numpy as np\n",
    "import matplotlib.pyplot as plt\n",
    "from scipy.constants import mu_0\n",
    "from SimPEG import (\n",
    "    Mesh, Maps, SolverLU, DataMisfit, Regularization,\n",
    "    Optimization, InvProblem, Inversion, Directives, Utils\n",
    ")\n",
    "\n",
    "try:\n",
    "    from pymatsolver import PardisoSolver as Solver\n",
    "except importError:\n",
    "    from SimPEG import SolverLU as Solver\n",
    "\n",
    "# the following are described in the Sensitivity notebooks\n",
    "from MT1D import MT1DProblem, MT1DSurvey, MT1DSrc, ZxyRx, Survey, AppResPhaRx\n",
    "\n",
    "%matplotlib inline"
   ]
  },
  {
   "cell_type": "markdown",
   "metadata": {},
   "source": [
    "## Forward Simulation\n",
    "\n",
    "### Parmeters\n",
    "Now, we define our model parameters and survey setup. This includes defining\n",
    "- location of receivers\n",
    "- frequencies we are sampling\n",
    "- type of dat we are measuring (impedance or apparent resistivity and phase)\n",
    "\n",
    "Similar to the model shown in [1_MT1D_NumericalSetup.ipynb](./1_MT1D_NumericalSetup.ipynb) and [2_MT1D_ForwardModellingAndNonuniqueness](./2_MT1D_ForwardModellingAndNonuniqueness), we will start by considering a simple model which consists of 2 units: the background and a conductive layer (the layer). "
   ]
  },
  {
   "cell_type": "code",
   "execution_count": 3,
   "metadata": {
    "collapsed": true
   },
   "outputs": [],
   "source": [
    "rho_half = 100.  # resistivity of the half space\n",
    "rho_target = 10.  # resistivity of the target layer\n",
    "depth = 2000.  # depth to the top of the target layer\n",
    "thickness = 1000.   # thickness of the target layer"
   ]
  },
  {
   "cell_type": "code",
   "execution_count": 4,
   "metadata": {},
   "outputs": [],
   "source": [
    "rxloc = np.r_[0.]   \n",
    "frequency = np.logspace(-3, 2, 25)"
   ]
  },
  {
   "cell_type": "markdown",
   "metadata": {},
   "source": [
    "### Survey\n",
    "Next, we set up a `survey` object. Here we are following the SimPEG approach and define \n",
    "- a receiver object: given fields found from a simulation, it has the machinery to compute data. An impedance receiver `ZxyRx` calculates the ratio of $E_x$ and $H_y$ from calculated electric and magnetic fields (both real and imaginary components)\n",
    "- a source object: this provides the right-hand-side for our MT problem. This is a plane wave source with at the specified frequency. \n",
    "\n",
    "These are combined in a `survey`. "
   ]
  },
  {
   "cell_type": "code",
   "execution_count": 6,
   "metadata": {
    "collapsed": true
   },
   "outputs": [],
   "source": [
    "# Create a receiver object \n",
    "rx = ZxyRx(\n",
    "    rxloc, # location of the receiver \n",
    "    component=\"both\",  # measure both the real and imaginary components of the impedance (alternatively \"real\" / \"imag\")\n",
    "    frequency=frequency\n",
    ")\n",
    "\n",
    "# create a plane wave source\n",
    "src = MT1DSrc([rx])\n",
    "\n",
    "# define a survey\n",
    "survey = MT1DSurvey([src])"
   ]
  },
  {
   "cell_type": "markdown",
   "metadata": {},
   "source": [
    "### Mesh\n",
    "\n",
    "In the [Forward Modelling and Nonuniqueness notebook](2_MT1D_ForwardModellingAndNonuniqueness.ipynb), we discussed how to design a mesh that extends sufficiently far and has fine enough cells near the surface to accurately simulate the MT response across the frequency range of interest. We have wrapped up that knowledge in the utility function `setMesh` "
   ]
  },
  {
   "cell_type": "code",
   "execution_count": 7,
   "metadata": {},
   "outputs": [
    {
     "name": "stdout",
     "output_type": "stream",
     "text": [
      ">> Smallest cell size = 50 m\n",
      ">> Padding distance = 316227 m\n",
      ">> # of padding cells 28\n",
      ">> # of core cells cells 100\n"
     ]
    }
   ],
   "source": [
    "max_depth_core = 5000.\n",
    "mesh = survey.setMesh(\n",
    "    sigma=1./rho_half,  # conductivity of the background\n",
    "    max_depth_core=max_depth_core,  # extent of the core region of the mesh\n",
    "    ncell_per_skind=10,  # number of cells per the smallest skin depth\n",
    "    n_skind=2,  # number of skin depths that the mesh should extend to ensure the lowest-frequency fields have decayed\n",
    "    core_meshType = \"linear\",  # cell spacings in the core region of the mesh (\"linear\" or \"log\")\n",
    "    max_hz_core=None  # If using a logarithmic core mesh, what is the maximum cell size?\n",
    ")"
   ]
  },
  {
   "cell_type": "code",
   "execution_count": 8,
   "metadata": {},
   "outputs": [
    {
     "data": {
      "image/png": "[encoded data removed]",
      "text/plain": [
       "<matplotlib.figure.Figure at 0x10f3ae550>"
      ]
     },
     "metadata": {},
     "output_type": "display_data"
    }
   ],
   "source": [
    "# plot the mesh\n",
    "fig, ax = plt.subplots(1,1, figsize=(8, 3))\n",
    "mesh.plotGrid(centers=True, faces=True, ax=ax)\n",
    "ax.legend([\"centers\", \"faces\"])\n",
    "ax.invert_xaxis()  # so that the surface is on our left hand side\n",
    "ax.set_xlabel('z (m)')\n",
    "ax.grid(which=\"both\", linewidth=0.5)"
   ]
  },
  {
   "cell_type": "markdown",
   "metadata": {},
   "source": [
    "### Problem\n",
    "\n",
    "In the previous notebooks, we set up the machinery to solve the 1D MT problem. Here, we will use that functionality. Please see [Sensitivities Notebook](./3_MT1D_Sensitivity.ipynb) for further discussion on how `MT1DProblems` is set up. "
   ]
  },
  {
   "cell_type": "code",
   "execution_count": 9,
   "metadata": {
    "collapsed": true
   },
   "outputs": [],
   "source": [
    "prob = MT1DProblem(\n",
    "    mesh,  # The mesh contains the geometry, grids, etc necessary for constructing the discrete PDE system\n",
    "    sigmaMap=Maps.ExpMap(mesh),  # in the inversion, we want to invert for log-conductivity (enforces postivity, electrical conductivity tends to vary logarithmically)\n",
    "    verbose=False,  # print information as we are setting up and solving \n",
    "    Solver=Solver  # solver to employ for solving Ax = b\n",
    ")\n",
    "\n",
    "# tell the problem and survey about each other so we can construct our matrix system \n",
    "# and right hand-side\n",
    "prob.pair(survey)"
   ]
  },
  {
   "cell_type": "markdown",
   "metadata": {},
   "source": [
    "### Put the model on the mesh"
   ]
  },
  {
   "cell_type": "code",
   "execution_count": 10,
   "metadata": {
    "collapsed": true
   },
   "outputs": [],
   "source": [
    "sigma = np.ones(mesh.nC) * 1./rho_half\n",
    "\n",
    "# find the layer\n",
    "layer_inds = (mesh.vectorCCx<-depth)&(mesh.vectorCCx>-depth-thickness)\n",
    "sigma[layer_inds] = 1./rho_target"
   ]
  },
  {
   "cell_type": "code",
   "execution_count": 11,
   "metadata": {},
   "outputs": [
    {
     "data": {
      "text/plain": [
       "(0, -5000.0)"
      ]
     },
     "execution_count": 11,
     "metadata": {},
     "output_type": "execute_result"
    },
    {
     "data": {
      "image/png": "[encoded data removed]",
      "text/plain": [
       "<matplotlib.figure.Figure at 0x11279e2d0>"
      ]
     },
     "metadata": {},
     "output_type": "display_data"
    }
   ],
   "source": [
    "# plot the model\n",
    "fig, ax = plt.subplots(1, 1, figsize=(8, 3))\n",
    "\n",
    "# trickery to plot from node to node rather than at cell centers\n",
    "z = np.repeat(mesh.vectorNx[1:-1], 2, axis=0)\n",
    "z = np.r_[mesh.vectorNx[0], z, mesh.vectorNx[-1]]\n",
    "sigma_plt = np.repeat(sigma, 2, axis=0)\n",
    "\n",
    "ax.semilogy(z, sigma_plt, \"k\", lw=2)\n",
    "ax.invert_xaxis() # plot the surface on the left\n",
    "ax.set_xlabel(\"Elevation (m)\", fontsize=14)\n",
    "ax.set_ylabel(\"Conductivity (S/m)\", fontsize=14)\n",
    "plt.grid(which='both', linewidth=0.5)\n",
    "plt.ylim(6e-3, 3e-1)\n",
    "plt.xlim(0, -max_depth_core)"
   ]
  },
  {
   "cell_type": "markdown",
   "metadata": {},
   "source": [
    "## Simulate 'Observed' Data\n",
    "\n",
    "Based on our model plotted above, we will create synthetic data. We will later use these data in the inversion. "
   ]
  },
  {
   "cell_type": "code",
   "execution_count": 12,
   "metadata": {
    "collapsed": true
   },
   "outputs": [],
   "source": [
    "mtrue = np.log(sigma)  # since our \"model\" is log conductivity, we take the log\n",
    "dtrue = survey.dpred(mtrue)  # these are clean data (no noise yet.)"
   ]
  },
  {
   "cell_type": "markdown",
   "metadata": {},
   "source": [
    "Add noise to generate \"observed\" data"
   ]
  },
  {
   "cell_type": "code",
   "execution_count": 13,
   "metadata": {
    "collapsed": true
   },
   "outputs": [],
   "source": [
    "np.random.seed(1)  # set a seed to the results are reproducable\n",
    "std = 0.05  # standard deviation of the noise (5%)\n",
    "\n",
    "# data are arranged (apparent resistivity, phase) for each frequency\n",
    "Zxy_real_true = dtrue.reshape((survey.nFreq, 2))[:,0]\n",
    "Zxy_imag_true = dtrue.reshape((survey.nFreq, 2))[:,1]\n",
    "\n",
    "# add noise\n",
    "uncert = np.r_[\n",
    "    abs(Zxy_real)*std, # uncertainty on real impedance\n",
    "    abs(Zxy_imag)*std  # uncertainty on imag impedance\n",
    "]\n",
    "noise = uncert * np.random.randn(survey.nFreq*2)\n",
    "survey.dobs = dtrue + noise\n",
    "\n",
    "Zxy_real_obs = survey.dobs.reshape((survey.nFreq, 2))[:,0]\n",
    "Zxy_imag_obs = survey.dobs.reshape((survey.nFreq, 2))[:,1]"
   ]
  },
  {
   "cell_type": "markdown",
   "metadata": {},
   "source": []
  },
  {
   "cell_type": "code",
   "execution_count": null,
   "metadata": {
    "collapsed": true
   },
   "outputs": [],
   "source": [
    "def app_res_phase(Zxy_real, Zxy_imag, frequency):\n",
    "    app_res = abs(Zxy_real+1j*Zxy_imag)**2 / (mu_0*omega(frequency))\n",
    "    phase = np.rad2deg(np.arctan(Zxy_imag / Zxy_real))\n",
    "    return app_res, phase"
   ]
  },
  {
   "cell_type": "code",
   "execution_count": 14,
   "metadata": {},
   "outputs": [
    {
     "data": {
      "image/png": "[encoded data removed]",
      "text/plain": [
       "<matplotlib.figure.Figure at 0x112b37dd0>"
      ]
     },
     "metadata": {},
     "output_type": "display_data"
    }
   ],
   "source": [
    "fig, ax = plt.subplots(2, 1, figsize=(8,6))\n",
    "\n",
    "# apparent resistivity\n",
    "ax[0].loglog(frequency, app_res_true, '-o', lw=2, label=\"clean\")\n",
    "ax[0].loglog(frequency, app_res_obs, 'k-', lw=2, label=\"noisy\")\n",
    "ax[0].set_ylabel(\"$\\\\rho_a \\ (\\Omega m)$\", fontsize = 14)\n",
    "ax[0].set_ylim([10, 3e2])\n",
    "\n",
    "# phase\n",
    "ax[1].semilogx(frequency, phase_true, '-o', lw=2, label=\"clean\")\n",
    "ax[1].semilogx(frequency, phase_obs, 'k-', lw=2, label=\"noisy\")\n",
    "ax[1].set_ylabel(\"Phase (degree)\")\n",
    "ax[1].set_ylim([0, 90])\n",
    "\n",
    "for a in ax:\n",
    "    a.grid(True, which='both')\n",
    "    a.legend()\n",
    "    a.set_xlim(frequency.max(), frequency.min())\n",
    "    a.set_xlabel(\"Frequency (Hz)\")\n",
    "\n",
    "plt.tight_layout()"
   ]
  },
  {
   "cell_type": "markdown",
   "metadata": {},
   "source": [
    "## Inverse Problem\n",
    "\n",
    "Our setup of the inversion follows the [SimPEG framework](http://simpeg.xyz).  \n",
    "\n",
    "<img href=\"http://simpeg.xyz\" src=\"http://www.simpeg.xyz/img/simpeg/workflow.png\" width=400px>\n",
    "\n",
    "The \"inversion implementation\" consists of 8 modules, 3 of which we have already been working with. \n",
    "\n",
    "- `Mesh`\n",
    "- `Problem`\n",
    "- `Survey`\n",
    "- `Data Misfit`\n",
    "- `Regularization`\n",
    "- `InvProb`\n",
    "- `Optimization`\n",
    "- `Inversion`"
   ]
  },
  {
   "cell_type": "code",
   "execution_count": 14,
   "metadata": {
    "collapsed": true
   },
   "outputs": [],
   "source": [
    "def run_MT1Dinv(\n",
    "    prob,  # 1D MT problem\n",
    "    survey,  # 1D MT survey with sources and receivers\n",
    "    m0,  # starting model\n",
    "    std_appres=0.05,  # noise on the apparent resistivity data (5%)\n",
    "    floor_phase=2.,  # noise on phase data (degrees)\n",
    "    alpha_s=1.,  # smallness weight\n",
    "    alpha_z=1.,  # smoothness weight\n",
    "    beta0=1e1,  # trade off parameter\n",
    "    coolingFactor=2.,  # cooling factor \n",
    "    coolingRate=1,  # cool beta after this many iterations \n",
    "    use_target=True,  # stop the inversion at the target misfit?\n",
    "    use_betaest=False,  # estimate an initial beta based on the the data misfit and regularization terms\n",
    "    beta0_ratio=None  # if we are estimating beta, how much should we favor the regularization?\n",
    "):\n",
    "    \n",
    "    # Data misfit\n",
    "    dmisfit = DataMisfit.l2_DataMisfit(survey)\n",
    "    dmisfit.W = 1./uncert\n",
    "    \n",
    "    # Regularization\n",
    "    reg = Regularization.Tikhonov(prob.mesh, alpha_s=alpha_s, alpha_x=alpha_z) # since we are in 1D, we work with the first dimension\n",
    "    \n",
    "    # Optimization\n",
    "    opt = Optimization.InexactGaussNewton(maxIter=35, LSshorten=0.05)\n",
    "    \n",
    "    # Statement of the inverse problem \n",
    "    invProb = InvProblem.BaseInvProblem(dmisfit, reg, opt)\n",
    "    \n",
    "    # Inversion Directives\n",
    "    beta = Directives.BetaSchedule(coolingFactor=1.5, coolingRate=1)\n",
    "    invProb.beta = beta0\n",
    "    save = Directives.SaveOutputEveryIteration()\n",
    "    target = Directives.TargetMisfit()\n",
    "    directives = [beta, save]\n",
    "\n",
    "    if use_target:\n",
    "        directives.append(target)\n",
    "    if use_betaest:\n",
    "        if beta0_ratio is None:\n",
    "            beta0_ratio = 1.\n",
    "        betaest = Directives.BetaEstimate_ByEig(beta0_ratio=beta0_ratio)\n",
    "        directives.append(betaest)      \n",
    "        \n",
    "    # assemble in an inversion\n",
    "    inv = Inversion.BaseInversion(invProb, directiveList=directives)\n",
    "    prob.counter = opt.counter = Utils.Counter()\n",
    "    opt.remember('xc')\n",
    "    \n",
    "    # run the inversion\n",
    "    mopt = inv.run(m0)\n",
    "    xc = opt.recall(\"xc\")\n",
    "    return xc, save, reg"
   ]
  },
  {
   "cell_type": "markdown",
   "metadata": {},
   "source": [
    "### Tikhonov Curve\n",
    "\n",
    "Run an inversion where we cool beta every iteration "
   ]
  },
  {
   "cell_type": "code",
   "execution_count": 15,
   "metadata": {},
   "outputs": [
    {
     "name": "stdout",
     "output_type": "stream",
     "text": [
      "SimPEG.DataMisfit.l2_DataMisfit assigning default eps of 1e-5 * ||dobs||\n",
      "SimPEG.InvProblem will set Regularization.mref to m0.\n",
      "\n",
      "    SimPEG.InvProblem is setting bfgsH0 to the inverse of the eval2Deriv.\n",
      "    ***Done using same Solver and solverOpts as the problem***\n",
      "SimPEG.SaveOutputEveryIteration will save your inversion progress as: '###-InversionModel-2017-06-15-16-32.txt'\n",
      "model has any nan: 0\n",
      "============================ Inexact Gauss Newton ============================\n",
      "  #     beta     phi_d     phi_m       f      |proj(x-g)-x|  LS    Comment   \n",
      "-----------------------------------------------------------------------------\n",
      "x0 has any nan: 0\n",
      "   0  1.50e+00  2.49e+03  0.00e+00  2.49e+03    1.04e+03      0              \n",
      "   1  1.00e+00  1.16e+03  3.07e+02  1.46e+03    1.25e+02      0              \n",
      "   2  6.67e-01  9.59e+02  4.61e+02  1.27e+03    1.44e+02      0   Skip BFGS  \n",
      "   3  4.44e-01  7.50e+02  7.01e+02  1.06e+03    1.11e+02      0   Skip BFGS  \n",
      "   4  2.96e-01  5.68e+02  1.01e+03  8.67e+02    8.34e+01      0   Skip BFGS  \n",
      "   5  1.98e-01  4.17e+02  1.38e+03  6.91e+02    6.69e+01      0   Skip BFGS  \n",
      "   6  1.32e-01  2.98e+02  1.82e+03  5.38e+02    4.93e+01      0   Skip BFGS  \n",
      "   7  8.78e-02  2.11e+02  2.29e+03  4.12e+02    3.58e+01      0   Skip BFGS  \n",
      "   8  5.85e-02  1.49e+02  2.78e+03  3.11e+02    2.55e+01      0   Skip BFGS  \n",
      "   9  3.90e-02  1.07e+02  3.27e+03  2.34e+02    1.84e+01      0   Skip BFGS  \n",
      "  10  2.60e-02  7.82e+01  3.76e+03  1.76e+02    1.35e+01      0   Skip BFGS  \n",
      "  11  1.73e-02  5.88e+01  4.26e+03  1.33e+02    1.02e+01      0   Skip BFGS  \n",
      "  12  1.16e-02  4.53e+01  4.78e+03  1.01e+02    7.83e+00      0   Skip BFGS  \n",
      "  13  7.71e-03  3.59e+01  5.31e+03  7.68e+01    6.01e+00      0   Skip BFGS  \n",
      "  14  5.14e-03  2.95e+01  5.86e+03  5.96e+01    4.58e+00      0   Skip BFGS  \n",
      "  15  3.43e-03  2.53e+01  6.40e+03  4.72e+01    3.46e+00      0   Skip BFGS  \n",
      "  16  2.28e-03  2.26e+01  6.91e+03  3.84e+01    2.63e+00      0   Skip BFGS  \n",
      "  17  1.52e-03  2.09e+01  7.40e+03  3.22e+01    2.04e+00      0   Skip BFGS  \n",
      "  18  1.01e-03  1.98e+01  7.87e+03  2.78e+01    1.65e+00      0   Skip BFGS  \n",
      "  19  6.77e-04  1.90e+01  8.37e+03  2.47e+01    1.48e+00      0   Skip BFGS  \n",
      "  20  4.51e-04  1.86e+01  8.95e+03  2.26e+01    2.47e+00      0   Skip BFGS  \n",
      "  21  3.01e-04  1.86e+01  8.97e+03  2.13e+01    2.50e+00      1   Skip BFGS  \n",
      "  22  2.00e-04  1.83e+01  9.46e+03  2.02e+01    1.51e+00      0              \n",
      "------------------------------------------------------------------\n",
      "0 :    ft     = 2.0220e+01 <= alp*descent     = 2.0220e+01\n",
      "1 : maxIterLS =      10    <= iterLS          =     10\n",
      "------------------------- End Linesearch -------------------------\n",
      "The linesearch got broken. Boo.\n"
     ]
    }
   ],
   "source": [
    "m0 = np.log(0.01)*np.ones(mesh.nC)\n",
    "xc, save, reg = run_MT1Dinv(\n",
    "    prob, survey, m0, alpha_s=1., alpha_z=1e6, beta0=1.5, use_target=False\n",
    ")"
   ]
  },
  {
   "cell_type": "code",
   "execution_count": 16,
   "metadata": {
    "collapsed": true
   },
   "outputs": [],
   "source": [
    "# load and plot the results\n",
    "header = [\n",
    "    \"iter\", \"beta\", \"phi_d\", \"phi_m\", \"phi_m_smalll\", \n",
    "    \"phi_m_smooth_x\", \"phi_m_smooth_y\", \"phi_m_smooth_z\", \"f\"\n",
    "]\n",
    "results = np.loadtxt(save.fileName+str(\".txt\"), comments=\"#\")\n",
    "beta = results[:,1]\n",
    "phi_d = results[:,2]\n",
    "phi_m = results[:,3]\n",
    "\n",
    "target_misfit = 2 * survey.nFreq / 2.\n",
    "i_target = 0\n",
    "while phi_d[i_target] > target_misfit:\n",
    "    i_target += 1    "
   ]
  },
  {
   "cell_type": "code",
   "execution_count": 17,
   "metadata": {},
   "outputs": [
    {
     "data": {
      "text/plain": [
       "<matplotlib.text.Text at 0x1199c8290>"
      ]
     },
     "execution_count": 17,
     "metadata": {},
     "output_type": "execute_result"
    },
    {
     "data": {
      "image/png": "[encoded data removed]",
      "text/plain": [
       "<matplotlib.figure.Figure at 0x11a874590>"
      ]
     },
     "metadata": {},
     "output_type": "display_data"
    }
   ],
   "source": [
    "plt.semilogy(results[:,0], results[:,2], 'k--')\n",
    "plt.semilogy(results[:,0], results[:,3], 'k')\n",
    "plt.semilogy(results[:,0], results[:,4], 'b')\n",
    "plt.semilogy(results[:,0], results[:,5], 'r')\n",
    "# plt.legend(\n",
    "#     (\"$\\phi_d$\",\"$\\phi_m$\", \"small\", \"smooth\"), \n",
    "#     fontsize = 10, loc=4\n",
    "# )\n",
    "plt.xlabel(\"Iteration\")\n",
    "plt.ylabel(\"Objective function\")"
   ]
  },
  {
   "cell_type": "code",
   "execution_count": 18,
   "metadata": {},
   "outputs": [
    {
     "data": {
      "image/png": "[encoded data removed]",
      "text/plain": [
       "<matplotlib.figure.Figure at 0x119923d50>"
      ]
     },
     "metadata": {},
     "output_type": "display_data"
    }
   ],
   "source": [
    "fig = plt.figure(figsize = (5, 8))\n",
    "ax1 = plt.subplot(311)\n",
    "ax2 = plt.subplot(312)\n",
    "ax3 = plt.subplot(313)\n",
    "\n",
    "ax1.plot(beta, phi_d, 'k-', lw=2, ms=4)\n",
    "ax1.plot(beta[i_target], phi_d[i_target], 'k*', ms=10)\n",
    "ax1.set_xlim(beta.min(), beta.max())\n",
    "ax1.set_xlabel(\"$\\\\beta$\", fontsize = 14)\n",
    "ax1.set_ylabel(\"$\\phi_d$\", fontsize = 14)\n",
    "\n",
    "ax2.plot(beta, phi_m, 'k-', lw=2)\n",
    "ax2.plot(beta[i_target], phi_m[i_target], 'k*', ms=10)\n",
    "ax2.set_xlim(beta.min(), beta.max())\n",
    "ax2.set_xlabel(\"$\\\\beta$\", fontsize = 14)\n",
    "ax2.set_ylabel(\"$\\phi_m$\", fontsize = 14)\n",
    "\n",
    "ax3.plot(phi_m, phi_d, 'k-', lw=2)\n",
    "ax3.plot(phi_m[i_target], phi_d[i_target], 'k*', ms=10)\n",
    "ax3.set_xlim(phi_m.min(), phi_m.max())\n",
    "ax3.set_xlabel(\"$\\phi_m$\", fontsize = 14)\n",
    "ax3.set_ylabel(\"$\\phi_d$\", fontsize = 14)\n",
    "for ax in [ax1, ax2, ax3]:\n",
    "    ax.set_xscale(\"log\")\n",
    "    ax.set_yscale(\"log\")    \n",
    "plt.tight_layout()"
   ]
  },
  {
   "cell_type": "code",
   "execution_count": 19,
   "metadata": {
    "collapsed": true
   },
   "outputs": [],
   "source": [
    "app_res = survey.dobs.reshape((survey.nFreq, 2))[:,0]\n",
    "phase = survey.dobs.reshape((survey.nFreq, 2))[:,1]"
   ]
  },
  {
   "cell_type": "code",
   "execution_count": 20,
   "metadata": {
    "collapsed": true
   },
   "outputs": [],
   "source": [
    "from ipywidgets import interact, IntSlider, ToggleButtons"
   ]
  },
  {
   "cell_type": "code",
   "execution_count": 21,
   "metadata": {},
   "outputs": [
    {
     "name": "stderr",
     "output_type": "stream",
     "text": [
      "Widget Javascript not detected.  It may not be installed or enabled properly.\n"
     ]
    },
    {
     "data": {
      "application/vnd.jupyter.widget-view+json": {
       "model_id": "3e685710f5874b048a5d0b425a4d3c64"
      }
     },
     "metadata": {},
     "output_type": "display_data"
    },
    {
     "data": {
      "text/plain": [
       "<function __main__.view_1Dinversion_results>"
      ]
     },
     "execution_count": 21,
     "metadata": {},
     "output_type": "execute_result"
    }
   ],
   "source": [
    "def view_1Dinversion_results(iteration, scale):\n",
    "    fig = plt.figure(figsize = (10, 5))\n",
    "    ax1 = plt.subplot(221)\n",
    "    ax2 = plt.subplot(222)\n",
    "    ax3 = plt.subplot(223)\n",
    "    ax4 = plt.subplot(224)\n",
    "\n",
    "    ax1.loglog(phi_m, phi_d, 'k-', lw=2)\n",
    "    ax1.loglog(phi_m[i_target], phi_d[i_target], 'k*', ms=10)\n",
    "    ax1.loglog(phi_m[iteration], phi_d[iteration], 'ro', ms=10)\n",
    "    ax1.set_xlim(phi_m.min(), phi_m.max())\n",
    "    ax1.set_xlabel(\"$\\phi_m$\", fontsize = 14)\n",
    "    ax1.set_ylabel(\"$\\phi_d$\", fontsize = 14)\n",
    "    ax1.set_xscale(scale)\n",
    "    temp = xc[iteration]\n",
    "    sigtrue = np.repeat(sigma, 2, axis=0)\n",
    "    z = np.repeat(mesh.vectorCCx[1:], 2, axis=0)\n",
    "    z = np.r_[mesh.vectorCCx[0], z, mesh.vectorCCx[-1]]\n",
    "    ax3.plot(-z, sigtrue, 'k', lw=2)\n",
    "    ax3.plot(-mesh.vectorCCx, np.exp(temp), 'k--', lw=2)\n",
    "    ax3.set_xscale(\"linear\")\n",
    "    ax3.set_yscale(\"log\")\n",
    "    ax3.set_ylabel(\"Conductivity (S/m)\")\n",
    "    ax3.set_xlabel(\"Depth (m)\")\n",
    "    ax3.grid(True, which='both')\n",
    "    ax3.set_ylim(2e-3, 2e-1)\n",
    "    ax3.set_xlim((-z).min(), max_depth_core)\n",
    "\n",
    "    dpred = survey.dpred(xc[iteration])\n",
    "    app_res_pred = dpred.reshape((survey.nFreq, 2))[:,0]\n",
    "    phase_pred = dpred.reshape((survey.nFreq, 2))[:,1]\n",
    "    ax2.loglog(frequency, app_res, 'k-', lw=2)\n",
    "    ax2.loglog(frequency, app_res_pred, 'kx', markeredgewidth=1)\n",
    "    ax2.grid(True, which='both')\n",
    "    ax2.set_xlim(frequency.max(), frequency.min())\n",
    "    ax2.set_ylim(10, 3e2)\n",
    "    ax2.set_xlabel(\"Frequency (Hz)\")\n",
    "    ax2.set_ylabel(\"$\\\\rho_a \\ (\\Omega m)$\", fontsize = 14)\n",
    "\n",
    "    ax4.semilogx(frequency, phase, 'k-', lw=2)\n",
    "    ax4.semilogx(frequency, phase_pred, 'kx', markeredgewidth=1)\n",
    "\n",
    "    ax4.grid(True, which='both')\n",
    "    ax4.set_xlim(frequency.max(), frequency.min())\n",
    "    ax4.set_xlabel(\"Frequency (Hz)\")\n",
    "    ax4.set_ylabel(\"Phase (degree)\")\n",
    "    plt.tight_layout()\n",
    "    plt.show()\n",
    "    \n",
    "interact(view_1Dinversion_results, \n",
    "         iteration=IntSlider(min=0, max=results.shape[0]-1, step=1, value=0),\n",
    "         scale=ToggleButtons(options=[\"linear\", \"log\"], value=\"log\"))"
   ]
  },
  {
   "cell_type": "code",
   "execution_count": 22,
   "metadata": {
    "collapsed": true
   },
   "outputs": [],
   "source": [
    "def MT1D_inv_results(xc, iteration):\n",
    "    fig, ax = plt.subplots(3, 1, figsize = (8, 9))\n",
    "\n",
    "    temp = xc[iteration]\n",
    "    sigtrue = np.repeat(sigma, 2, axis=0)\n",
    "    z = np.repeat(mesh.vectorCCx[1:], 2, axis=0)\n",
    "    z = np.r_[mesh.vectorCCx[0], z, mesh.vectorCCx[-1]]\n",
    "    ax1.plot(-z, sigtrue, 'k', lw=2)\n",
    "    ax1.plot(-mesh.vectorCCx, np.exp(temp), 'k--', lw=2)\n",
    "    ax1.set_xscale(\"linear\")\n",
    "    ax1.set_yscale(\"log\")\n",
    "    ax1.set_ylabel(\"Conductivity (S/m)\")\n",
    "    ax1.set_xlabel(\"Depth (m)\")\n",
    "    ax1.grid(True, which='both')\n",
    "    ax1.set_ylim(2e-3, 4e-1)\n",
    "    ax1.set_xlim((-z).min(), max_depth_core)\n",
    "\n",
    "    dpred = survey.dpred(xc[iteration])\n",
    "    app_res_pred = dpred.reshape((survey.nFreq, 2))[:,0]\n",
    "    phase_pred = dpred.reshape((survey.nFreq, 2))[:,1]\n",
    "    ax2.loglog(frequency, app_res, 'k-', lw=2)\n",
    "    ax2.loglog(frequency, app_res_pred, 'kx', markeredgewidth=1)\n",
    "    ax2.grid(True, which='both')\n",
    "    ax2.set_xlim(frequency.max(), frequency.min())\n",
    "    ax2.set_ylim(10, 3e2)\n",
    "    ax2.set_xlabel(\"Frequency (Hz)\")\n",
    "    ax2.set_ylabel(\"$\\\\rho_a \\ (\\Omega m)$\", fontsize = 14)\n",
    "\n",
    "    ax3.semilogx(frequency, phase, 'k-', lw=2)\n",
    "    ax3.semilogx(frequency, phase_pred, 'kx', markeredgewidth=1)\n",
    "\n",
    "    ax3.grid(True, which='both')\n",
    "    ax3.set_xlim(frequency.max(), frequency.min())\n",
    "    ax3.set_xlabel(\"Frequency (Hz)\")\n",
    "    ax3.set_ylabel(\"$\\phi \\ (^{\\circ})$\", fontsize = 14)\n",
    "    plt.tight_layout()"
   ]
  },
  {
   "cell_type": "code",
   "execution_count": 23,
   "metadata": {},
   "outputs": [
    {
     "ename": "TypeError",
     "evalue": "run_MT1Dinv() got an unexpected keyword argument 'alpha_x'",
     "output_type": "error",
     "traceback": [
      "\u001b[0;31m---------------------------------------------------------------------------\u001b[0m",
      "\u001b[0;31mTypeError\u001b[0m                                 Traceback (most recent call last)",
      "\u001b[0;32m<ipython-input-23-fc16da6f156f>\u001b[0m in \u001b[0;36m<module>\u001b[0;34m()\u001b[0m\n\u001b[1;32m      3\u001b[0m                                    \u001b[0mbeta0\u001b[0m\u001b[0;34m=\u001b[0m\u001b[0mbeta\u001b[0m\u001b[0;34m[\u001b[0m\u001b[0mi_target\u001b[0m\u001b[0;34m]\u001b[0m\u001b[0;34m*\u001b[0m\u001b[0;36m10\u001b[0m\u001b[0;34m,\u001b[0m \u001b[0mcoolingFactor\u001b[0m\u001b[0;34m=\u001b[0m\u001b[0;36m2.\u001b[0m\u001b[0;34m,\u001b[0m \u001b[0mcoolingRate\u001b[0m\u001b[0;34m=\u001b[0m\u001b[0;36m3\u001b[0m\u001b[0;34m,\u001b[0m\u001b[0;34m\u001b[0m\u001b[0m\n\u001b[1;32m      4\u001b[0m                                    \u001b[0malpha_s\u001b[0m\u001b[0;34m=\u001b[0m\u001b[0;36m1.\u001b[0m\u001b[0;34m,\u001b[0m \u001b[0malpha_x\u001b[0m\u001b[0;34m=\u001b[0m\u001b[0;36m1.\u001b[0m\u001b[0;34m,\u001b[0m\u001b[0;34m\u001b[0m\u001b[0m\n\u001b[0;32m----> 5\u001b[0;31m                                    use_target=True)\n\u001b[0m",
      "\u001b[0;31mTypeError\u001b[0m: run_MT1Dinv() got an unexpected keyword argument 'alpha_x'"
     ]
    }
   ],
   "source": [
    "m0 = np.log(0.01) * np.ones(mesh.nC)\n",
    "xc_fixed, save_fixed, reg = run_MT1Dinv(prob, survey, m0,\n",
    "                                   beta0=beta[i_target]*10, coolingFactor=2., coolingRate=3,\n",
    "                                   alpha_s=1., alpha_x=1.,\n",
    "                                   use_target=True)"
   ]
  },
  {
   "cell_type": "code",
   "execution_count": null,
   "metadata": {
    "collapsed": true
   },
   "outputs": [],
   "source": [
    "smooth = reg.objfcts[1]"
   ]
  },
  {
   "cell_type": "code",
   "execution_count": null,
   "metadata": {
    "collapsed": true
   },
   "outputs": [],
   "source": [
    "reg.regmesh"
   ]
  },
  {
   "cell_type": "code",
   "execution_count": null,
   "metadata": {
    "collapsed": true
   },
   "outputs": [],
   "source": [
    "MT1D_inv_results(xc_fixed, -1)"
   ]
  },
  {
   "cell_type": "code",
   "execution_count": null,
   "metadata": {
    "collapsed": true
   },
   "outputs": [],
   "source": [
    "m0 = np.log(0.01) * np.ones(mesh.nC)\n",
    "xc_fixed, save_fixed, reg = run_MT1Dinv(prob, survey, m0,\n",
    "                                   coolingFactor=2., coolingRate=3,\n",
    "                                   alpha_s=1., alpha_x=0., beta0 = beta[i_target]*10,\n",
    "                                   use_target=True, use_betaest=True)"
   ]
  },
  {
   "cell_type": "code",
   "execution_count": null,
   "metadata": {
    "collapsed": true
   },
   "outputs": [],
   "source": [
    "MT1D_inv_results(xc_fixed, -1)"
   ]
  },
  {
   "cell_type": "code",
   "execution_count": null,
   "metadata": {
    "collapsed": true
   },
   "outputs": [],
   "source": [
    "m0 = np.log(0.01) * np.ones(mesh.nC)\n",
    "xc_fixed, save_fixed, reg = run_MT1Dinv(prob, survey, m0,\n",
    "                                   coolingFactor=2., coolingRate=3,\n",
    "                                   alpha_s=0., alpha_x=1., beta0 = beta[i_target]*10,\n",
    "                                   use_target=True, use_betaest=True)"
   ]
  },
  {
   "cell_type": "code",
   "execution_count": null,
   "metadata": {
    "collapsed": true
   },
   "outputs": [],
   "source": [
    "MT1D_inv_results(xc_fixed, -1)"
   ]
  },
  {
   "cell_type": "code",
   "execution_count": null,
   "metadata": {
    "collapsed": true
   },
   "outputs": [],
   "source": []
  }
 ],
 "metadata": {
  "anaconda-cloud": {},
  "kernelspec": {
   "display_name": "Python 2",
   "language": "python",
   "name": "python2"
  },
  "language_info": {
   "codemirror_mode": {
    "name": "ipython",
    "version": 2
   },
   "file_extension": ".py",
   "mimetype": "text/x-python",
   "name": "python",
   "nbconvert_exporter": "python",
   "pygments_lexer": "ipython2",
   "version": "2.7.13"
  }
 },
 "nbformat": 4,
 "nbformat_minor": 2
}
